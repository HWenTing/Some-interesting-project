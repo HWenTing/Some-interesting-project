{
 "cells": [
  {
   "cell_type": "code",
   "execution_count": 20,
   "metadata": {},
   "outputs": [],
   "source": [
    "import pandas as pd\n",
    "import numpy as np\n",
    "import collections #统计\n",
    "import nltk #自然语言处理包\n",
    "from nltk.collocations import * \n",
    "from gensim.models import word2vec #词向量\n",
    "import re"
   ]
  },
  {
   "cell_type": "markdown",
   "metadata": {},
   "source": [
    "### 以句子为单位分"
   ]
  },
  {
   "cell_type": "code",
   "execution_count": 26,
   "metadata": {},
   "outputs": [],
   "source": [
    "dynasty=''\n",
    "path = r'C:/Users/HP/新建文件夹/pa_chong/poem/朝代/唐代total.csv'\n",
    "f=open(path,'rb')\n",
    "content = pd.read_csv(f, header=None)[1:]\n",
    "f.close()\n",
    "poems=content[3]"
   ]
  },
  {
   "cell_type": "code",
   "execution_count": 27,
   "metadata": {},
   "outputs": [],
   "source": [
    "def make_sentence(poem):\n",
    "    sentence = [i for i in re.split('[。?!]', poem) if len(i)>1]\n",
    "    return sentence"
   ]
  },
  {
   "cell_type": "code",
   "execution_count": 34,
   "metadata": {},
   "outputs": [],
   "source": [
    "pos=1\n",
    "length= len(poems)\n"
   ]
  },
  {
   "cell_type": "code",
   "execution_count": 35,
   "metadata": {},
   "outputs": [],
   "source": [
    "sentence=[]"
   ]
  },
  {
   "cell_type": "code",
   "execution_count": 36,
   "metadata": {},
   "outputs": [
    {
     "name": "stdout",
     "output_type": "stream",
     "text": [
      "1000\n",
      "2000\n",
      "3000\n",
      "4000\n",
      "5000\n",
      "6000\n",
      "7000\n",
      "8000\n",
      "9000\n",
      "10000\n",
      "11000\n",
      "12000\n",
      "13000\n",
      "14000\n",
      "15000\n",
      "16000\n",
      "17000\n",
      "18000\n",
      "19000\n",
      "20000\n",
      "21000\n",
      "22000\n",
      "23000\n",
      "24000\n",
      "25000\n",
      "26000\n",
      "27000\n",
      "28000\n",
      "29000\n",
      "30000\n",
      "31000\n",
      "32000\n",
      "33000\n",
      "34000\n",
      "35000\n",
      "36000\n",
      "37000\n",
      "38000\n",
      "39000\n",
      "40000\n",
      "41000\n",
      "42000\n",
      "43000\n",
      "44000\n",
      "45000\n",
      "46000\n",
      "47000\n",
      "48000\n",
      "49000\n",
      "50000\n"
     ]
    }
   ],
   "source": [
    "try:\n",
    "    while pos<=length:\n",
    "        words=[]\n",
    "        try:\n",
    "            for i in range(1,length+1):\n",
    "                words=words+make_sentence(poems.get(pos))\n",
    "                pos=pos+1\n",
    "                if(pos%1000==0):\n",
    "                    print(pos)\n",
    "                    break\n",
    "        except Exception as e:\n",
    "            pass\n",
    "        sentence=sentence+words\n",
    "except Exception as e:\n",
    "    print(e)"
   ]
  },
  {
   "cell_type": "code",
   "execution_count": 37,
   "metadata": {},
   "outputs": [
    {
     "data": {
      "text/plain": [
       "266039"
      ]
     },
     "execution_count": 37,
     "metadata": {},
     "output_type": "execute_result"
    }
   ],
   "source": [
    "len(sentence)"
   ]
  },
  {
   "cell_type": "code",
   "execution_count": 38,
   "metadata": {},
   "outputs": [],
   "source": [
    "model=word2vec.Word2Vec(sentence,min_count=3, size=100, window=5, workers=4)"
   ]
  },
  {
   "cell_type": "code",
   "execution_count": 44,
   "metadata": {},
   "outputs": [],
   "source": [
    "def get_emotion(emotion,layer1,layer2,re):\n",
    "    dit = {}\n",
    "    try:\n",
    "        dict_emotion={emotion:1}\n",
    "        for i in model.wv.most_similar(emotion,topn=layer1): \n",
    "            dict_emotion[i[0]]=dict_emotion.get(i[0],0)+i[1]\n",
    "            for j in model.wv.most_similar(i[0],topn=layer2):\n",
    "                dict_emotion[j[0]]=dict_emotion.get(j[0],0)+i[1]*j[1]\n",
    "        sortlist=sorted(dict_emotion.items(),key = lambda x:x[1],reverse = True)[:re]\n",
    "        \n",
    "        for i in sortlist:\n",
    "            dit[i[0]] = i[1]\n",
    "        return dit,sortlist\n",
    "    except Exception as e:\n",
    "#         print(e)\n",
    "        return dit,0\n",
    "\n",
    "\n",
    "def getScore(poem,layer1,layer2,re):\n",
    "#     emotions=['喜','怒','忧','思','悲','恐','惊']\n",
    "    emotions=['悲','惧','乐','怒','思','喜','忧']\n",
    "    type_probability={}\n",
    "    for emotion in emotions:\n",
    "        dit,temp=get_emotion(emotion,layer1,layer2,re)\n",
    "        score=0\n",
    "        for i in poem:\n",
    "            score+=dit.get(i,0)\n",
    "        score=score/len(poem)\n",
    "        type_probability[emotion]=score\n",
    "    type_probability.values()\n",
    "#     print(type_probability)\n",
    "    total_score=sum(list(type_probability.values()))\n",
    "    if total_score==0:\n",
    "        return '未知分类','未知分类'\n",
    "    most =sorted(type_probability.items(),key = lambda x:x[1],reverse = True)[0:2]\n",
    "\n",
    "    return most[0][0]\n",
    "\n",
    "\n",
    "def distribution(poems,layer1=100,layer2=5,re=500):\n",
    "    distribute_dict={}\n",
    "    i=20000\n",
    "    length = len(poems)\n",
    "    for poem in poems[20000:21000]:\n",
    "        i=i+1\n",
    "        t=getScore(poem,layer1,layer2,re)\n",
    "        \n",
    "        distribute_dict[t]=distribute_dict.get(t,0)+1\n",
    "#         distribute_dict[s]=distribute_dict.get(s,0)+1\n",
    "        if i%100==0:\n",
    "            print(str(i)+\"       -------------\"+str(i/length))\n",
    "            \n",
    "    return distribute_dict"
   ]
  },
  {
   "cell_type": "code",
   "execution_count": 45,
   "metadata": {},
   "outputs": [],
   "source": [
    "def getPoems(dynasty):\n",
    "    path = r'C:/Users/HP/新建文件夹/pa_chong/poem/朝代/'+dynasty+r'total.csv'\n",
    "    f=open(path,'rb')\n",
    "    content = pd.read_csv(f, header=None)[1:]\n",
    "    f.close()\n",
    "    poem=content[3]\n",
    "    return poem"
   ]
  },
  {
   "cell_type": "code",
   "execution_count": 46,
   "metadata": {},
   "outputs": [],
   "source": [
    "dynasty = '唐代'\n",
    "poems = getPoems(dynasty)"
   ]
  },
  {
   "cell_type": "code",
   "execution_count": 47,
   "metadata": {},
   "outputs": [
    {
     "name": "stdout",
     "output_type": "stream",
     "text": [
      "20100       -------------0.3979646385649514\n",
      "20200       -------------0.3999445621399014\n",
      "20300       -------------0.4019244857148514\n",
      "20400       -------------0.4039044092898014\n",
      "20500       -------------0.4058843328647514\n",
      "20600       -------------0.4078642564397014\n",
      "20700       -------------0.40984418001465145\n",
      "20800       -------------0.4118241035896014\n",
      "20900       -------------0.41380402716455145\n",
      "21000       -------------0.4157839507395015\n"
     ]
    }
   ],
   "source": [
    "fenbu = distribution(poems)"
   ]
  },
  {
   "cell_type": "code",
   "execution_count": 48,
   "metadata": {},
   "outputs": [
    {
     "data": {
      "text/plain": [
       "{('未知分类', '未知分类'): 1,\n",
       " '乐': 39,\n",
       " '喜': 243,\n",
       " '忧': 7,\n",
       " '怒': 22,\n",
       " '思': 561,\n",
       " '悲': 117,\n",
       " '惧': 10}"
      ]
     },
     "execution_count": 48,
     "metadata": {},
     "output_type": "execute_result"
    }
   ],
   "source": [
    "fenbu"
   ]
  },
  {
   "cell_type": "code",
   "execution_count": null,
   "metadata": {},
   "outputs": [],
   "source": []
  }
 ],
 "metadata": {
  "kernelspec": {
   "display_name": "Python 3",
   "language": "python",
   "name": "python3"
  },
  "language_info": {
   "codemirror_mode": {
    "name": "ipython",
    "version": 3
   },
   "file_extension": ".py",
   "mimetype": "text/x-python",
   "name": "python",
   "nbconvert_exporter": "python",
   "pygments_lexer": "ipython3",
   "version": "3.6.4"
  }
 },
 "nbformat": 4,
 "nbformat_minor": 2
}
