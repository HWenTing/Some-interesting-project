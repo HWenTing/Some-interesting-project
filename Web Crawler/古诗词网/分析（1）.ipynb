{
 "cells": [
  {
   "cell_type": "markdown",
   "metadata": {},
   "source": [
    "### 导包"
   ]
  },
  {
   "cell_type": "code",
   "execution_count": 1,
   "metadata": {},
   "outputs": [
    {
     "name": "stderr",
     "output_type": "stream",
     "text": [
      "ERROR:lml.utils:failed to import pyecharts_snapshot\n",
      "Traceback (most recent call last):\n",
      "  File \"D:\\Anaconda\\lib\\site-packages\\lml\\utils.py\", line 43, in do_import\n",
      "    plugin_module = __import__(plugin_module_name)\n",
      "ModuleNotFoundError: No module named 'pyecharts_snapshot'\n",
      "D:\\Anaconda\\lib\\site-packages\\gensim\\utils.py:1197: UserWarning: detected Windows; aliasing chunkize to chunkize_serial\n",
      "  warnings.warn(\"detected Windows; aliasing chunkize to chunkize_serial\")\n"
     ]
    }
   ],
   "source": [
    "import pandas as pd\n",
    "import numpy as np\n",
    "import collections #统计\n",
    "from wordcloud import WordCloud,ImageColorGenerator #分词\n",
    "import matplotlib.pyplot as plt #作图\n",
    "from pyecharts import Pie #作图\n",
    "from pyecharts import Bar, Line,Overlap #作图\n",
    "import pygal #作图\n",
    "import operator  \n",
    "import nltk #自然语言处理包\n",
    "from nltk.collocations import * \n",
    "from gensim.models import word2vec #词向量\n",
    "import re"
   ]
  },
  {
   "cell_type": "markdown",
   "metadata": {},
   "source": [
    "### 对文本进行分词，单个字"
   ]
  },
  {
   "cell_type": "code",
   "execution_count": 3,
   "metadata": {},
   "outputs": [],
   "source": [
    "# 对文本进行分词，单个字\n",
    "stopWords=\"而|何|乎|乃|其|且|若|所|为|焉|也|以|因|于|与|则|者|之|然|是|此|斯|彼|孰|胡|曷|虽|矣|哉|耳\"\n",
    "def cut_word(text):\n",
    "    words =[e for e in text if (e.isalnum() and e not in stopWords)]\n",
    "    return words"
   ]
  },
  {
   "cell_type": "code",
   "execution_count": 101,
   "metadata": {},
   "outputs": [],
   "source": [
    "# dynasty=r'宋代'\n",
    "# path = r'C:/Users/HP/新建文件夹/pa_chong/poem/朝代/'+dynasty+r'total.csv'\n",
    "# path2 = r'C:/Users/HP/新建文件夹/pa_chong/poem/朝代/'+dynasty+r'.txt'\n",
    "path = r'C:/Users/HP/新建文件夹/pa_chong/poem/total.csv'\n",
    "path2 = r'C:/Users/HP/新建文件夹/pa_chong/poem/total.txt'\n",
    "f=open(path,'rb')\n",
    "content = pd.read_csv(f, header=None)[1:]\n",
    "f.close()\n",
    "poem=content[3]\n",
    "pos=1\n",
    "length= len(poem)"
   ]
  },
  {
   "cell_type": "code",
   "execution_count": 102,
   "metadata": {},
   "outputs": [
    {
     "name": "stdout",
     "output_type": "stream",
     "text": [
      "1000\n",
      "2000\n",
      "3000\n",
      "4000\n",
      "5000\n",
      "6000\n",
      "7000\n",
      "8000\n",
      "9000\n",
      "10000\n",
      "11000\n",
      "12000\n",
      "13000\n",
      "14000\n",
      "15000\n",
      "16000\n",
      "17000\n",
      "18000\n",
      "19000\n",
      "20000\n",
      "21000\n",
      "22000\n",
      "23000\n",
      "24000\n",
      "25000\n",
      "26000\n",
      "27000\n",
      "28000\n",
      "29000\n",
      "30000\n",
      "31000\n",
      "32000\n",
      "33000\n",
      "34000\n",
      "35000\n",
      "36000\n",
      "37000\n",
      "38000\n",
      "39000\n",
      "40000\n",
      "41000\n",
      "42000\n",
      "43000\n",
      "44000\n",
      "45000\n",
      "46000\n",
      "47000\n",
      "48000\n",
      "49000\n",
      "50000\n",
      "51000\n",
      "52000\n",
      "53000\n",
      "54000\n",
      "55000\n",
      "56000\n",
      "57000\n",
      "58000\n",
      "59000\n",
      "60000\n",
      "61000\n",
      "62000\n",
      "63000\n",
      "64000\n",
      "65000\n",
      "66000\n",
      "67000\n",
      "68000\n",
      "69000\n",
      "70000\n",
      "71000\n",
      "72000\n",
      "73000\n",
      "74000\n",
      "75000\n",
      "76000\n",
      "77000\n",
      "78000\n",
      "79000\n",
      "80000\n",
      "81000\n",
      "82000\n",
      "83000\n",
      "84000\n",
      "85000\n",
      "86000\n",
      "87000\n",
      "88000\n",
      "89000\n",
      "90000\n",
      "91000\n",
      "92000\n",
      "93000\n",
      "94000\n",
      "95000\n",
      "96000\n",
      "97000\n",
      "98000\n",
      "99000\n",
      "100000\n",
      "101000\n",
      "102000\n",
      "103000\n",
      "104000\n",
      "105000\n",
      "106000\n",
      "107000\n",
      "108000\n",
      "109000\n",
      "110000\n",
      "111000\n",
      "112000\n",
      "113000\n",
      "114000\n",
      "115000\n",
      "116000\n",
      "117000\n",
      "118000\n",
      "119000\n",
      "120000\n",
      "121000\n",
      "122000\n",
      "123000\n",
      "124000\n",
      "125000\n",
      "126000\n",
      "127000\n",
      "128000\n",
      "129000\n",
      "130000\n",
      "131000\n",
      "132000\n",
      "133000\n",
      "134000\n",
      "135000\n",
      "136000\n",
      "137000\n",
      "138000\n",
      "139000\n",
      "140000\n",
      "141000\n",
      "142000\n",
      "143000\n",
      "144000\n",
      "145000\n",
      "146000\n",
      "147000\n",
      "148000\n",
      "149000\n",
      "150000\n",
      "151000\n",
      "152000\n",
      "153000\n",
      "154000\n",
      "155000\n",
      "156000\n",
      "157000\n",
      "158000\n",
      "159000\n",
      "160000\n",
      "161000\n",
      "162000\n",
      "163000\n",
      "164000\n",
      "165000\n",
      "166000\n",
      "167000\n",
      "168000\n",
      "169000\n",
      "170000\n",
      "171000\n",
      "172000\n",
      "173000\n",
      "174000\n",
      "175000\n",
      "176000\n",
      "177000\n",
      "178000\n",
      "179000\n",
      "180000\n",
      "181000\n",
      "182000\n",
      "183000\n",
      "184000\n",
      "185000\n",
      "186000\n",
      "187000\n",
      "188000\n",
      "189000\n",
      "190000\n",
      "191000\n",
      "192000\n",
      "193000\n",
      "194000\n",
      "195000\n",
      "196000\n",
      "197000\n",
      "198000\n",
      "199000\n",
      "200000\n",
      "201000\n",
      "202000\n",
      "203000\n",
      "204000\n",
      "205000\n",
      "206000\n",
      "207000\n",
      "208000\n",
      "209000\n",
      "210000\n",
      "211000\n",
      "212000\n",
      "213000\n",
      "214000\n",
      "215000\n",
      "216000\n",
      "217000\n",
      "218000\n",
      "219000\n",
      "220000\n",
      "221000\n",
      "222000\n",
      "223000\n",
      "224000\n",
      "225000\n",
      "226000\n",
      "227000\n",
      "228000\n",
      "229000\n",
      "230000\n",
      "231000\n",
      "232000\n",
      "233000\n",
      "234000\n",
      "235000\n",
      "236000\n",
      "237000\n",
      "238000\n",
      "239000\n",
      "240000\n",
      "241000\n",
      "242000\n",
      "243000\n",
      "244000\n",
      "245000\n",
      "246000\n",
      "247000\n",
      "248000\n",
      "249000\n",
      "250000\n",
      "251000\n",
      "252000\n",
      "253000\n",
      "254000\n",
      "255000\n",
      "256000\n",
      "257000\n",
      "258000\n",
      "259000\n",
      "260000\n",
      "261000\n",
      "262000\n",
      "263000\n",
      "264000\n",
      "265000\n",
      "266000\n",
      "267000\n",
      "268000\n",
      "269000\n",
      "270000\n",
      "271000\n",
      "272000\n",
      "273000\n",
      "274000\n",
      "275000\n",
      "276000\n",
      "277000\n",
      "278000\n",
      "279000\n",
      "280000\n",
      "281000\n",
      "282000\n",
      "283000\n",
      "284000\n",
      "285000\n",
      "286000\n",
      "287000\n",
      "288000\n",
      "289000\n",
      "290000\n",
      "291000\n",
      "292000\n",
      "293000\n",
      "294000\n",
      "295000\n",
      "296000\n",
      "297000\n",
      "298000\n",
      "299000\n",
      "300000\n",
      "301000\n",
      "302000\n",
      "303000\n",
      "304000\n",
      "305000\n",
      "306000\n",
      "307000\n",
      "308000\n",
      "309000\n",
      "310000\n",
      "311000\n",
      "312000\n",
      "313000\n",
      "314000\n",
      "315000\n",
      "316000\n",
      "317000\n",
      "318000\n",
      "319000\n",
      "320000\n",
      "321000\n",
      "322000\n",
      "323000\n",
      "324000\n",
      "325000\n",
      "326000\n",
      "327000\n",
      "328000\n",
      "329000\n",
      "330000\n",
      "331000\n",
      "332000\n",
      "333000\n",
      "334000\n",
      "335000\n",
      "336000\n",
      "337000\n",
      "338000\n",
      "339000\n",
      "340000\n",
      "341000\n",
      "342000\n",
      "343000\n",
      "344000\n",
      "345000\n",
      "346000\n",
      "347000\n",
      "348000\n",
      "349000\n",
      "350000\n",
      "351000\n",
      "352000\n",
      "353000\n",
      "354000\n",
      "355000\n",
      "356000\n",
      "357000\n",
      "358000\n",
      "359000\n",
      "360000\n",
      "361000\n",
      "362000\n",
      "363000\n",
      "364000\n",
      "365000\n",
      "366000\n",
      "367000\n",
      "368000\n",
      "369000\n",
      "370000\n",
      "371000\n",
      "372000\n",
      "373000\n",
      "374000\n",
      "375000\n",
      "376000\n",
      "377000\n",
      "378000\n",
      "379000\n",
      "380000\n",
      "381000\n",
      "382000\n",
      "383000\n",
      "384000\n",
      "385000\n",
      "386000\n",
      "387000\n"
     ]
    }
   ],
   "source": [
    "try:\n",
    "    while pos<=length:\n",
    "        words=[]\n",
    "        try:\n",
    "            for i in range(1,length+1):\n",
    "                words=words+cut_word(poem.get(pos))\n",
    "                pos=pos+1\n",
    "                if(pos%1000==0):\n",
    "                    print(pos)\n",
    "                    break\n",
    "        except Exception as e:\n",
    "            pass\n",
    "        f = open(path2,'a+',encoding='utf-8')\n",
    "        for word in words:\n",
    "            f.write(word)\n",
    "        f.close()\n",
    "except Exception as e:\n",
    "    print(e)"
   ]
  },
  {
   "cell_type": "markdown",
   "metadata": {},
   "source": [
    "### 读取诗词内容(未中断版)"
   ]
  },
  {
   "cell_type": "code",
   "execution_count": 85,
   "metadata": {},
   "outputs": [
    {
     "name": "stdout",
     "output_type": "stream",
     "text": [
      "50\n",
      "100\n"
     ]
    }
   ],
   "source": [
    "# 读取诗词内容\n",
    "dynasty=r'隋代'\n",
    "path = r'C:/Users/HP/新建文件夹/pa_chong/poem/朝代/'+dynasty+r'total.csv'\n",
    "f=open(path,'rb')\n",
    "content = pd.read_csv(f, header=None)[1:]\n",
    "f.close()\n",
    "poem=content[3]\n",
    "words=[]\n",
    "i=0\n",
    "for item in poem:\n",
    "    i=i+1\n",
    "    if(i%50==0):\n",
    "        print(i)\n",
    "    words=words+cut_word(item)\n",
    "    \n"
   ]
  },
  {
   "cell_type": "code",
   "execution_count": 86,
   "metadata": {},
   "outputs": [],
   "source": [
    "\n",
    "# 将分词结果写入文件\n",
    "\n",
    "path = r'C:/Users/HP/新建文件夹/pa_chong/poem/朝代/'+dynasty+r'.txt'\n",
    "\n",
    "f = open(path,'w+',encoding='utf-8')\n",
    "for word in words:\n",
    "    f.write(word)\n",
    "f.close()"
   ]
  },
  {
   "cell_type": "code",
   "execution_count": 29,
   "metadata": {},
   "outputs": [],
   "source": [
    "path2 = r'C:/Users/HP/新建文件夹/pa_chong/poem/朝代/唐代.txt'\n"
   ]
  },
  {
   "cell_type": "code",
   "execution_count": 30,
   "metadata": {},
   "outputs": [],
   "source": [
    "# 从文件读取分词\n",
    "with open(path2,encoding='utf-8') as f:\n",
    "    line = f.readline()\n",
    "words = list(line)"
   ]
  },
  {
   "cell_type": "markdown",
   "metadata": {},
   "source": [
    "### 词频统计"
   ]
  },
  {
   "cell_type": "code",
   "execution_count": 44,
   "metadata": {},
   "outputs": [],
   "source": [
    "# 词频统计\n",
    "mycount = collections.Counter(words)\n",
    "i = 1\n",
    "for key, val in mycount.most_common(40):  # 有序（返回前x个）\n",
    "    print(i,'\\t',key,'\\t', val)\n",
    "    i = i+1"
   ]
  },
  {
   "cell_type": "markdown",
   "metadata": {},
   "source": [
    "### 生成词云"
   ]
  },
  {
   "cell_type": "code",
   "execution_count": 38,
   "metadata": {},
   "outputs": [
    {
     "data": {
      "image/png": "[encoded data removed]",
      "text/plain": [
       "<matplotlib.figure.Figure at 0x16b0a2e2a58>"
      ]
     },
     "metadata": {},
     "output_type": "display_data"
    },
    {
     "data": {
      "text/plain": [
       "<matplotlib.figure.Figure at 0x16b0b48c780>"
      ]
     },
     "metadata": {},
     "output_type": "display_data"
    },
    {
     "data": {
      "text/plain": [
       "<wordcloud.wordcloud.WordCloud at 0x16b0a4a6e48>"
      ]
     },
     "execution_count": 38,
     "metadata": {},
     "output_type": "execute_result"
    }
   ],
   "source": [
    "# 生成词云\n",
    "font_path = \"D:\\Fonts\\simkai.ttf\"#字体路径\n",
    "wc = WordCloud(\n",
    "    background_color=\"white\", #背景颜色\n",
    "    max_words=500, #显示最大词数\n",
    "    font_path=font_path,\n",
    "    min_font_size=5,\n",
    "    max_font_size=100, \n",
    "    mask=plt.imread(\"poem2.jpg\"),\n",
    ")\n",
    "wc.generate_from_frequencies(mycount)\n",
    "back_coloring = plt.imread(\"poem2.jpg\")\n",
    "image_colors = ImageColorGenerator(back_coloring)\n",
    "plt.imshow(wc.recolor(color_func=image_colors))\n",
    "# 绘制背景图片为颜色的图片\n",
    "plt.axis(\"off\")\n",
    "plt.figure()\n",
    "# plt.imshow(back_coloring, cmap=plt.cm.gray)\n",
    "plt.show()\n",
    "# 保存图片\n",
    "wc.to_file(\"wordcloud.jpg\")"
   ]
  },
  {
   "cell_type": "code",
   "execution_count": null,
   "metadata": {},
   "outputs": [],
   "source": []
  },
  {
   "cell_type": "markdown",
   "metadata": {},
   "source": [
    "### 对四季的处理"
   ]
  },
  {
   "cell_type": "code",
   "execution_count": 51,
   "metadata": {},
   "outputs": [],
   "source": []
  },
  {
   "cell_type": "code",
   "execution_count": 43,
   "metadata": {},
   "outputs": [],
   "source": [
    "# 查询季节出现的频率\n",
    "season = {'春':0,'夏':0,'秋':0,'冬':0}\n",
    "for s in list(season.keys()):\n",
    "    season[s] = mycount.get(s,0)\n",
    "print(season)\n",
    "\n",
    "# 制作季节分布饼图\n",
    "attr = ['春', '夏', '秋', '冬']\n",
    "value = [season.get(\"春\",0),season.get(\"夏\",0),season.get(\"秋\",0), season.get(\"冬\",0)]\n",
    "pie = Pie('诗词季节分析示意图', title_pos='center', width=900)\n",
    "pie.add('7-17', attr, value, center=[75, 50], is_random=True,\n",
    "        radius=[30, 75], rosetype='area',\n",
    "        is_legend_show=False, is_label_show=True)\n",
    "pie\n",
    "\n",
    "\n",
    "# labels = ['春', '夏', '秋', '冬']\n",
    "# fracs = [season.get(\"春\",0),season.get(\"夏\",0),season.get(\"秋\",0), season.get(\"冬\",0)]\n",
    "# explode = [0.1,0,0,0] # 0.1 凸出这部分，\n",
    "# plt.axes(aspect=1)  # set this , Figure is round, otherwise it is an ellipse\n",
    "# plt.pie(x=fracs, labels=labels, explode=explode,autopct='%3.1f %%',\n",
    "#         shadow=True, labeldistance=1.1, startangle = 90,pctdistance = 0.6)\n",
    "# '''\n",
    "# labeldistance，文本的位置离远点有多远，1.1指1.1倍半径的位置\n",
    "# autopct，圆里面的文本格式，%3.1f%%表示小数有三位，整数有一位的浮点数\n",
    "# shadow，饼是否有阴影\n",
    "# startangle，起始角度，0，表示从0开始逆时针转，为第一块。一般选择从90度开始比较好看\n",
    "# pctdistance，百分比的text离圆心的距离\n",
    "# patches, l_texts, p_texts，为了得到饼图的返回值，p_texts饼图内部文本的，l_texts饼图外label的文本\n",
    "# '''\n",
    "# plt.show()"
   ]
  },
  {
   "cell_type": "code",
   "execution_count": 42,
   "metadata": {},
   "outputs": [],
   "source": [
    "pie = Pie(\"唐宋元明清四季出现比例\", title_pos='center', width=1000, height=600)\n",
    "pie.add(\"唐代\", ['春', '夏', '秋', '冬'], [12622, 1049, 9111, 658], radius=[56, 68],is_label_show=True)\n",
    "pie.add(\"宋代\", ['春', '夏', '秋', '冬'], [41334, 2453, 24033, 2193], radius=[42, 54], legend_orient='vertical', legend_pos='left')\n",
    "pie.add(\"元代\", ['春', '夏', '秋', '冬'], [9437, 569, 6483, 540], radius=[28, 40], legend_orient='vertical', legend_pos='left')\n",
    "pie.add(\"明代\", ['春', '夏', '秋', '冬'], [18205, 1135, 14391, 977], radius=[14, 26], legend_orient='vertical', legend_pos='left')\n",
    "pie.add(\"清代\", ['春', '夏', '秋', '冬'], [12934, 570, 9484, 632], radius=[0, 12], legend_orient='vertical', legend_pos='left')\n",
    "pie.show_config()\n",
    "pie.render()\n",
    "pie"
   ]
  },
  {
   "cell_type": "markdown",
   "metadata": {},
   "source": [
    "### 对颜色的处理"
   ]
  },
  {
   "cell_type": "code",
   "execution_count": 11,
   "metadata": {},
   "outputs": [],
   "source": []
  },
  {
   "cell_type": "code",
   "execution_count": 4,
   "metadata": {},
   "outputs": [
    {
     "name": "stdout",
     "output_type": "stream",
     "text": [
      "{'暗': 1902, '玄': 1282, '乌': 908, '冥': 1081, '墨': 458, '皂': 80, '黧': 1, '缁': 93, '黔': 93, '黦': 7}\n",
      "{'白': 9673, '素': 1336, '皎': 367, '皓': 343, '皙': 13, '皑': 34}\n",
      "{'红': 4734, '丹': 2129, '朱': 1583, '赤': 896, '绛': 297, '赫': 233, '彤': 130, '茜': 37, '绯': 47, '赩': 17, '纁': 10, '缇': 28, '殷': 701, '赭': 44}\n",
      "{'绿': 3199, '碧': 3257, '翠': 2904, '苍': 2479, '沧': 1154, '缥': 156}\n"
     ]
    }
   ],
   "source": [
    "# 查询颜色频率\n",
    "\n",
    "black = {'暗':0,'玄':0,'乌':0,'冥':0,'墨':0,'皂':0,'黧':0,'缁':0, '黔':0,'黦':0}\n",
    "white = {'白':0,'素':0,'皎':0,'皓':0,'皙':0,'皑':0}\n",
    "red =   {'红':0,'丹':0,'朱':0,'赤':0,'绛':0,'赫':0,'彤':0,'茜':0,'绯':0,'赩':0,'纁':0,'缇':0,'殷':0,'赭':0}\n",
    "green = {'绿':0,'碧':0,'翠':0,'苍':0,'沧':0,'缥':0}\n",
    "\n",
    "# 总体分布\n",
    "\n",
    "# 黑色系分布\n",
    "for s in list(black.keys()):\n",
    "    black[s] = mycount.get(s,0)\n",
    "print(black)\n",
    "int_black=0\n",
    "for i in black.values():\n",
    "    int_black=int_black+i\n",
    "\n",
    "# 白色系分布\n",
    "for s in list(white.keys()):\n",
    "    white[s] = mycount.get(s,0)\n",
    "print(white)\n",
    "int_white=0\n",
    "for i in white.values():\n",
    "    int_white=int_white+i\n",
    "\n",
    "# 红色系分布\n",
    "for s in list(red.keys()):\n",
    "    red[s] = mycount.get(s,0)\n",
    "print(red)\n",
    "int_red=0\n",
    "for i in red.values():\n",
    "    int_red=int_red+i\n",
    "\n",
    "# 绿色系分布\n",
    "for s in list(green.keys()):\n",
    "    green[s] = mycount.get(s,0)\n",
    "print(green)\n",
    "int_green=0\n",
    "for i in green.values():\n",
    "    int_green=int_green+i\n",
    "    \n",
    "# 总体分布\n",
    "total = {}\n",
    "total.update(black)\n",
    "total.update(white)\n",
    "total.update(red)\n",
    "total.update(green)"
   ]
  },
  {
   "cell_type": "code",
   "execution_count": 41,
   "metadata": {},
   "outputs": [],
   "source": [
    "# 根据色系画出环状图\n",
    "pie_chart = pygal.Pie(inner_radius=.6,)#inner_radius 越大圆心空心越大\n",
    "pie_chart.title = '唐代诗词颜色饼图'\n",
    "# for k in black.keys():\n",
    "#     pie_chart.add(k, black.get(k))\n",
    "# pie_chart.render_to_file('bar_chart.svg')\n",
    "pie_chart.add('黑色系', int_black)\n",
    "pie_chart.add('白色系', int_white)\n",
    "pie_chart.add('红色系', int_red)\n",
    "pie_chart.add('绿色系',int_green)\n",
    "pie_chart.render()\n",
    "# pie_chart.render_to_file('bar_chart.svg')\n",
    "pie_chart"
   ]
  },
  {
   "cell_type": "code",
   "execution_count": 9,
   "metadata": {},
   "outputs": [],
   "source": [
    "# 根据色彩分布画出折线图\n",
    "sorted_total_list = sorted(total.items(), key=operator.itemgetter(1), reverse=True) #对字典根据值排序\n",
    "top=sorted_total_list[0:12]\n",
    "attr=[]\n",
    "value=[]\n",
    "for (a,b) in top:\n",
    "    attr.append(a)\n",
    "    value.append(b)\n",
    "\n",
    "line = Line('主要颜色排列')\n",
    "line.add(\"颜色\", attr, value, is_stack=True, xaxis_rotate=30, yaxis_min=0, mark_point=[\"min\", \"max\"], xaxis_interval=0,\n",
    "         line_color='lightblue', line_width=4, mark_point_textcolor='black', mark_point_color='lightblue', is_splitline_show=True)\n",
    "line.render('主要颜色排列.html')"
   ]
  },
  {
   "cell_type": "code",
   "execution_count": 40,
   "metadata": {},
   "outputs": [],
   "source": [
    "import pygal\n",
    "\n",
    "dot_chart = pygal.Dot()\n",
    "dot_chart.title = '唐宋元明清色彩出现频率对比图'\n",
    "# dot_chart.x_labels = ['白', '红', '碧', '绿', '翠', '苍', '丹', '暗', '朱','素', '玄', '沧']\n",
    "# dot_chart.add('Chrome', [9673, 4734, 3257, 3199, 2904, 2479, 2129, 1902,1583,1336,1282,1154])\n",
    "dot_chart.x_labels = ['黑','白', '红', '绿']\n",
    "dot_chart.add('唐代', [5905/41706, 11766/41706, 10886/41706, 13149/41706])\n",
    "dot_chart.add('宋代', [17136/115631, 28512/115631, 32766/115631, 37217/115631])\n",
    "dot_chart.add('元代', [5180/33868, 9736/33868, 9145/33868, 9807/33868])\n",
    "dot_chart.add('明代', [9023/61541, 18630/61541, 15180/61541, 18708/61541])\n",
    "dot_chart.add('清代', [6322/44042, 9805/44042, 13245/44042, 14670/44042])\n",
    "\n",
    "dot_chart"
   ]
  },
  {
   "cell_type": "markdown",
   "metadata": {},
   "source": [
    "### 梅兰竹菊"
   ]
  },
  {
   "cell_type": "code",
   "execution_count": 73,
   "metadata": {},
   "outputs": [],
   "source": [
    "path2 = r'C:/Users/HP/新建文件夹/pa_chong/poem/朝代/五代.txt'\n",
    "# 从文件读取分词\n",
    "with open(path2,encoding='utf-8') as f:\n",
    "    line = f.readline()\n",
    "words = list(line)\n",
    "mycount = collections.Counter(words)"
   ]
  },
  {
   "cell_type": "code",
   "execution_count": 74,
   "metadata": {},
   "outputs": [
    {
     "name": "stdout",
     "output_type": "stream",
     "text": [
      "{'梅': 43, '兰': 60, '竹': 29, '菊': 15}\n",
      "[43, 60, 29, 15]\n"
     ]
    }
   ],
   "source": [
    "# 查询季节出现的频率\n",
    "season = {'梅':0,'兰':0,'竹':0,'菊':0}\n",
    "for s in list(season.keys()):\n",
    "    season[s] = mycount.get(s,0)\n",
    "print(season)\n",
    "seasonList = ['梅','兰','竹','菊']\n",
    "l=[]\n",
    "for i in seasonList:\n",
    "    l.append(season.get(i))\n",
    "#     print(season.get(i),end=' ')\n",
    "print(l)"
   ]
  },
  {
   "cell_type": "code",
   "execution_count": 80,
   "metadata": {},
   "outputs": [],
   "source": [
    "# 先秦\n",
    "# {'梅': 2, '兰': 47, '竹': 0, '菊': 4}\n",
    "# [2, 47, 0, 4]\n",
    "\n",
    "# 两汉\n",
    "# {'梅': 4, '兰': 91, '竹': 28, '菊': 4}\n",
    "# [4, 91, 28, 4]\n",
    "\n",
    "# 魏晋\n",
    "# {'梅': 3, '兰': 118, '竹': 46, '菊': 14}\n",
    "# [3, 118, 46, 14]\n",
    "\n",
    "# 南北朝\n",
    "# {'梅': 127, '兰': 330, '竹': 243, '菊': 60}\n",
    "# [127, 330, 243, 60]\n",
    "\n",
    "# 唐代\n",
    "# {'梅': 1240, '兰': 1831, '竹': 3753, '菊': 878}\n",
    "# [1240, 1831, 3753, 878]\n",
    "\n",
    "# 宋代\n",
    "# {'梅': 11191, '兰': 4587, '竹': 11651, '菊': 3626}\n",
    "# [11191, 4587, 11651, 3626]\n",
    "\n",
    "# 元代\n",
    "# {'梅': 2822, '兰': 1109, '竹': 2482, '菊': 770}\n",
    "# [2822, 1109, 2482, 770]\n",
    "\n",
    "# 明代\n",
    "# {'梅': 3163, '兰': 2641, '竹': 5322, '菊': 1373}\n",
    "# [3163, 2641, 5322, 1373]\n",
    "\n",
    "# 清代\n",
    "# {'梅': 2695, '兰': 2269, '竹': 2713, '菊': 821}\n",
    "# [2695, 2269, 2713, 821]\n",
    "\n"
   ]
  },
  {
   "cell_type": "code",
   "execution_count": 75,
   "metadata": {},
   "outputs": [],
   "source": [
    "def getmean(l):\n",
    "    return [i/np.sum(l) for i in l]"
   ]
  },
  {
   "cell_type": "code",
   "execution_count": 82,
   "metadata": {},
   "outputs": [],
   "source": [
    "def chuli(li):\n",
    "    lis = [[],[],[],[]]\n",
    "    for i in li:\n",
    "        for j in range(0,4):\n",
    "            lis[j].append(getmean(i)[j])\n",
    "    return lis"
   ]
  },
  {
   "cell_type": "code",
   "execution_count": 84,
   "metadata": {},
   "outputs": [],
   "source": [
    "test = [[2, 47, 0, 4],[4, 91, 28, 4],[3, 118, 46, 14],[127, 330, 243, 60],[1240, 1831, 3753, 878],[11191, 4587, 11651, 3626],[2822, 1109, 2482, 770],[3163, 2641, 5322, 1373],[2695, 2269, 2713, 821]]"
   ]
  },
  {
   "cell_type": "code",
   "execution_count": 85,
   "metadata": {},
   "outputs": [
    {
     "data": {
      "text/plain": [
       "[[0.03773584905660377,\n",
       "  0.031496062992125984,\n",
       "  0.016574585635359115,\n",
       "  0.16710526315789473,\n",
       "  0.16099714359906517,\n",
       "  0.3603606504588633,\n",
       "  0.39287205902826117,\n",
       "  0.25306024481958556,\n",
       "  0.3171334431630972],\n",
       " [0.8867924528301887,\n",
       "  0.7165354330708661,\n",
       "  0.6519337016574586,\n",
       "  0.4342105263157895,\n",
       "  0.2377304596208777,\n",
       "  0.1477056834648205,\n",
       "  0.15439231518863986,\n",
       "  0.21129690375230017,\n",
       "  0.267004000941398],\n",
       " [0.0,\n",
       "  0.2204724409448819,\n",
       "  0.2541436464088398,\n",
       "  0.31973684210526315,\n",
       "  0.4872760321994287,\n",
       "  0.37517308001932054,\n",
       "  0.345538076012808,\n",
       "  0.42579406352508203,\n",
       "  0.3192515886090845],\n",
       " [0.07547169811320754,\n",
       "  0.031496062992125984,\n",
       "  0.07734806629834254,\n",
       "  0.07894736842105263,\n",
       "  0.11399636458062841,\n",
       "  0.11676058605699566,\n",
       "  0.10719754977029096,\n",
       "  0.10984878790303225,\n",
       "  0.09661096728642034]]"
      ]
     },
     "execution_count": 85,
     "metadata": {},
     "output_type": "execute_result"
    }
   ],
   "source": [
    "chuli(test)"
   ]
  },
  {
   "cell_type": "code",
   "execution_count": 76,
   "metadata": {},
   "outputs": [
    {
     "data": {
      "text/plain": [
       "[0.3171334431630972,\n",
       " 0.267004000941398,\n",
       " 0.3192515886090845,\n",
       " 0.09661096728642034]"
      ]
     },
     "execution_count": 76,
     "metadata": {},
     "output_type": "execute_result"
    }
   ],
   "source": [
    "getmean([2695, 2269, 2713, 821])"
   ]
  },
  {
   "cell_type": "code",
   "execution_count": 89,
   "metadata": {},
   "outputs": [],
   "source": [
    "import pygal\n",
    "\n",
    "# line_chart = pygal.Line()\n",
    "line_chart = pygal.StackedLine(fill=True)\n",
    "line_chart.title = '历朝历代文人对梅兰竹菊的偏爱'\n",
    "line_chart.x_labels =['先秦','两汉','魏晋','南北朝','唐','宋','元','明','清']\n",
    "line_chart.add('梅', [0.03773584905660377,\n",
    "  0.031496062992125984,\n",
    "  0.016574585635359115,\n",
    "  0.16710526315789473,\n",
    "  0.16099714359906517,\n",
    "  0.3603606504588633,\n",
    "  0.39287205902826117,\n",
    "  0.25306024481958556,\n",
    "  0.3171334431630972])\n",
    "line_chart.add('兰',  [0.8867924528301887,\n",
    "  0.7165354330708661,\n",
    "  0.6519337016574586,\n",
    "  0.4342105263157895,\n",
    "  0.2377304596208777,\n",
    "  0.1477056834648205,\n",
    "  0.15439231518863986,\n",
    "  0.21129690375230017,\n",
    "  0.267004000941398])\n",
    "line_chart.add('竹',      [0.0,\n",
    "  0.2204724409448819,\n",
    "  0.2541436464088398,\n",
    "  0.31973684210526315,\n",
    "  0.4872760321994287,\n",
    "  0.37517308001932054,\n",
    "  0.345538076012808,\n",
    "  0.42579406352508203,\n",
    "  0.3192515886090845])\n",
    "line_chart.add('菊',  [0.07547169811320754,\n",
    "  0.031496062992125984,\n",
    "  0.07734806629834254,\n",
    "  0.07894736842105263,\n",
    "  0.11399636458062841,\n",
    "  0.11676058605699566,\n",
    "  0.10719754977029096,\n",
    "  0.10984878790303225,\n",
    "  0.09661096728642034])\n",
    "line_chart.render_to_file(\"line-basic.svg\")"
   ]
  },
  {
   "cell_type": "markdown",
   "metadata": {},
   "source": [
    "### 常用双字词发现"
   ]
  },
  {
   "cell_type": "code",
   "execution_count": 19,
   "metadata": {},
   "outputs": [],
   "source": [
    "# # 发现对中文不适用\n",
    "# tokens=nltk.wordpunct_tokenize(str)\n",
    "# bigram=nltk.bigrams(tokens)\n",
    "# list(bigram)"
   ]
  },
  {
   "cell_type": "code",
   "execution_count": 31,
   "metadata": {},
   "outputs": [],
   "source": []
  },
  {
   "cell_type": "code",
   "execution_count": 32,
   "metadata": {},
   "outputs": [],
   "source": [
    "# 使用nltk 自然语言处理库来进行二元词的处理\n",
    "# 通过两两分词 发现相邻的双字的频率\n",
    "\n",
    "bigram_measures = nltk.collocations.BigramAssocMeasures()\n",
    "finder = BigramCollocationFinder.from_words(words)\n",
    "# for bigram in finder.score_ngrams(bigram_measures.raw_freq)[:100]:\n",
    "#     print(bigram)"
   ]
  },
  {
   "cell_type": "code",
   "execution_count": 36,
   "metadata": {
    "scrolled": false
   },
   "outputs": [],
   "source": [
    "i=0\n",
    "for bigram in finder.score_ngrams(bigram_measures.raw_freq)[:110]:\n",
    "    print(bigram[0][0]+bigram[0][1])\n",
    "    i = i+1\n",
    "    if(i%10==0):\n",
    "        print()"
   ]
  },
  {
   "cell_type": "markdown",
   "metadata": {},
   "source": [
    "### 语义网络分析：发现唐诗中的常用“字眼”"
   ]
  },
  {
   "cell_type": "markdown",
   "metadata": {},
   "source": [
    " ### 字向量分析：基于的Word2vec的关联字分析"
   ]
  },
  {
   "cell_type": "code",
   "execution_count": 2,
   "metadata": {},
   "outputs": [
    {
     "name": "stderr",
     "output_type": "stream",
     "text": [
      "WARNING:gensim.models.base_any2vec:consider setting layer size to a multiple of 4 for greater performance\n",
      "WARNING:gensim.models.word2vec:Each 'sentences' item should be a list of words (usually unicode strings). First item here is instead plain <class 'str'>.\n"
     ]
    }
   ],
   "source": [
    "path = r'C:/Users/HP/新建文件夹/pa_chong/poem/朝代/唐代total.csv'\n",
    "f=open(path,'rb')\n",
    "content = pd.read_csv(f, header=None)[1:]\n",
    "f.close()\n",
    "poem=content[3]\n",
    "# 用 word2vec 进行训练\n",
    "# 第一个参数是训练语料，第二个参数是小于该数的单词会被剔除，默认值为5, 第三个参数是神经网络的隐藏层单元数，默认为100\n",
    "model=word2vec.Word2Vec(list(poem),min_count=3, size=50, window=5, workers=4)#唐诗"
   ]
  },
  {
   "cell_type": "code",
   "execution_count": 37,
   "metadata": {},
   "outputs": [],
   "source": [
    "for i in model.wv.most_similar(\"涛\"): #计算余弦距离最接近的10个词\n",
    "#     print(i[0],end=' ')\n",
    "    print(i[0],i[1])"
   ]
  },
  {
   "cell_type": "code",
   "execution_count": 38,
   "metadata": {},
   "outputs": [],
   "source": [
    "# 用 word2vec 进行训练\n",
    "# 第一个参数是训练语料，第二个参数是小于该数的单词会被剔除，默认值为5, 第三个参数是神经网络的隐藏层单元数，默认为100\n",
    "model=word2vec.Word2Vec(list(poem),min_count=3, size=50, window=5, workers=4)\n",
    "\n",
    "# y2=model.similarity(\"春\", \"秋\") #计算两个词之间的余弦距离\n",
    "# print(y2)\n",
    "# for i in model.wv.most_similar(\"春\"): #计算余弦距离最接近的10个词\n",
    "#     print(i[0],i[1])\n",
    "# print(\"-----------------------------------------------------------------------------\")\n",
    "# 悲、惧、乐、怒、思、喜、忧\n",
    "for i in model.wv.most_similar(u\"愁\"): #\n",
    "    print(i[0],i[1])\n",
    "print(\"-----------------------------------------------------------------------------\")\n",
    "for i in model.wv.most_similar(\"惧\"): #\n",
    "    print(i[0],i[1])\n",
    "print(\"-----------------------------------------------------------------------------\")\n",
    "for i in model.wv.most_similar(\"乐\"): #\n",
    "    print(i[0],i[1])\n",
    "print(\"-----------------------------------------------------------------------------\")\n",
    "for i in model.wv.most_similar(\"怒\"): #\n",
    "    print(i[0],i[1])\n",
    "print(\"-----------------------------------------------------------------------------\")\n",
    "for i in model.wv.most_similar(\"思\"): #\n",
    "    print(i[0],i[1])\n",
    "print(\"-----------------------------------------------------------------------------\")\n",
    "for i in model.wv.most_similar(\"喜\"): #\n",
    "    print(i[0],i[1])\n",
    "print(\"-----------------------------------------------------------------------------\")\n",
    "for i in model.wv.most_similar(\"忧\"): #\n",
    "    print(i[0],i[1])\n",
    "print(\"-----------------------------------------------------------------------------\")\n"
   ]
  },
  {
   "cell_type": "markdown",
   "metadata": {},
   "source": [
    "### 多维情绪分析：发现‘情绪’"
   ]
  },
  {
   "cell_type": "markdown",
   "metadata": {},
   "source": [
    "#### 根据朝代名称加载诗词"
   ]
  },
  {
   "cell_type": "code",
   "execution_count": null,
   "metadata": {},
   "outputs": [],
   "source": [
    "def getPoems(dynasty):\n",
    "    path = r'C:/Users/HP/新建文件夹/pa_chong/poem/朝代/'+dynasty+r'total.csv'\n",
    "    f=open(path,'rb')\n",
    "    content = pd.read_csv(f, header=None)[1:]\n",
    "    f.close()\n",
    "    poem=content[3]\n",
    "    return poem"
   ]
  },
  {
   "cell_type": "markdown",
   "metadata": {},
   "source": [
    "#### 加载全部诗词 作为训练样本"
   ]
  },
  {
   "cell_type": "code",
   "execution_count": 4,
   "metadata": {},
   "outputs": [],
   "source": [
    "def load():\n",
    "    path = r'C:/Users/HP/新建文件夹/pa_chong/poem/total.csv'\n",
    "    f=open(path,'rb')\n",
    "    content = pd.read_csv(f, header=None)[1:]\n",
    "    f.close()\n",
    "    poem=content[3]\n",
    "    return poem"
   ]
  },
  {
   "cell_type": "markdown",
   "metadata": {},
   "source": [
    "#### 根据情绪词获得与之最相关的50个词"
   ]
  },
  {
   "cell_type": "code",
   "execution_count": 5,
   "metadata": {},
   "outputs": [],
   "source": [
    "def get_emotion_list(emotion):\n",
    "    list_re=[]\n",
    "    for i in model.wv.most_similar(emotion,topn=50):\n",
    "        list_re.append(i[0])\n",
    "    return list_re"
   ]
  },
  {
   "cell_type": "markdown",
   "metadata": {},
   "source": [
    "#### 初始化 情绪关键词列表"
   ]
  },
  {
   "cell_type": "code",
   "execution_count": 6,
   "metadata": {},
   "outputs": [],
   "source": [
    "def ini_emotion_list():\n",
    "    list_re=[]\n",
    "    emotions=['喜','愤','愁','思','怨']\n",
    "    for i in emotions:\n",
    "        list_re.append(get_emotion_list(i))\n",
    "    return list_re"
   ]
  },
  {
   "cell_type": "markdown",
   "metadata": {},
   "source": [
    "#### 给定poem诗句，分析在emotion（情绪近义词列表）的相似得分"
   ]
  },
  {
   "cell_type": "code",
   "execution_count": 7,
   "metadata": {},
   "outputs": [],
   "source": [
    "def get_emotion_score(poem,emotion):\n",
    "    score=0\n",
    "    for i in poem: \n",
    "        for j in emotion:\n",
    "            try:\n",
    "                temp=model.wv.similarity(i, j)\n",
    "            except:\n",
    "                temp=0\n",
    "            score = score + temp\n",
    "    return score"
   ]
  },
  {
   "cell_type": "markdown",
   "metadata": {},
   "source": [
    "#### 根据诗句 返回最可能的情绪类别"
   ]
  },
  {
   "cell_type": "code",
   "execution_count": 8,
   "metadata": {},
   "outputs": [],
   "source": [
    "def getScore(poem,emotion_list):\n",
    "    emotions=['喜','愤','愁','思','怨']\n",
    "    list_score=[]\n",
    "    for emotion in emotion_list:\n",
    "        score=get_emotion_score(poem,emotion)\n",
    "        list_score.append(score)\n",
    "#     print(list_score)\n",
    "    min_score=min(list_score)\n",
    "    max_score=max(list_score)\n",
    "    difference=max_score-min_score\n",
    "    pos = list_score.index(max_score)\n",
    "    list_score=[(i-min_score)/difference for i in list_score]\n",
    "#     print(list_score)\n",
    "    return emotions[pos]"
   ]
  },
  {
   "cell_type": "markdown",
   "metadata": {},
   "source": [
    "#### 给定诗词集合，给出最终感情分布（字典）"
   ]
  },
  {
   "cell_type": "code",
   "execution_count": 9,
   "metadata": {},
   "outputs": [],
   "source": [
    "def distribution(poems):\n",
    "    distribute_dict={}\n",
    "    i=0\n",
    "    length = len(poems)\n",
    "    emotion_list=ini_emotion_list()\n",
    "    for poem in poems:\n",
    "        i=i+1\n",
    "        t=getScore(poem,emotion_list)\n",
    "        distribute_dict[t]=distribute_dict.get(t,0)+1\n",
    "\n",
    "        if i%100==0:\n",
    "            print(str(i)+\"       -------------\"+str(i/length))  \n",
    "    return distribute_dict"
   ]
  },
  {
   "cell_type": "markdown",
   "metadata": {},
   "source": [
    "#### 调用函数进行分析"
   ]
  },
  {
   "cell_type": "code",
   "execution_count": 30,
   "metadata": {},
   "outputs": [],
   "source": [
    "# 结果如下：\n",
    "dynasty_tang={'喜':9759,'思':13370,'怨':2357,'愁':20925,'愤':4096}\n",
    "dynasty_nanbeichao={'喜': 1148, '思': 1297, '怨': 427, '愁': 1046, '愤': 806}\n",
    "dynasty_jin={'喜': 176, '思': 295, '怨': 26, '愁': 620, '愤': 54}\n",
    "dynasty_ming={'喜': 19007, '思':19986 , '怨':2849 , '愁':30279 , '愤': 7089}\n",
    "dynasty_wudai={'喜': 65, '思': 20, '怨': 7, '愁': 584, '愤': 12}\n",
    "dynasty_weijin={'喜': 251, '思': 369, '怨': 59, '愁': 81, '愤': 428}\n",
    "dynasty_suidai={'喜': 29, '思': 43, '怨': 11, '愁': 47, '愤': 11}\n",
    "dynasty_xianqin={'喜': 3, '怨': 2, '愤': 72}\n",
    "dynasty_lianghan={'喜': 142, '思': 133, '怨': 31, '愁': 57, '愤': 260}\n",
    "dynasty_qing={'喜': 7317, '思': 8985, '怨': 1911, '愁': 25028, '愤': 3452}\n",
    "dynasty_song={'喜':48809 , '思':36345 , '怨':6333 , '愁':67949 , '愤':14463 }\n",
    "dynasty_yuan={'喜': 6841, '思': 5922, '怨': 1095, '愁': 12089, '愤': 1991}"
   ]
  },
  {
   "cell_type": "code",
   "execution_count": 10,
   "metadata": {},
   "outputs": [],
   "source": [
    "# 训练样本\n",
    "total=load()\n",
    "model=word2vec.Word2Vec(list(total),min_count=3, size=100, window=5, workers=4)"
   ]
  },
  {
   "cell_type": "code",
   "execution_count": 11,
   "metadata": {},
   "outputs": [],
   "source": [
    "#根据朝代加载诗句\n",
    "dynasty = '宋代'\n",
    "poems = getPoems(dynasty)"
   ]
  },
  {
   "cell_type": "code",
   "execution_count": null,
   "metadata": {},
   "outputs": [],
   "source": [
    "fenbu = distribution(poems)"
   ]
  },
  {
   "cell_type": "markdown",
   "metadata": {},
   "source": [
    "### 射覆 "
   ]
  },
  {
   "cell_type": "markdown",
   "metadata": {},
   "source": [
    "#### 加载训练样本"
   ]
  },
  {
   "cell_type": "code",
   "execution_count": 12,
   "metadata": {},
   "outputs": [],
   "source": [
    "def load():\n",
    "    path = r'C:/Users/HP/新建文件夹/pa_chong/poem/total.csv'\n",
    "    f=open(path,'rb')\n",
    "    content = pd.read_csv(f, header=None)[1:]\n",
    "    f.close()\n",
    "    poem=content[3]\n",
    "    return poem"
   ]
  },
  {
   "cell_type": "markdown",
   "metadata": {},
   "source": [
    "#### 加载查询空间"
   ]
  },
  {
   "cell_type": "code",
   "execution_count": 13,
   "metadata": {},
   "outputs": [],
   "source": [
    "def getPoems(dynasty):\n",
    "    path = r'C:/Users/HP/新建文件夹/pa_chong/poem/朝代/'+dynasty+r'total.csv'\n",
    "    f=open(path,'rb')\n",
    "    content = pd.read_csv(f, header=None)[1:]\n",
    "    f.close()\n",
    "    poem=content[3]\n",
    "    return poem\n",
    "\n",
    "def make_sentence(poem):\n",
    "    sentence = [i for i in re.split('[。?!？；！]', poem) if len(i)>1]\n",
    "    return sentence\n",
    "\n",
    "def get_sentences(poems):\n",
    "    length= len(poems)\n",
    "    pos=1\n",
    "    sentence=[]\n",
    "    while pos<=length:\n",
    "        words=[]\n",
    "        try:\n",
    "            for i in range(pos,length+1):\n",
    "                words=words+make_sentence(poems.get(pos))\n",
    "                pos=pos+1\n",
    "                if(pos%100==0):\n",
    "                    print(pos)\n",
    "                    break\n",
    "        except Exception as e:\n",
    "            print(e)\n",
    "\n",
    "        sentence=sentence+words\n",
    "    return sentence\n"
   ]
  },
  {
   "cell_type": "markdown",
   "metadata": {},
   "source": [
    "#### 获取两句诗相似性"
   ]
  },
  {
   "cell_type": "code",
   "execution_count": 14,
   "metadata": {},
   "outputs": [],
   "source": [
    "def similar(poem1,poem2):\n",
    "    total_score=0\n",
    "    for i in poem1:\n",
    "        score=0\n",
    "        for j in poem2:\n",
    "            try:\n",
    "                temp = model.wv.similarity(i, j)\n",
    "            except:\n",
    "                temp=0\n",
    "            if temp>score:\n",
    "                score=temp\n",
    "        total_score= total_score+score\n",
    "    return total_score/len(poem1)\n",
    "        "
   ]
  },
  {
   "cell_type": "markdown",
   "metadata": {},
   "source": [
    "#### 获取与诗句相似度排序列表"
   ]
  },
  {
   "cell_type": "code",
   "execution_count": 19,
   "metadata": {},
   "outputs": [],
   "source": [
    "def get_similar_sentences(sentence,sentences):\n",
    "    find_list={}\n",
    "    total = len(sentences)\n",
    "    pos =0;\n",
    "    for i in sentences:\n",
    "        pos=pos+1\n",
    "        if len(i.split('，'))!=2:\n",
    "            continue\n",
    "        find_list[i]=similar(sentence,i)\n",
    "        if pos%100==0:\n",
    "            print(pos)\n",
    "    sortlist=sorted(find_list.items(),key = lambda x:x[1],reverse = True)\n",
    "    return sortlist "
   ]
  },
  {
   "cell_type": "markdown",
   "metadata": {},
   "source": [
    "#### 调用函数进行分析"
   ]
  },
  {
   "cell_type": "code",
   "execution_count": 6,
   "metadata": {},
   "outputs": [
    {
     "name": "stderr",
     "output_type": "stream",
     "text": [
      "WARNING:gensim.models.word2vec:Each 'sentences' item should be a list of words (usually unicode strings). First item here is instead plain <class 'str'>.\n"
     ]
    }
   ],
   "source": [
    "# 训练样本\n",
    "total=load()\n",
    "model=word2vec.Word2Vec(list(total),min_count=3, size=100, window=5, workers=4)"
   ]
  },
  {
   "cell_type": "code",
   "execution_count": 39,
   "metadata": {},
   "outputs": [],
   "source": [
    "#获取查询空间\n",
    "poems = getPoems('隋代')\n",
    "sentences = get_sentences(poems)"
   ]
  },
  {
   "cell_type": "code",
   "execution_count": null,
   "metadata": {},
   "outputs": [],
   "source": [
    "most_similar = get_similar_sentences('桃花 杨柳',sentences)"
   ]
  },
  {
   "cell_type": "code",
   "execution_count": null,
   "metadata": {},
   "outputs": [],
   "source": [
    "most_similar[:10]"
   ]
  },
  {
   "cell_type": "code",
   "execution_count": null,
   "metadata": {},
   "outputs": [],
   "source": []
  }
 ],
 "metadata": {
  "kernelspec": {
   "display_name": "Python 3",
   "language": "python",
   "name": "python3"
  },
  "language_info": {
   "codemirror_mode": {
    "name": "ipython",
    "version": 3
   },
   "file_extension": ".py",
   "mimetype": "text/x-python",
   "name": "python",
   "nbconvert_exporter": "python",
   "pygments_lexer": "ipython3",
   "version": "3.6.4"
  }
 },
 "nbformat": 4,
 "nbformat_minor": 2
}
