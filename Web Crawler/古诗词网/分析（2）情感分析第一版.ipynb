{
 "cells": [
  {
   "cell_type": "code",
   "execution_count": 2,
   "metadata": {},
   "outputs": [],
   "source": [
    "import pandas as pd\n",
    "import numpy as np\n",
    "import collections #统计\n",
    "from wordcloud import WordCloud,ImageColorGenerator #分词\n",
    "import matplotlib.pyplot as plt #作图\n",
    "from pyecharts import Pie #作图\n",
    "from pyecharts import Bar, Line,Overlap #作图\n",
    "import pygal #作图\n",
    "import operator  \n",
    "import nltk #自然语言处理包\n",
    "from nltk.collocations import * \n",
    "from gensim.models import word2vec #词向量"
   ]
  },
  {
   "cell_type": "code",
   "execution_count": 3,
   "metadata": {},
   "outputs": [],
   "source": [
    "def getPoems(dynasty):\n",
    "    path = r'C:/Users/HP/新建文件夹/pa_chong/poem/朝代/'+dynasty+r'total.csv'\n",
    "    f=open(path,'rb')\n",
    "    content = pd.read_csv(f, header=None)[1:]\n",
    "    f.close()\n",
    "    poem=content[3]\n",
    "    return poem"
   ]
  },
  {
   "cell_type": "code",
   "execution_count": 8,
   "metadata": {},
   "outputs": [],
   "source": [
    "def getWords(dynasty):\n",
    "    path = r'C:/Users/HP/新建文件夹/pa_chong/poem/朝代/'+dynasty+r'.txt'\n",
    "    # 从文件读取分词\n",
    "    with open(path,encoding='utf-8') as f:\n",
    "        line = f.readline()\n",
    "    words = list(line)\n",
    "    return words"
   ]
  },
  {
   "cell_type": "code",
   "execution_count": 15,
   "metadata": {},
   "outputs": [],
   "source": [
    "poems = getPoems('唐代')\n",
    "words = getWords('唐代')"
   ]
  },
  {
   "cell_type": "code",
   "execution_count": 16,
   "metadata": {
    "scrolled": false
   },
   "outputs": [
    {
     "name": "stderr",
     "output_type": "stream",
     "text": [
      "WARNING:gensim.models.word2vec:Each 'sentences' item should be a list of words (usually unicode strings). First item here is instead plain <class 'str'>.\n"
     ]
    }
   ],
   "source": [
    "model=word2vec.Word2Vec(list(poems),min_count=3, size=100, window=5, workers=4)"
   ]
  },
  {
   "cell_type": "code",
   "execution_count": 62,
   "metadata": {},
   "outputs": [],
   "source": [
    "dict_chou={}\n",
    "dict_ju={}\n",
    "dict_le={}\n",
    "dict_nu={}\n",
    "dict_si={}\n",
    "dict_xi={}\n",
    "dict_you={}\n",
    "number=500\n",
    "for i in model.wv.most_similar(u\"愁\",topn=number): #\n",
    "    dict_chou[i[0]]=i[1]\n",
    "for i in model.wv.most_similar(u\"惧\",topn=number): #\n",
    "    dict_ju[i[0]]=i[1]\n",
    "for i in model.wv.most_similar(u\"乐\",topn=number): #\n",
    "    dict_le[i[0]]=i[1]\n",
    "for i in model.wv.most_similar(u\"怒\",topn=number): #\n",
    "    dict_nu[i[0]]=i[1]\n",
    "for i in model.wv.most_similar(u\"思\",topn=number): #\n",
    "    dict_si[i[0]]=i[1]\n",
    "for i in model.wv.most_similar(u\"喜\",topn=number): #\n",
    "    dict_xi[i[0]]=i[1]\n",
    "for i in model.wv.most_similar(u\"忧\",topn=number): #\n",
    "    dict_you[i[0]]=i[1]\n"
   ]
  },
  {
   "cell_type": "code",
   "execution_count": 63,
   "metadata": {},
   "outputs": [],
   "source": [
    "def getScore_ju(poem):\n",
    "    score=0\n",
    "    for i in poem:\n",
    "        score+=dict_ju.get(i,0)\n",
    "    score=score/len(poem)\n",
    "    return score\n",
    "def getScore_le(poem):\n",
    "    score=0\n",
    "    for i in poem:\n",
    "        score+=dict_le.get(i,0)\n",
    "    score=score/len(poem)\n",
    "    return score\n",
    "def getScore_nu(poem):\n",
    "    score=0\n",
    "    for i in poem:\n",
    "        score+=dict_nu.get(i,0)\n",
    "    score=score/len(poem)\n",
    "    return score\n",
    "def getScore_si(poem):\n",
    "    score=0\n",
    "    for i in poem:\n",
    "        score+=dict_si.get(i,0)\n",
    "    score=score/len(poem)\n",
    "    return score\n",
    "def getScore_xi(poem):\n",
    "    score=0\n",
    "    for i in poem:\n",
    "        score+=dict_xi.get(i,0)\n",
    "    score=score/len(poem)\n",
    "    return score\n",
    "def getScore_you(poem):\n",
    "    score=0\n",
    "    for i in poem:\n",
    "        score+=dict_you.get(i,0)\n",
    "    score=score/len(poem)\n",
    "    return score\n",
    "def getScore_chou(poem):\n",
    "    score=0\n",
    "    for i in poem:\n",
    "        score+=dict_chou.get(i,0)\n",
    "    score=score/len(poem)\n",
    "    return score"
   ]
  },
  {
   "cell_type": "code",
   "execution_count": 64,
   "metadata": {},
   "outputs": [],
   "source": [
    "def getScore(poem):\n",
    "    score=[]\n",
    "    emotion_type=['愁','惧','乐','怒','思','喜','忧']\n",
    "\n",
    "    emotion_type=['喜','怒','忧','思','悲','恐','惊']\n",
    "    score.append(getScore_chou(poem))\n",
    "    score.append(getScore_ju(poem))\n",
    "    score.append(getScore_le(poem))\n",
    "    score.append(getScore_nu(poem))\n",
    "    score.append(getScore_si(poem))\n",
    "    score.append(getScore_xi(poem))\n",
    "    score.append(getScore_you(poem))\n",
    "    print(score)\n",
    "    total_score=0\n",
    "    for i in score:\n",
    "        total_score=total_score+i\n",
    "    if total_score==0:\n",
    "        return '未知'\n",
    "    score = [i/total_score for i in score]\n",
    "    return emotion_type[score.index(max(score))], max(score) "
   ]
  },
  {
   "cell_type": "code",
   "execution_count": 82,
   "metadata": {},
   "outputs": [
    {
     "name": "stdout",
     "output_type": "stream",
     "text": [
      "[0.20494101643562318, 0.0, 0.0, 0.0, 0.10790161192417144, 0.022308064997196196, 0.05562335252761841]\n"
     ]
    },
    {
     "data": {
      "text/plain": [
       "('愁', 0.5244488946846275)"
      ]
     },
     "execution_count": 82,
     "metadata": {},
     "output_type": "execute_result"
    }
   ],
   "source": [
    "getScore('举头望明月低头思故乡')"
   ]
  },
  {
   "cell_type": "code",
   "execution_count": null,
   "metadata": {},
   "outputs": [],
   "source": []
  }
 ],
 "metadata": {
  "kernelspec": {
   "display_name": "Python 3",
   "language": "python",
   "name": "python3"
  },
  "language_info": {
   "codemirror_mode": {
    "name": "ipython",
    "version": 3
   },
   "file_extension": ".py",
   "mimetype": "text/x-python",
   "name": "python",
   "nbconvert_exporter": "python",
   "pygments_lexer": "ipython3",
   "version": "3.6.4"
  }
 },
 "nbformat": 4,
 "nbformat_minor": 2
}
