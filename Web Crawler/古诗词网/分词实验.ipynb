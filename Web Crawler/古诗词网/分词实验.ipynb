{
 "cells": [
  {
   "cell_type": "code",
   "execution_count": null,
   "metadata": {},
   "outputs": [],
   "source": [
    "path = r'C:/Users/HP/新建文件夹/pa_chong/poem/朝代/南北朝total.csv'\n",
    "f=open(path,'rb')\n",
    "content = pd.read_csv(f, header=None)[1:]\n",
    "f.close()\n",
    "poem=content[3]\n",
    "words=[]\n",
    "i=0\n",
    "for item in poem:\n",
    "    print(i)\n",
    "    i=i+1\n",
    "    words=words+cut_word(item)"
   ]
  },
  {
   "cell_type": "code",
   "execution_count": null,
   "metadata": {},
   "outputs": [],
   "source": [
    "stopWords=\"而|何|乎|乃|其|且|若|所|为|焉|也|以|因|于|与|则|者|之|然|是|此|斯|彼|孰|胡|曷|虽|矣|哉|耳\""
   ]
  },
  {
   "cell_type": "code",
   "execution_count": 1,
   "metadata": {},
   "outputs": [],
   "source": [
    "import jieba"
   ]
  },
  {
   "cell_type": "code",
   "execution_count": 6,
   "metadata": {},
   "outputs": [],
   "source": [
    "file_name=r'D:/github_download/nlputils-master/jiebazhc/dict.txt'\n",
    "jieba.load_userdict(file_name)"
   ]
  },
  {
   "cell_type": "code",
   "execution_count": 7,
   "metadata": {},
   "outputs": [],
   "source": [
    "text='思悲公。怀衮衣。东国何悲公西归。公西归。流二叔。幼主既悟偃禾复。偃禾复。圣志申。营都新邑从斯民。从斯民。德惟明。制礼作乐兴颂声。兴颂声。致嘉祥。鸣凤爰集万国康。万国康。犹弗已。握发吐餐下群士。惟我君。继伊周。亲睹盛世复何求。'\n",
    "seg_list=jieba.cut(text)"
   ]
  },
  {
   "cell_type": "code",
   "execution_count": 8,
   "metadata": {},
   "outputs": [],
   "source": [
    "seg_list = \" \".join(seg_list)"
   ]
  },
  {
   "cell_type": "code",
   "execution_count": 5,
   "metadata": {},
   "outputs": [
    {
     "name": "stdout",
     "output_type": "stream",
     "text": [
      "思悲公 。 怀衮 衣 。 东国何 悲公西 归 。 公西归 。 流 二叔 。 幼主 既悟 偃 禾 复 。 偃禾 复 。 圣志申 。 营 都 新 邑 从斯民 。 从斯民 。 德惟明 。 制礼作乐 兴 颂声 。 兴 颂声 。 致 嘉祥 。 鸣凤 爰 集 万国 康 。 万国 康 。 犹弗已 。 握 发吐餐 下 群士 。 惟 我 君 。 继伊周 。 亲睹 盛世 复 何求 。\n"
     ]
    }
   ],
   "source": [
    "print(seg_list)"
   ]
  },
  {
   "cell_type": "code",
   "execution_count": 9,
   "metadata": {},
   "outputs": [
    {
     "name": "stdout",
     "output_type": "stream",
     "text": [
      "思悲公 。 怀衮 衣 。 东国何 悲公西 归 。 公西归 。 流二叔 。 幼主 既悟 偃 禾 复 。 偃禾 复 。 圣志申 。 营 都 新 邑 从斯民 。 从斯民 。 德惟明 。 制礼作乐 兴颂声 。 兴颂声 。 致 嘉祥 。 鸣凤 爰 集万国康 。 万国康 。 犹弗已 。 握 发吐餐 下 群士 。 惟 我 君 。 继伊周 。 亲睹 盛世 复何求 。\n"
     ]
    }
   ],
   "source": [
    "print(seg_list)"
   ]
  },
  {
   "cell_type": "code",
   "execution_count": 6,
   "metadata": {},
   "outputs": [],
   "source": [
    "# 对文本进行分词，单个字\n",
    "stopWords=\"而|何|乎|乃|其|且|若|所|为|焉|也|以|因|于|与|则|者|之|然|是|此|斯|彼|孰|胡|曷|虽|矣|哉|耳\"\n",
    "def cut_word(text):\n",
    "    words =[e for e in text if (e.isalnum() and e not in stopWords)]\n",
    "    return words"
   ]
  },
  {
   "cell_type": "code",
   "execution_count": 8,
   "metadata": {},
   "outputs": [],
   "source": [
    "# cut_word('思悲公。怀衮衣。东国何悲公西归。公西归。流二叔。幼主既悟偃禾复。偃禾复。圣志申。营都新邑从斯民。从斯民。德惟明。制礼作乐兴颂声。兴颂声。致嘉祥。鸣凤爰集万国康。万国康。犹弗已。握发吐餐下群士。惟我君。继伊周。亲睹盛世复何求。')"
   ]
  },
  {
   "cell_type": "code",
   "execution_count": 14,
   "metadata": {},
   "outputs": [
    {
     "name": "stdout",
     "output_type": "stream",
     "text": [
      "0:00:00.036900\n"
     ]
    }
   ],
   "source": [
    "import datetime\n",
    "\n",
    "starttime = datetime.datetime.now()\n",
    "\n",
    "for i in range(1000):\n",
    "    cut_word('思悲公。怀衮衣。东国何悲公西归。公西归。流二叔。幼主既悟偃禾复。偃禾复。圣志申。营都新邑从斯民。从斯民。德惟明。制礼作乐兴颂声。兴颂声。致嘉祥。鸣凤爰集万国康。万国康。犹弗已。握发吐餐下群士。惟我君。继伊周。亲睹盛世复何求。')\n",
    "endtime = datetime.datetime.now()\n",
    "\n",
    "print((endtime - starttime))"
   ]
  },
  {
   "cell_type": "code",
   "execution_count": 18,
   "metadata": {},
   "outputs": [
    {
     "name": "stdout",
     "output_type": "stream",
     "text": [
      "0:00:00.041894\n"
     ]
    }
   ],
   "source": [
    "starttime = datetime.datetime.now()\n",
    "\n",
    "for i in range(1000):\n",
    "    cut_word('思悲公。怀衮衣。东国何悲公西归。公西归。流二叔。幼主既悟偃禾复。偃禾复。圣志申。营都新邑从斯民。从斯民。德惟明。制礼作乐兴颂声。兴颂声。致嘉祥。鸣凤爰集万国康。万国康。犹弗已。握发吐餐下群士。惟我君。继伊周。亲睹盛世复何求。')\n",
    "endtime = datetime.datetime.now()\n",
    "\n",
    "print((endtime - starttime))"
   ]
  },
  {
   "cell_type": "code",
   "execution_count": 19,
   "metadata": {},
   "outputs": [],
   "source": [
    "def cut_word1(text):\n",
    "    word = ''.join(e for e in text if e.isalnum())\n",
    "    words=[i for i in word if i not in stopWords]\n",
    "    return words"
   ]
  },
  {
   "cell_type": "code",
   "execution_count": 23,
   "metadata": {},
   "outputs": [
    {
     "name": "stdout",
     "output_type": "stream",
     "text": [
      "0:00:00.061834\n"
     ]
    }
   ],
   "source": [
    "starttime = datetime.datetime.now()\n",
    "\n",
    "for i in range(1000):\n",
    "    cut_word1('思悲公。怀衮衣。东国何悲公西归。公西归。流二叔。幼主既悟偃禾复。偃禾复。圣志申。营都新邑从斯民。从斯民。德惟明。制礼作乐兴颂声。兴颂声。致嘉祥。鸣凤爰集万国康。万国康。犹弗已。握发吐餐下群士。惟我君。继伊周。亲睹盛世复何求。')\n",
    "endtime = datetime.datetime.now()\n",
    "\n",
    "print((endtime - starttime))"
   ]
  },
  {
   "cell_type": "code",
   "execution_count": null,
   "metadata": {},
   "outputs": [],
   "source": []
  },
  {
   "cell_type": "code",
   "execution_count": null,
   "metadata": {},
   "outputs": [],
   "source": []
  }
 ],
 "metadata": {
  "kernelspec": {
   "display_name": "Python 3",
   "language": "python",
   "name": "python3"
  },
  "language_info": {
   "codemirror_mode": {
    "name": "ipython",
    "version": 3
   },
   "file_extension": ".py",
   "mimetype": "text/x-python",
   "name": "python",
   "nbconvert_exporter": "python",
   "pygments_lexer": "ipython3",
   "version": "3.6.4"
  }
 },
 "nbformat": 4,
 "nbformat_minor": 2
}
