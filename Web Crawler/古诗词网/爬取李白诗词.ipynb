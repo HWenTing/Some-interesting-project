{
 "cells": [
  {
   "cell_type": "code",
   "execution_count": null,
   "metadata": {},
   "outputs": [],
   "source": []
  },
  {
   "cell_type": "code",
   "execution_count": 1,
   "metadata": {},
   "outputs": [],
   "source": [
    "# coding: utf-8\n",
    "import re \n",
    "import pandas as pd\n",
    "import requests\n",
    "import random\n",
    "import json\n",
    "from urllib import parse\n",
    "from urllib import request\n",
    "import time\n",
    "from datetime import datetime\n",
    "from datetime import timedelta\n",
    "header={\n",
    "    'User-Agent':'Mozilla/5.0 (Windows NT 10.0; Win64; x64) AppleWebKit/537.36 (KHTML, like Gecko) Chrome/69.0.3497.100 Safari/537.36',\n",
    "    'Connection':'keep-alive'\n",
    "}\n",
    "# cookies = '__mta=147569288.1539613293789.1539613310187.1539616722700.3; v=3; \\\n",
    "#         _lxsdk_cuid=166781a789ec8-0139751cb2ee6e-8383268-144000-166781a789fc8; \\\n",
    "#         __mta=147569288.1539613293789.1539613293789.1539613310187.2; uuid_n_v=v1; \\\n",
    "#         iuuid=9AF20AC0D08D11E89D508D0D63C93F71D10FE6A2B71B406D800371E2CD9160FE; webp=true; ci=96%2C%E6%B5%8E%E5%8D%97; \\\n",
    "#         _lxsdk=9AF20AC0D08D11E89D508D0D63C93F71D10FE6A2B71B406D800371E2CD9160FE; _lxsdk_s=166784ecee0-b1a-f0b-22%7C%7C2'\n",
    "# cookie = {}\n",
    "# for line in cookies.split(';'):\n",
    "#     name, value = cookies.strip().split('=', 1)\n",
    "#     cookie[name] = value"
   ]
  },
  {
   "cell_type": "code",
   "execution_count": 3,
   "metadata": {},
   "outputs": [],
   "source": [
    "url='https://so.gushiwen.org/authors/authorvsw_b90660e3e492A10.aspx'"
   ]
  },
  {
   "cell_type": "code",
   "execution_count": 4,
   "metadata": {},
   "outputs": [],
   "source": [
    "html = requests.get(url=url,headers=header).content.decode('utf-8')"
   ]
  },
  {
   "cell_type": "code",
   "execution_count": 5,
   "metadata": {},
   "outputs": [
    {
     "data": {
      "text/plain": [
       "'\\n<!DOCTYPE html PUBLIC \"-//W3C//DTD XHTML 1.0 Transitional//EN\" \"http://www.w3.org/TR/xhtml1/DTD/xhtml1-transitional.dtd\">\\n<html xmlns=\"http://www.w3.org/1999/xhtml\">\\n<head><meta http-equiv=\"Cache-Control\" content=\"no-siteapp\" /><meta http-equiv=\"Cache-Control\" content=\"no-transform \" /><meta http-equiv=\"Content-Type\" content=\"text/html; charset=UTF-8\" /><title>\\n李白的诗词全集(诗集、词集)_古诗文网\\n</title>\\n<script type=\"text/javascript\">\\r\\n    if ((navigator.userAgent.match(/(phone|pad|pod|iPhone|iPod|ios|iPad|Android|Mobile|BlackBerry|IEMobile|MQQBrowser|JUC|Fennec|wOSBrowser|BrowserNG|WebOS|Symbian|Windows Phone)/i))) {\\r\\n        window.location.href = \"https://m.gushiwen.org/authors/authorvsw_b90660e3e492A10.aspx\";\\r\\n    } else {\\r\\n\\r\\n    }\\r\\n</script>\\n<link href=\"/css/skinSo20180726.css\" rel=\"stylesheet\" type=\"text/css\" />\\n<script>\\r\\n        var _hmt = _hmt || [];\\r\\n        (function () {\\r\\n            var hm = document.createElement(\"script\");\\r\\n            hm.src = \"//hm.baidu.com/hm.js?04660099568f561a75456483228a9516\";\\r\\n            var s = document.getElementsByTagName(\"script\")[0];\\r\\n            s.parentNode.insertBefore(hm, s);\\r\\n        })();\\r\\n    </script>\\n</head>\\n<body onclick=\"closeshowBos()\">\\n<div class=\"main1\">\\n<div class=\"cont\">\\n<div class=\"left\">\\n<a href=\"https://www.gushiwen.org/\">古诗文网</a>\\n</div>\\n<div class=\"right\">\\n<div class=\"son1\">\\n<a style=\"margin-left:1px;\" href=\"https://www.gushiwen.org/\">推荐</a>\\n<a href=\"https://www.gushiwen.org/shiwen/\">诗文</a>\\n<a href=\"/mingju/\">名句</a>\\n<a href=\"/authors/\" style=\"background-color:#757863;border-bottom:3px solid #F0EFE2;line-height:43px; height:43px;\">作者</a>\\n<a href=\"/guwen/\">古籍</a>\\n<a href=\"/user/collect.aspx\" rel=\"nofollow\">收藏</a>\\n<a style=\"width:65px;\" href=\"/app/\" target=\"_blank\">手机版</a>\\n</div>\\n<div class=\"son2\">\\n<div class=\"search\">\\n<form action=\"/search.aspx\" onsubmit=\"return selectSearch()\" contentType=\"text/html; charset=utf-8\">\\n<input onkeydown=\"noajaxkeyUp()\" onfocus=\"setInterval(\\'showBos()\\',1000)\" id=\"txtKey\" name=\"value\" type=\"text\" value=\"\" maxlength=\"40\" autocomplete=\"off\" style=\"height:25px; line-height:25px; float:left; padding-left:5px; width:264px; font-size:14px; clear:left; border:0px;\" />\\n<input type=\"submit\" style=\"float:right; width:20px; height:20px; clear:right; margin-top:4px; margin-right:3px; background-image:url(/img/docSearch.png); background-repeat:no-repeat; background-size:20px 20px; border:0px;cursor:pointer;\" value=\"\" />\\n<input id=\"b\" style=\"display:none;\" type=\"text\" />\\n</form>\\n</div>\\n<div id=\"box\"></div>\\n</div>\\n</div>\\n</div>\\n</div>\\n<div class=\"main3\">\\n<div class=\"left\">\\n<div class=\"title\">\\n<div class=\"titleleft\"></div>\\n<h1>李白的诗文全集<span>10 / 125页</span></h1>\\n</div>\\n<div style=\" width:1px; height:1px; overflow:hidden;\">\\n<textarea style=\" background-color:#F0EFE2; border:0px;overflow:hidden;\" cols=\"1\" rows=\"1\" id=\"txtare8422\">雨后烟景绿，晴天散馀霞。东风随春归，发我枝上花。 花落时欲暮，见此令人嗟。愿游名山去，学道飞丹砂。——唐代·李白《落日忆山中》https://so.gushiwen.org/shiwenv_60464f773846.aspx</textarea>\\n</div>\\n<div class=\"sons\">\\n<div class=\"cont\">\\n<div class=\"yizhu\">\\n<img src=\"/img/beipic.png\" width=\"25\" height=\"25\" alt=\"背诵\" onclick=\"OnBeisong(\\'60464f773846\\')\" id=\"btnBeisong60464f773846\"/>\\n<img style=\" display:none;\" src=\"/img/shangpic.png\" width=\"25\" height=\"25\" alt=\"赏析\" onclick=\"OnShangxi(\\'60464f773846\\')\" id=\"btnShangxi60464f773846\"/>\\n<img style=\" display:none;\" src=\"/img/zhupic.png\" width=\"25\" height=\"25\" alt=\"注释\" onclick=\"OnZhushi(\\'60464f773846\\')\" id=\"btnZhushi60464f773846\"/>\\n<img style=\" display:none;\" src=\"/img/yipic.png\" width=\"25\" height=\"25\" alt=\"译文\" onclick=\"OnYiwen(\\'60464f773846\\')\" id=\"btnYiwen60464f773846\" />\\n<script type=\"text/javascript\">\\r\\n                        document.getElementById(\"btnZhushi60464f773846\").style.display = \"block\";\\r\\n                    </script>\\n<script type=\"text/javascript\">\\r\\n                        document.getElementById(\"btnYiwen60464f773846\").style.display = \"block\";\\r\\n                    </script>\\n</div>\\n<p><a style=\"font-size:18px; line-height:22px; height:22px; \" href=\"/shiwenv_60464f773846.aspx\" target=\"_blank\"><b>落日忆山中</b></a></p>\\n<p class=\"source\"><a href=\"https://www.gushiwen.org/shiwen/default.aspx?cstr=%e5%94%90%e4%bb%a3\">唐代</a><span>：</span><a href=\"/authorv_b90660e3e492.aspx\">李白</a></p>\\n<div class=\"contson\" id=\"contson60464f773846\">\\n雨后烟景绿，晴天散馀霞。东风随春归，发我枝上花。 <br />花落时欲暮，见此令人嗟。愿游名山去，学道飞丹砂。\\n</div>\\n</div>\\n<div class=\"tool\">\\n<div class=\"shoucang\"><iframe style=\"width:18px; height:30px; border:0px;\" src=\"/shiwen2017/like.aspx?idsw=8422&from=http://so.gushiwen.org/authors/authorvsw.aspx?idpage=b90660e3e492A10\"></iframe></div>\\n<div class=\"toolpinglun\"><a href=\"javascript:copy(8422)\"><img id=\"copyimg8422\" src=\"/img/copy.png\" alt=\"复制\" width=\"18\" height=\"18\" /></a></div>\\n<div class=\"toolpinglun\" style=\" cursor:pointer;\" onmouseover=\"madeweixin(\\'8422\\',\\'https://m.gushiwen.org/shiwenv_60464f773846.aspx\\')\" onmouseout=\"outweixin(8422)\"><img id=\"weixinimg8422\" src=\"/img/weixin.png\" / alt=\"\" width=\"18\" height=\"18\"/></div>\\n<div class=\"good\"><a id=\"agood8422\" href=\"javascript:goodNew(\\'8422\\',\\'http://so.gushiwen.org/authors/authorvsw.aspx?idpage=b90660e3e492A10\\',139)\"><img src=\"/img/good.png\" / alt=\"赞\" width=\"14\" height=\"14\"/><span>&nbsp;139</span></a></div>\\n</div>\\n<div class=\"toolerweima\" id=\"weixin8422\" style=\"background-color:aqua;\"></div>\\n<div id=\"toolPlay8422\" style=\" display:none;clear:both;\"></div>\\n<div class=\"tag\">\\n<a href=\"https://www.gushiwen.org/shiwen/default.aspx?tstr=%e6%98%a5%e5%a4%a9\">春天</a>\\n<span>，</span><a href=\"https://www.gushiwen.org/shiwen/default.aspx?tstr=%e5%86%99%e9%a3%8e\">写风</a>\\n</div>\\n</div>\\n<div style=\" width:1px; height:1px; overflow:hidden;\">\\n<textarea style=\" background-color:#F0EFE2; border:0px;overflow:hidden;\" cols=\"1\" rows=\"1\" id=\"txtare8410\">地白风色寒，雪花大如手。笑杀陶渊明，不饮杯中酒。 浪抚一张琴，虚栽五株柳。空负头上巾，吾于尔何有。——唐代·李白《嘲王历阳不肯饮酒》https://so.gushiwen.org/shiwenv_22861b058f71.aspx</textarea>\\n</div>\\n<div class=\"sons\">\\n<div class=\"cont\">\\n<div class=\"yizhu\">\\n<img src=\"/img/beipic.png\" width=\"25\" height=\"25\" alt=\"背诵\" onclick=\"OnBeisong(\\'22861b058f71\\')\" id=\"btnBeisong22861b058f71\"/>\\n<img style=\" display:none;\" src=\"/img/shangpic.png\" width=\"25\" height=\"25\" alt=\"赏析\" onclick=\"OnShangxi(\\'22861b058f71\\')\" id=\"btnShangxi22861b058f71\"/>\\n<img style=\" display:none;\" src=\"/img/zhupic.png\" width=\"25\" height=\"25\" alt=\"注释\" onclick=\"OnZhushi(\\'22861b058f71\\')\" id=\"btnZhushi22861b058f71\"/>\\n<img style=\" display:none;\" src=\"/img/yipic.png\" width=\"25\" height=\"25\" alt=\"译文\" onclick=\"OnYiwen(\\'22861b058f71\\')\" id=\"btnYiwen22861b058f71\" />\\n<script type=\"text/javascript\">\\r\\n                        document.getElementById(\"btnShangxi22861b058f71\").style.display = \"block\";\\r\\n                    </script>\\n<script type=\"text/javascript\">\\r\\n                        document.getElementById(\"btnZhushi22861b058f71\").style.display = \"block\";\\r\\n                    </script>\\n<script type=\"text/javascript\">\\r\\n                        document.getElementById(\"btnYiwen22861b058f71\").style.display = \"block\";\\r\\n                    </script>\\n</div>\\n<p><a style=\"font-size:18px; line-height:22px; height:22px; \" href=\"/shiwenv_22861b058f71.aspx\" target=\"_blank\"><b>嘲王历阳不肯饮酒</b></a></p>\\n<p class=\"source\"><a href=\"https://www.gushiwen.org/shiwen/default.aspx?cstr=%e5%94%90%e4%bb%a3\">唐代</a><span>：</span><a href=\"/authorv_b90660e3e492.aspx\">李白</a></p>\\n<div class=\"contson\" id=\"contson22861b058f71\">\\n地白风色寒，雪花大如手。笑杀陶渊明，不饮杯中酒。 <br />浪抚一张琴，虚栽五株柳。空负头上巾，吾于尔何有。\\n</div>\\n</div>\\n<div class=\"tool\">\\n<div class=\"shoucang\"><iframe style=\"width:18px; height:30px; border:0px;\" src=\"/shiwen2017/like.aspx?idsw=8410&from=http://so.gushiwen.org/authors/authorvsw.aspx?idpage=b90660e3e492A10\"></iframe></div>\\n<div class=\"toolpinglun\"><a href=\"javascript:copy(8410)\"><img id=\"copyimg8410\" src=\"/img/copy.png\" alt=\"复制\" width=\"18\" height=\"18\" /></a></div>\\n<div class=\"toolpinglun\" style=\" cursor:pointer;\" onmouseover=\"madeweixin(\\'8410\\',\\'https://m.gushiwen.org/shiwenv_22861b058f71.aspx\\')\" onmouseout=\"outweixin(8410)\"><img id=\"weixinimg8410\" src=\"/img/weixin.png\" / alt=\"\" width=\"18\" height=\"18\"/></div>\\n<div class=\"good\"><a id=\"agood8410\" href=\"javascript:goodNew(\\'8410\\',\\'http://so.gushiwen.org/authors/authorvsw.aspx?idpage=b90660e3e492A10\\',135)\"><img src=\"/img/good.png\" / alt=\"赞\" width=\"14\" height=\"14\"/><span>&nbsp;135</span></a></div>\\n</div>\\n<div class=\"toolerweima\" id=\"weixin8410\" style=\"background-color:aqua;\"></div>\\n<div id=\"toolPlay8410\" style=\" display:none;clear:both;\"></div>\\n<div class=\"tag\">\\n<a href=\"https://www.gushiwen.org/shiwen/default.aspx?tstr=%e5%86%ac%e5%a4%a9\">冬天</a>\\n<span>，</span><a href=\"https://www.gushiwen.org/shiwen/default.aspx?tstr=%e5%86%99%e9%9b%aa\">写雪</a>\\n<span>，</span><a href=\"https://www.gushiwen.org/shiwen/default.aspx?tstr=%e9%a5%ae%e9%85%92\">饮酒</a>\\n<span>，</span><a href=\"https://www.gushiwen.org/shiwen/default.aspx?tstr=%e6%8a%92%e6%83%85\">抒情</a>\\n</div>\\n</div>\\n<div style=\" width:1px; height:1px; overflow:hidden;\">\\n<textarea style=\" background-color:#F0EFE2; border:0px;overflow:hidden;\" cols=\"1\" rows=\"1\" id=\"txtare7787\">名花倾国两相欢，长得君王带笑看。解释春风无限恨，沉香亭北倚阑干。——唐代·李白《清平调·其三》https://so.gushiwen.org/shiwenv_2a0c1e7691b1.aspx</textarea>\\n</div>\\n<div class=\"sons\">\\n<div class=\"cont\">\\n<div class=\"yizhu\">\\n<img src=\"/img/beipic.png\" width=\"25\" height=\"25\" alt=\"背诵\" onclick=\"OnBeisong(\\'2a0c1e7691b1\\')\" id=\"btnBeisong2a0c1e7691b1\"/>\\n<img style=\" display:none;\" src=\"/img/shangpic.png\" width=\"25\" height=\"25\" alt=\"赏析\" onclick=\"OnShangxi(\\'2a0c1e7691b1\\')\" id=\"btnShangxi2a0c1e7691b1\"/>\\n<img style=\" display:none;\" src=\"/img/zhupic.png\" width=\"25\" height=\"25\" alt=\"注释\" onclick=\"OnZhushi(\\'2a0c1e7691b1\\')\" id=\"btnZhushi2a0c1e7691b1\"/>\\n<img style=\" display:none;\" src=\"/img/yipic.png\" width=\"25\" height=\"25\" alt=\"译文\" onclick=\"OnYiwen(\\'2a0c1e7691b1\\')\" id=\"btnYiwen2a0c1e7691b1\" />\\n<script type=\"text/javascript\">\\r\\n                        document.getElementById(\"btnZhushi2a0c1e7691b1\").style.display = \"block\";\\r\\n                    </script>\\n<script type=\"text/javascript\">\\r\\n                        document.getElementById(\"btnYiwen2a0c1e7691b1\").style.display = \"block\";\\r\\n                    </script>\\n</div>\\n<p><a style=\"font-size:18px; line-height:22px; height:22px; \" href=\"/shiwenv_2a0c1e7691b1.aspx\" target=\"_blank\"><b>清平调·其三</b></a></p>\\n<p class=\"source\"><a href=\"https://www.gushiwen.org/shiwen/default.aspx?cstr=%e5%94%90%e4%bb%a3\">唐代</a><span>：</span><a href=\"/authorv_b90660e3e492.aspx\">李白</a></p>\\n<div class=\"contson\" id=\"contson2a0c1e7691b1\">\\n名花倾国两相欢，长得君王带笑看。<br />解释春风无限恨，沉香亭北倚阑干。\\n</div>\\n</div>\\n<div class=\"tool\">\\n<div class=\"shoucang\"><iframe style=\"width:18px; height:30px; border:0px;\" src=\"/shiwen2017/like.aspx?idsw=7787&from=http://so.gushiwen.org/authors/authorvsw.aspx?idpage=b90660e3e492A10\"></iframe></div>\\n<div class=\"toolpinglun\"><a href=\"javascript:copy(7787)\"><img id=\"copyimg7787\" src=\"/img/copy.png\" alt=\"复制\" width=\"18\" height=\"18\" /></a></div>\\n<div class=\"toolpinglun\" style=\" cursor:pointer;\" onmouseover=\"madeweixin(\\'7787\\',\\'https://m.gushiwen.org/shiwenv_2a0c1e7691b1.aspx\\')\" onmouseout=\"outweixin(7787)\"><img id=\"weixinimg7787\" src=\"/img/weixin.png\" / alt=\"\" width=\"18\" height=\"18\"/></div>\\n<div class=\"good\"><a id=\"agood7787\" href=\"javascript:goodNew(\\'7787\\',\\'http://so.gushiwen.org/authors/authorvsw.aspx?idpage=b90660e3e492A10\\',133)\"><img src=\"/img/good.png\" / alt=\"赞\" width=\"14\" height=\"14\"/><span>&nbsp;133</span></a></div>\\n</div>\\n<div class=\"toolerweima\" id=\"weixin7787\" style=\"background-color:aqua;\"></div>\\n<div id=\"toolPlay7787\" style=\" display:none;clear:both;\"></div>\\n<div class=\"tag\">\\n<a href=\"https://www.gushiwen.org/shiwen/default.aspx?tstr=%e4%b9%90%e5%ba%9c\">乐府</a>\\n<span>，</span><a href=\"https://www.gushiwen.org/shiwen/default.aspx?tstr=%e5%86%99%e4%ba%ba\">写人</a>\\n<span>，</span><a href=\"https://www.gushiwen.org/shiwen/default.aspx?tstr=%e5%86%99%e8%8a%b1\">写花</a>\\n</div>\\n</div>\\n<div style=\" width:1px; height:1px; overflow:hidden;\">\\n<textarea style=\" background-color:#F0EFE2; border:0px;overflow:hidden;\" cols=\"1\" rows=\"1\" id=\"txtare8291\">汉江回万里，派作九龙盘。横溃豁中国，崔嵬飞迅湍。六帝沦亡后，三吴不足观。我君混区宇，垂拱众流安。今日任公子，沧浪罢钓竿。——唐代·李白《金陵望汉江》https://so.gushiwen.org/shiwenv_a5c99bf966a1.aspx</textarea>\\n</div>\\n<div class=\"sons\">\\n<div class=\"cont\">\\n<div class=\"yizhu\">\\n<img src=\"/img/beipic.png\" width=\"25\" height=\"25\" alt=\"背诵\" onclick=\"OnBeisong(\\'a5c99bf966a1\\')\" id=\"btnBeisonga5c99bf966a1\"/>\\n<img style=\" display:none;\" src=\"/img/shangpic.png\" width=\"25\" height=\"25\" alt=\"赏析\" onclick=\"OnShangxi(\\'a5c99bf966a1\\')\" id=\"btnShangxia5c99bf966a1\"/>\\n<img style=\" display:none;\" src=\"/img/zhupic.png\" width=\"25\" height=\"25\" alt=\"注释\" onclick=\"OnZhushi(\\'a5c99bf966a1\\')\" id=\"btnZhushia5c99bf966a1\"/>\\n<img style=\" display:none;\" src=\"/img/yipic.png\" width=\"25\" height=\"25\" alt=\"译文\" onclick=\"OnYiwen(\\'a5c99bf966a1\\')\" id=\"btnYiwena5c99bf966a1\" />\\n<script type=\"text/javascript\">\\r\\n                        document.getElementById(\"btnShangxia5c99bf966a1\").style.display = \"block\";\\r\\n                    </script>\\n<script type=\"text/javascript\">\\r\\n                        document.getElementById(\"btnZhushia5c99bf966a1\").style.display = \"block\";\\r\\n                    </script>\\n<script type=\"text/javascript\">\\r\\n                        document.getElementById(\"btnYiwena5c99bf966a1\").style.display = \"block\";\\r\\n                    </script>\\n</div>\\n<p><a style=\"font-size:18px; line-height:22px; height:22px; \" href=\"/shiwenv_a5c99bf966a1.aspx\" target=\"_blank\"><b>金陵望汉江</b></a></p>\\n<p class=\"source\"><a href=\"https://www.gushiwen.org/shiwen/default.aspx?cstr=%e5%94%90%e4%bb%a3\">唐代</a><span>：</span><a href=\"/authorv_b90660e3e492.aspx\">李白</a></p>\\n<div class=\"contson\" id=\"contsona5c99bf966a1\">\\n汉江回万里，派作九龙盘。<br />横溃豁中国，崔嵬飞迅湍。<br />六帝沦亡后，三吴不足观。<br />我君混区宇，垂拱众流安。<br />今日任公子，沧浪罢钓竿。\\n</div>\\n</div>\\n<div class=\"tool\">\\n<div class=\"shoucang\"><iframe style=\"width:18px; height:30px; border:0px;\" src=\"/shiwen2017/like.aspx?idsw=8291&from=http://so.gushiwen.org/authors/authorvsw.aspx?idpage=b90660e3e492A10\"></iframe></div>\\n<div class=\"toolpinglun\"><a href=\"javascript:copy(8291)\"><img id=\"copyimg8291\" src=\"/img/copy.png\" alt=\"复制\" width=\"18\" height=\"18\" /></a></div>\\n<div class=\"toolpinglun\" style=\" cursor:pointer;\" onmouseover=\"madeweixin(\\'8291\\',\\'https://m.gushiwen.org/shiwenv_a5c99bf966a1.aspx\\')\" onmouseout=\"outweixin(8291)\"><img id=\"weixinimg8291\" src=\"/img/weixin.png\" / alt=\"\" width=\"18\" height=\"18\"/></div>\\n<div class=\"good\"><a id=\"agood8291\" href=\"javascript:goodNew(\\'8291\\',\\'http://so.gushiwen.org/authors/authorvsw.aspx?idpage=b90660e3e492A10\\',133)\"><img src=\"/img/good.png\" / alt=\"赞\" width=\"14\" height=\"14\"/><span>&nbsp;133</span></a></div>\\n</div>\\n<div class=\"toolerweima\" id=\"weixin8291\" style=\"background-color:aqua;\"></div>\\n<div id=\"toolPlay8291\" style=\" display:none;clear:both;\"></div>\\n<div class=\"tag\">\\n<a href=\"https://www.gushiwen.org/shiwen/default.aspx?tstr=%e9%95%bf%e6%b1%9f\">长江</a>\\n<span>，</span><a href=\"https://www.gushiwen.org/shiwen/default.aspx?tstr=%e5%86%99%e6%99%af\">写景</a>\\n<span>，</span><a href=\"https://www.gushiwen.org/shiwen/default.aspx?tstr=%e6%8a%92%e6%83%85\">抒情</a>\\n<span>，</span><a href=\"https://www.gushiwen.org/shiwen/default.aspx?tstr=%e5%bf%a7%e5%9b%bd%e5%bf%a7%e6%b0%91\">忧国忧民</a>\\n</div>\\n</div>\\n<div style=\" width:1px; height:1px; overflow:hidden;\">\\n<textarea style=\" background-color:#F0EFE2; border:0px;overflow:hidden;\" cols=\"1\" rows=\"1\" id=\"txtare8159\">见说蚕丛路，崎岖不易行。山从人面起，云傍马头生。芳树笼秦栈，春流绕蜀城。升沉应已定，不必问君平。——唐代·李白《送友人入蜀》https://so.gushiwen.org/shiwenv_0d7022e0bdbd.aspx</textarea>\\n</div>\\n<div class=\"sons\">\\n<div class=\"cont\">\\n<div class=\"yizhu\">\\n<img src=\"/img/beipic.png\" width=\"25\" height=\"25\" alt=\"背诵\" onclick=\"OnBeisong(\\'0d7022e0bdbd\\')\" id=\"btnBeisong0d7022e0bdbd\"/>\\n<img style=\" display:none;\" src=\"/img/shangpic.png\" width=\"25\" height=\"25\" alt=\"赏析\" onclick=\"OnShangxi(\\'0d7022e0bdbd\\')\" id=\"btnShangxi0d7022e0bdbd\"/>\\n<img style=\" display:none;\" src=\"/img/zhupic.png\" width=\"25\" height=\"25\" alt=\"注释\" onclick=\"OnZhushi(\\'0d7022e0bdbd\\')\" id=\"btnZhushi0d7022e0bdbd\"/>\\n<img style=\" display:none;\" src=\"/img/yipic.png\" width=\"25\" height=\"25\" alt=\"译文\" onclick=\"OnYiwen(\\'0d7022e0bdbd\\')\" id=\"btnYiwen0d7022e0bdbd\" />\\n<script type=\"text/javascript\">\\r\\n                        document.getElementById(\"btnShangxi0d7022e0bdbd\").style.display = \"block\";\\r\\n                    </script>\\n<script type=\"text/javascript\">\\r\\n                        document.getElementById(\"btnZhushi0d7022e0bdbd\").style.display = \"block\";\\r\\n                    </script>\\n<script type=\"text/javascript\">\\r\\n                        document.getElementById(\"btnYiwen0d7022e0bdbd\").style.display = \"block\";\\r\\n                    </script>\\n</div>\\n<p><a style=\"font-size:18px; line-height:22px; height:22px; \" href=\"/shiwenv_0d7022e0bdbd.aspx\" target=\"_blank\"><b>送友人入蜀</b></a></p>\\n<p class=\"source\"><a href=\"https://www.gushiwen.org/shiwen/default.aspx?cstr=%e5%94%90%e4%bb%a3\">唐代</a><span>：</span><a href=\"/authorv_b90660e3e492.aspx\">李白</a></p>\\n<div class=\"contson\" id=\"contson0d7022e0bdbd\">\\n见说蚕丛路，崎岖不易行。<br />山从人面起，云傍马头生。<br />芳树笼秦栈，春流绕蜀城。<br />升沉应已定，不必问君平。\\n</div>\\n</div>\\n<div class=\"tool\">\\n<div class=\"shoucang\"><iframe style=\"width:18px; height:30px; border:0px;\" src=\"/shiwen2017/like.aspx?idsw=8159&from=http://so.gushiwen.org/authors/authorvsw.aspx?idpage=b90660e3e492A10\"></iframe></div>\\n<div class=\"toolpinglun\"><a href=\"javascript:copy(8159)\"><img id=\"copyimg8159\" src=\"/img/copy.png\" alt=\"复制\" width=\"18\" height=\"18\" /></a></div>\\n<div class=\"toolpinglun\" style=\" cursor:pointer;\" onmouseover=\"madeweixin(\\'8159\\',\\'https://m.gushiwen.org/shiwenv_0d7022e0bdbd.aspx\\')\" onmouseout=\"outweixin(8159)\"><img id=\"weixinimg8159\" src=\"/img/weixin.png\" / alt=\"\" width=\"18\" height=\"18\"/></div>\\n<div class=\"good\"><a id=\"agood8159\" href=\"javascript:goodNew(\\'8159\\',\\'http://so.gushiwen.org/authors/authorvsw.aspx?idpage=b90660e3e492A10\\',127)\"><img src=\"/img/good.png\" / alt=\"赞\" width=\"14\" height=\"14\"/><span>&nbsp;127</span></a></div>\\n</div>\\n<div class=\"toolerweima\" id=\"weixin8159\" style=\"background-color:aqua;\"></div>\\n<div id=\"toolPlay8159\" style=\" display:none;clear:both;\"></div>\\n<div class=\"tag\">\\n<a href=\"https://www.gushiwen.org/shiwen/default.aspx?tstr=%e9%80%81%e5%88%ab\">送别</a>\\n<span>，</span><a href=\"https://www.gushiwen.org/shiwen/default.aspx?tstr=%e5%b1%b1%e6%b0%b4\">山水</a>\\n<span>，</span><a href=\"https://www.gushiwen.org/shiwen/default.aspx?tstr=%e6%8a%92%e6%83%85\">抒情</a>\\n<span>，</span><a href=\"https://www.gushiwen.org/shiwen/default.aspx?tstr=%e5%8a%9d%e5%8b%89\">劝勉</a>\\n</div>\\n</div>\\n<div style=\" width:1px; height:1px; overflow:hidden;\">\\n<textarea style=\" background-color:#F0EFE2; border:0px;overflow:hidden;\" cols=\"1\" rows=\"1\" id=\"txtare8529\">未洗染尘缨，归来芳草平。一条藤径绿，万点雪峰晴。 地冷叶先尽，谷寒云不行。嫩篁侵舍密，古树倒江横。 白犬离村吠，苍苔壁上生。穿厨孤雉过，临屋旧猿鸣。 木落禽巢在，篱疏兽路成。拂床苍鼠走，倒箧素鱼惊。 洗砚修良策，敲松拟素贞。此时重一去，去合到三清。——唐代·李白《冬日归旧山》https://so.gushiwen.org/shiwenv_da72f5c29195.aspx</textarea>\\n</div>\\n<div class=\"sons\">\\n<div class=\"cont\">\\n<div class=\"yizhu\">\\n<img src=\"/img/beipic.png\" width=\"25\" height=\"25\" alt=\"背诵\" onclick=\"OnBeisong(\\'da72f5c29195\\')\" id=\"btnBeisongda72f5c29195\"/>\\n<img style=\" display:none;\" src=\"/img/shangpic.png\" width=\"25\" height=\"25\" alt=\"赏析\" onclick=\"OnShangxi(\\'da72f5c29195\\')\" id=\"btnShangxida72f5c29195\"/>\\n<img style=\" display:none;\" src=\"/img/zhupic.png\" width=\"25\" height=\"25\" alt=\"注释\" onclick=\"OnZhushi(\\'da72f5c29195\\')\" id=\"btnZhushida72f5c29195\"/>\\n<img style=\" display:none;\" src=\"/img/yipic.png\" width=\"25\" height=\"25\" alt=\"译文\" onclick=\"OnYiwen(\\'da72f5c29195\\')\" id=\"btnYiwenda72f5c29195\" />\\n<script type=\"text/javascript\">\\r\\n                        document.getElementById(\"btnShangxida72f5c29195\").style.display = \"block\";\\r\\n                    </script>\\n<script type=\"text/javascript\">\\r\\n                        document.getElementById(\"btnZhushida72f5c29195\").style.display = \"block\";\\r\\n                    </script>\\n</div>\\n<p><a style=\"font-size:18px; line-height:22px; height:22px; \" href=\"/shiwenv_da72f5c29195.aspx\" target=\"_blank\"><b>冬日归旧山</b></a></p>\\n<p class=\"source\"><a href=\"https://www.gushiwen.org/shiwen/default.aspx?cstr=%e5%94%90%e4%bb%a3\">唐代</a><span>：</span><a href=\"/authorv_b90660e3e492.aspx\">李白</a></p>\\n<div class=\"contson\" id=\"contsonda72f5c29195\">\\n未洗染尘缨，归来芳草平。一条藤径绿，万点雪峰晴。 <br />地冷叶先尽，谷寒云不行。嫩篁侵舍密，古树倒江横。 <br />白犬离村吠，苍苔壁上生。穿厨孤雉过，临屋旧猿鸣。 <br />木落禽巢在，篱疏兽路成。拂床苍鼠走，倒箧素鱼惊。 <br />洗砚修良策，敲松拟素贞。此时重一去，去合到三清。\\n</div>\\n</div>\\n<div class=\"tool\">\\n<div class=\"shoucang\"><iframe style=\"width:18px; height:30px; border:0px;\" src=\"/shiwen2017/like.aspx?idsw=8529&from=http://so.gushiwen.org/authors/authorvsw.aspx?idpage=b90660e3e492A10\"></iframe></div>\\n<div class=\"toolpinglun\"><a href=\"javascript:copy(8529)\"><img id=\"copyimg8529\" src=\"/img/copy.png\" alt=\"复制\" width=\"18\" height=\"18\" /></a></div>\\n<div class=\"toolpinglun\" style=\" cursor:pointer;\" onmouseover=\"madeweixin(\\'8529\\',\\'https://m.gushiwen.org/shiwenv_da72f5c29195.aspx\\')\" onmouseout=\"outweixin(8529)\"><img id=\"weixinimg8529\" src=\"/img/weixin.png\" / alt=\"\" width=\"18\" height=\"18\"/></div>\\n<div class=\"good\"><a id=\"agood8529\" href=\"javascript:goodNew(\\'8529\\',\\'http://so.gushiwen.org/authors/authorvsw.aspx?idpage=b90660e3e492A10\\',125)\"><img src=\"/img/good.png\" / alt=\"赞\" width=\"14\" height=\"14\"/><span>&nbsp;125</span></a></div>\\n</div>\\n<div class=\"toolerweima\" id=\"weixin8529\" style=\"background-color:aqua;\"></div>\\n<div id=\"toolPlay8529\" style=\" display:none;clear:both;\"></div>\\n<div class=\"tag\">\\n<a href=\"https://www.gushiwen.org/shiwen/default.aspx?tstr=%e5%86%ac%e5%a4%a9\">冬天</a>\\n<span>，</span><a href=\"https://www.gushiwen.org/shiwen/default.aspx?tstr=%e5%86%99%e6%99%af\">写景</a>\\n<span>，</span><a href=\"https://www.gushiwen.org/shiwen/default.aspx?tstr=%e5%8a%b1%e5%bf%97\">励志</a>\\n</div>\\n</div>\\n<div style=\" width:1px; height:1px; overflow:hidden;\">\\n<textarea style=\" background-color:#F0EFE2; border:0px;overflow:hidden;\" cols=\"1\" rows=\"1\" id=\"txtare71289\">南湖秋水夜无烟，耐可乘流直上天。且就洞庭赊月色，将船买酒白云边。——唐代·李白《游洞庭湖五首·其二》https://so.gushiwen.org/shiwenv_c03df9622245.aspx</textarea>\\n</div>\\n<div class=\"sons\">\\n<div class=\"cont\">\\n<div class=\"yizhu\">\\n<img src=\"/img/beipic.png\" width=\"25\" height=\"25\" alt=\"背诵\" onclick=\"OnBeisong(\\'c03df9622245\\')\" id=\"btnBeisongc03df9622245\"/>\\n<img style=\" display:none;\" src=\"/img/shangpic.png\" width=\"25\" height=\"25\" alt=\"赏析\" onclick=\"OnShangxi(\\'c03df9622245\\')\" id=\"btnShangxic03df9622245\"/>\\n<img style=\" display:none;\" src=\"/img/zhupic.png\" width=\"25\" height=\"25\" alt=\"注释\" onclick=\"OnZhushi(\\'c03df9622245\\')\" id=\"btnZhushic03df9622245\"/>\\n<img style=\" display:none;\" src=\"/img/yipic.png\" width=\"25\" height=\"25\" alt=\"译文\" onclick=\"OnYiwen(\\'c03df9622245\\')\" id=\"btnYiwenc03df9622245\" />\\n<script type=\"text/javascript\">\\r\\n                        document.getElementById(\"btnShangxic03df9622245\").style.display = \"block\";\\r\\n                    </script>\\n<script type=\"text/javascript\">\\r\\n                        document.getElementById(\"btnZhushic03df9622245\").style.display = \"block\";\\r\\n                    </script>\\n<script type=\"text/javascript\">\\r\\n                        document.getElementById(\"btnYiwenc03df9622245\").style.display = \"block\";\\r\\n                    </script>\\n</div>\\n<p><a style=\"font-size:18px; line-height:22px; height:22px; \" href=\"/shiwenv_c03df9622245.aspx\" target=\"_blank\"><b>游洞庭湖五首·其二</b></a></p>\\n<p class=\"source\"><a href=\"https://www.gushiwen.org/shiwen/default.aspx?cstr=%e5%94%90%e4%bb%a3\">唐代</a><span>：</span><a href=\"/authorv_b90660e3e492.aspx\">李白</a></p>\\n<div class=\"contson\" id=\"contsonc03df9622245\">\\n南湖秋水夜无烟，耐可乘流直上天。<br />且就洞庭赊月色，将船买酒白云边。\\n</div>\\n</div>\\n<div class=\"tool\">\\n<div class=\"shoucang\"><iframe style=\"width:18px; height:30px; border:0px;\" src=\"/shiwen2017/like.aspx?idsw=71289&from=http://so.gushiwen.org/authors/authorvsw.aspx?idpage=b90660e3e492A10\"></iframe></div>\\n<div class=\"toolpinglun\"><a href=\"javascript:copy(71289)\"><img id=\"copyimg71289\" src=\"/img/copy.png\" alt=\"复制\" width=\"18\" height=\"18\" /></a></div>\\n<div class=\"toolpinglun\" style=\" cursor:pointer;\" onmouseover=\"madeweixin(\\'71289\\',\\'https://m.gushiwen.org/shiwenv_c03df9622245.aspx\\')\" onmouseout=\"outweixin(71289)\"><img id=\"weixinimg71289\" src=\"/img/weixin.png\" / alt=\"\" width=\"18\" height=\"18\"/></div>\\n<div class=\"good\"><a id=\"agood71289\" href=\"javascript:goodNew(\\'71289\\',\\'http://so.gushiwen.org/authors/authorvsw.aspx?idpage=b90660e3e492A10\\',122)\"><img src=\"/img/good.png\" / alt=\"赞\" width=\"14\" height=\"14\"/><span>&nbsp;122</span></a></div>\\n</div>\\n<div class=\"toolerweima\" id=\"weixin71289\" style=\"background-color:aqua;\"></div>\\n<div id=\"toolPlay71289\" style=\" display:none;clear:both;\"></div>\\n<div class=\"tag\">\\n<a href=\"https://www.gushiwen.org/shiwen/default.aspx?tstr=%e6%9c%88%e5%a4%9c\">月夜</a>\\n<span>，</span><a href=\"https://www.gushiwen.org/shiwen/default.aspx?tstr=%e8%a1%8c%e8%88%9f\">行舟</a>\\n<span>，</span><a href=\"https://www.gushiwen.org/shiwen/default.aspx?tstr=%e5%86%99%e6%99%af\">写景</a>\\n<span>，</span><a href=\"https://www.gushiwen.org/shiwen/default.aspx?tstr=%e6%8a%92%e6%80%80\">抒怀</a>\\n</div>\\n</div>\\n<div style=\" width:1px; height:1px; overflow:hidden;\">\\n<textarea style=\" background-color:#F0EFE2; border:0px;overflow:hidden;\" cols=\"1\" rows=\"1\" id=\"txtare7897\">朝见裴叔则，朗如行玉山。黄河落天走东海，万里写入胸怀间。身骑白鼋不敢度，金高南山买君顾。徘徊六合无相知，飘若浮云且西去！——唐代·李白《赠裴十四》https://so.gushiwen.org/shiwenv_9569992ac117.aspx</textarea>\\n</div>\\n<div class=\"sons\">\\n<div class=\"cont\">\\n<div class=\"yizhu\">\\n<img src=\"/img/beipic.png\" width=\"25\" height=\"25\" alt=\"背诵\" onclick=\"OnBeisong(\\'9569992ac117\\')\" id=\"btnBeisong9569992ac117\"/>\\n<img style=\" display:none;\" src=\"/img/shangpic.png\" width=\"25\" height=\"25\" alt=\"赏析\" onclick=\"OnShangxi(\\'9569992ac117\\')\" id=\"btnShangxi9569992ac117\"/>\\n<img style=\" display:none;\" src=\"/img/zhupic.png\" width=\"25\" height=\"25\" alt=\"注释\" onclick=\"OnZhushi(\\'9569992ac117\\')\" id=\"btnZhushi9569992ac117\"/>\\n<img style=\" display:none;\" src=\"/img/yipic.png\" width=\"25\" height=\"25\" alt=\"译文\" onclick=\"OnYiwen(\\'9569992ac117\\')\" id=\"btnYiwen9569992ac117\" />\\n<script type=\"text/javascript\">\\r\\n                        document.getElementById(\"btnShangxi9569992ac117\").style.display = \"block\";\\r\\n                    </script>\\n<script type=\"text/javascript\">\\r\\n                        document.getElementById(\"btnZhushi9569992ac117\").style.display = \"block\";\\r\\n                    </script>\\n<script type=\"text/javascript\">\\r\\n                        document.getElementById(\"btnYiwen9569992ac117\").style.display = \"block\";\\r\\n                    </script>\\n</div>\\n<p><a style=\"font-size:18px; line-height:22px; height:22px; \" href=\"/shiwenv_9569992ac117.aspx\" target=\"_blank\"><b>赠裴十四</b></a></p>\\n<p class=\"source\"><a href=\"https://www.gushiwen.org/shiwen/default.aspx?cstr=%e5%94%90%e4%bb%a3\">唐代</a><span>：</span><a href=\"/authorv_b90660e3e492.aspx\">李白</a></p>\\n<div class=\"contson\" id=\"contson9569992ac117\">\\n朝见裴叔则，朗如行玉山。<br />黄河落天走东海，万里写入胸怀间。<br />身骑白鼋不敢度，金高南山买君顾。<br />徘徊六合无相知，飘若浮云且西去！\\n</div>\\n</div>\\n<div class=\"tool\">\\n<div class=\"shoucang\"><iframe style=\"width:18px; height:30px; border:0px;\" src=\"/shiwen2017/like.aspx?idsw=7897&from=http://so.gushiwen.org/authors/authorvsw.aspx?idpage=b90660e3e492A10\"></iframe></div>\\n<div class=\"toolpinglun\"><a href=\"javascript:copy(7897)\"><img id=\"copyimg7897\" src=\"/img/copy.png\" alt=\"复制\" width=\"18\" height=\"18\" /></a></div>\\n<div class=\"toolpinglun\" style=\" cursor:pointer;\" onmouseover=\"madeweixin(\\'7897\\',\\'https://m.gushiwen.org/shiwenv_9569992ac117.aspx\\')\" onmouseout=\"outweixin(7897)\"><img id=\"weixinimg7897\" src=\"/img/weixin.png\" / alt=\"\" width=\"18\" height=\"18\"/></div>\\n<div class=\"good\"><a id=\"agood7897\" href=\"javascript:goodNew(\\'7897\\',\\'http://so.gushiwen.org/authors/authorvsw.aspx?idpage=b90660e3e492A10\\',122)\"><img src=\"/img/good.png\" / alt=\"赞\" width=\"14\" height=\"14\"/><span>&nbsp;122</span></a></div>\\n</div>\\n<div class=\"toolerweima\" id=\"weixin7897\" style=\"background-color:aqua;\"></div>\\n<div id=\"toolPlay7897\" style=\" display:none;clear:both;\"></div>\\n<div class=\"tag\">\\n<a href=\"https://www.gushiwen.org/shiwen/default.aspx?tstr=%e8%b5%a0%e5%88%ab\">赠别</a>\\n<span>，</span><a href=\"https://www.gushiwen.org/shiwen/default.aspx?tstr=%e8%b5%9e%e9%a2%82\">赞颂</a>\\n<span>，</span><a href=\"https://www.gushiwen.org/shiwen/default.aspx?tstr=%e5%8f%8b%e4%ba%ba\">友人</a>\\n</div>\\n</div>\\n<div style=\" width:1px; height:1px; overflow:hidden;\">\\n<textarea style=\" background-color:#F0EFE2; border:0px;overflow:hidden;\" cols=\"1\" rows=\"1\" id=\"txtare71278\">涉江玩秋水，爱此红蕖鲜。攀荷弄其珠，荡漾不成圆。佳人彩云里，欲赠隔远天。相思无因见，怅望凉风前。——唐代·李白《折荷有赠》https://so.gushiwen.org/shiwenv_efee623c144c.aspx</textarea>\\n</div>\\n<div class=\"sons\">\\n<div class=\"cont\">\\n<div class=\"yizhu\">\\n<img src=\"/img/beipic.png\" width=\"25\" height=\"25\" alt=\"背诵\" onclick=\"OnBeisong(\\'efee623c144c\\')\" id=\"btnBeisongefee623c144c\"/>\\n<img style=\" display:none;\" src=\"/img/shangpic.png\" width=\"25\" height=\"25\" alt=\"赏析\" onclick=\"OnShangxi(\\'efee623c144c\\')\" id=\"btnShangxiefee623c144c\"/>\\n<img style=\" display:none;\" src=\"/img/zhupic.png\" width=\"25\" height=\"25\" alt=\"注释\" onclick=\"OnZhushi(\\'efee623c144c\\')\" id=\"btnZhushiefee623c144c\"/>\\n<img style=\" display:none;\" src=\"/img/yipic.png\" width=\"25\" height=\"25\" alt=\"译文\" onclick=\"OnYiwen(\\'efee623c144c\\')\" id=\"btnYiwenefee623c144c\" />\\n<script type=\"text/javascript\">\\r\\n                        document.getElementById(\"btnShangxiefee623c144c\").style.display = \"block\";\\r\\n                    </script>\\n<script type=\"text/javascript\">\\r\\n                        document.getElementById(\"btnZhushiefee623c144c\").style.display = \"block\";\\r\\n                    </script>\\n<script type=\"text/javascript\">\\r\\n                        document.getElementById(\"btnYiwenefee623c144c\").style.display = \"block\";\\r\\n                    </script>\\n</div>\\n<p><a style=\"font-size:18px; line-height:22px; height:22px; \" href=\"/shiwenv_efee623c144c.aspx\" target=\"_blank\"><b>折荷有赠</b></a></p>\\n<p class=\"source\"><a href=\"https://www.gushiwen.org/shiwen/default.aspx?cstr=%e5%94%90%e4%bb%a3\">唐代</a><span>：</span><a href=\"/authorv_b90660e3e492.aspx\">李白</a></p>\\n<div class=\"contson\" id=\"contsonefee623c144c\">\\n涉江玩秋水，爱此红蕖鲜。<br />攀荷弄其珠，荡漾不成圆。<br />佳人彩云里，欲赠隔远天。<br />相思无因见，怅望凉风前。\\n</div>\\n</div>\\n<div class=\"tool\">\\n<div class=\"shoucang\"><iframe style=\"width:18px; height:30px; border:0px;\" src=\"/shiwen2017/like.aspx?idsw=71278&from=http://so.gushiwen.org/authors/authorvsw.aspx?idpage=b90660e3e492A10\"></iframe></div>\\n<div class=\"toolpinglun\"><a href=\"javascript:copy(71278)\"><img id=\"copyimg71278\" src=\"/img/copy.png\" alt=\"复制\" width=\"18\" height=\"18\" /></a></div>\\n<div class=\"toolpinglun\" style=\" cursor:pointer;\" onmouseover=\"madeweixin(\\'71278\\',\\'https://m.gushiwen.org/shiwenv_efee623c144c.aspx\\')\" onmouseout=\"outweixin(71278)\"><img id=\"weixinimg71278\" src=\"/img/weixin.png\" / alt=\"\" width=\"18\" height=\"18\"/></div>\\n<div class=\"good\"><a id=\"agood71278\" href=\"javascript:goodNew(\\'71278\\',\\'http://so.gushiwen.org/authors/authorvsw.aspx?idpage=b90660e3e492A10\\',121)\"><img src=\"/img/good.png\" / alt=\"赞\" width=\"14\" height=\"14\"/><span>&nbsp;121</span></a></div>\\n</div>\\n<div class=\"toolerweima\" id=\"weixin71278\" style=\"background-color:aqua;\"></div>\\n<div id=\"toolPlay71278\" style=\" display:none;clear:both;\"></div>\\n<div class=\"tag\">\\n<a href=\"https://www.gushiwen.org/shiwen/default.aspx?tstr=%e8%8d%b7%e8%8a%b1\">荷花</a>\\n<span>，</span><a href=\"https://www.gushiwen.org/shiwen/default.aspx?tstr=%e8%a8%80%e5%bf%97\">言志</a>\\n<span>，</span><a href=\"https://www.gushiwen.org/shiwen/default.aspx?tstr=%e6%83%86%e6%80%85\">惆怅</a>\\n</div>\\n</div>\\n<div style=\" width:1px; height:1px; overflow:hidden;\">\\n<textarea style=\" background-color:#F0EFE2; border:0px;overflow:hidden;\" cols=\"1\" rows=\"1\" id=\"txtare7838\">木兰之枻沙棠舟，玉箫金管坐两头。美酒樽中置千斛，载妓随波任去留。仙人有待乘黄鹤，海客无心随白鸥。屈平辞赋悬日月，楚王台榭空山丘。兴酣落笔摇五岳，诗成笑傲凌沧洲。功名富贵若长在，汉水亦应西北流。——唐代·李白《江上吟》https://so.gushiwen.org/shiwenv_9c5e81f89b48.aspx</textarea>\\n</div>\\n<div class=\"sons\">\\n<div class=\"cont\">\\n<div class=\"yizhu\">\\n<img src=\"/img/beipic.png\" width=\"25\" height=\"25\" alt=\"背诵\" onclick=\"OnBeisong(\\'9c5e81f89b48\\')\" id=\"btnBeisong9c5e81f89b48\"/>\\n<img style=\" display:none;\" src=\"/img/shangpic.png\" width=\"25\" height=\"25\" alt=\"赏析\" onclick=\"OnShangxi(\\'9c5e81f89b48\\')\" id=\"btnShangxi9c5e81f89b48\"/>\\n<img style=\" display:none;\" src=\"/img/zhupic.png\" width=\"25\" height=\"25\" alt=\"注释\" onclick=\"OnZhushi(\\'9c5e81f89b48\\')\" id=\"btnZhushi9c5e81f89b48\"/>\\n<img style=\" display:none;\" src=\"/img/yipic.png\" width=\"25\" height=\"25\" alt=\"译文\" onclick=\"OnYiwen(\\'9c5e81f89b48\\')\" id=\"btnYiwen9c5e81f89b48\" />\\n<script type=\"text/javascript\">\\r\\n                        document.getElementById(\"btnShangxi9c5e81f89b48\").style.display = \"block\";\\r\\n                    </script>\\n<script type=\"text/javascript\">\\r\\n                        document.getElementById(\"btnZhushi9c5e81f89b48\").style.display = \"block\";\\r\\n                    </script>\\n<script type=\"text/javascript\">\\r\\n                        document.getElementById(\"btnYiwen9c5e81f89b48\").style.display = \"block\";\\r\\n                    </script>\\n</div>\\n<p><a style=\"font-size:18px; line-height:22px; height:22px; \" href=\"/shiwenv_9c5e81f89b48.aspx\" target=\"_blank\"><b>江上吟</b></a></p>\\n<p class=\"source\"><a href=\"https://www.gushiwen.org/shiwen/default.aspx?cstr=%e5%94%90%e4%bb%a3\">唐代</a><span>：</span><a href=\"/authorv_b90660e3e492.aspx\">李白</a></p>\\n<div class=\"contson\" id=\"contson9c5e81f89b48\">\\n<p>木兰之枻沙棠舟，玉箫金管坐两头。<br />美酒樽中置千斛，载妓随波任去留。<br />仙人有待乘黄鹤，海客无心随白鸥。<br />屈平辞赋悬日月，楚王台榭空山丘。<br />兴酣落笔摇五岳，诗成笑傲凌沧洲。<br />功名富贵若长在，汉水亦应西北流。</p>\\n</div>\\n</div>\\n<div class=\"tool\">\\n<div class=\"shoucang\"><iframe style=\"width:18px; height:30px; border:0px;\" src=\"/shiwen2017/like.aspx?idsw=7838&from=http://so.gushiwen.org/authors/authorvsw.aspx?idpage=b90660e3e492A10\"></iframe></div>\\n<div class=\"toolpinglun\"><a href=\"javascript:copy(7838)\"><img id=\"copyimg7838\" src=\"/img/copy.png\" alt=\"复制\" width=\"18\" height=\"18\" /></a></div>\\n<div class=\"toolpinglun\" style=\" cursor:pointer;\" onmouseover=\"madeweixin(\\'7838\\',\\'https://m.gushiwen.org/shiwenv_9c5e81f89b48.aspx\\')\" onmouseout=\"outweixin(7838)\"><img id=\"weixinimg7838\" src=\"/img/weixin.png\" / alt=\"\" width=\"18\" height=\"18\"/></div>\\n<div class=\"good\"><a id=\"agood7838\" href=\"javascript:goodNew(\\'7838\\',\\'http://so.gushiwen.org/authors/authorvsw.aspx?idpage=b90660e3e492A10\\',118)\"><img src=\"/img/good.png\" / alt=\"赞\" width=\"14\" height=\"14\"/><span>&nbsp;118</span></a></div>\\n</div>\\n<div class=\"toolerweima\" id=\"weixin7838\" style=\"background-color:aqua;\"></div>\\n<div id=\"toolPlay7838\" style=\" display:none;clear:both;\"></div>\\n<div class=\"tag\">\\n<a href=\"https://www.gushiwen.org/shiwen/default.aspx?tstr=%e8%87%aa%e7%94%b1\">自由</a>\\n<span>，</span><a href=\"https://www.gushiwen.org/shiwen/default.aspx?tstr=%e7%94%9f%e6%b4%bb\">生活</a>\\n</div>\\n</div>\\n<form id=\"FromPage\" method=\"get\" action=\"/authors/authorvsw.aspx\" onsubmit=\"return PageSubmit()\">\\n<div class=\"pagesright\">\\n<a class=\"amore\" href=\"/authors/authorvsw_b90660e3e492A11.aspx\">下一页</a>\\n<a href=\"/authors/authorvsw_b90660e3e492A9.aspx\">上一页</a>\\n<span style=\" background-color:#E1E0C7; border:0px; margin-top:22px; width:auto;\">/ 125页</span>\\n<span class=\"curent\"><input id=\"putpage\" name=\"page\" value=\"10\" autocomplete=\"off\" onblur=\"SubPage()\" /></span>\\n<label id=\"temppage\" style=\"display:none;\">10</label>\\n<label id=\"sumPage\" style=\"display:none;\">125</label>\\n<input type=\"hidden\" name=\"id\" value=\"b90660e3e492\" />\\n</div>\\n</form>\\n</div>\\n<div class=\"right\">\\n<div style=\" width:1px; height:1px; overflow:hidden;\">\\n<textarea style=\" background-color:#F0EFE2; border:0px;overflow:hidden;\" cols=\"1\" rows=\"1\" id=\"txtareAuthor247\">李白（701年－762年），字太白，号青莲居士，唐朝浪漫主义诗人，被后人誉为“诗仙”。祖籍陇西成纪(待考)，出生于西域碎叶城，4岁再随父迁至剑南道绵州。李白存世诗文千余篇，有《李太白集》传世。762年病逝，享年61岁。其墓在今安徽当涂，四川江油、湖北安陆有纪念馆。https://so.gushiwen.org/authorv_b90660e3e492.aspx</textarea>\\n</div>\\n<div class=\"sonspic\">\\n<div class=\"cont\">\\n<div class=\"divimg\">\\n<a href=\"/authorv_b90660e3e492.aspx\"><img src=\"https://img.gushiwen.org/authorImg/libai.jpg\" width=\"105\" height=\"150\" alt=\"李白\"/></a>\\n</div>\\n<p><a style=\"font-size:18px; line-height:22px; height:22px;\" href=\"/authorv_b90660e3e492.aspx\"><b>李白</b></a></p>\\n<p style=\" margin:0px;\">李白（701年－762年），字太白，号青莲居士，唐朝浪漫主义诗人，被后人誉为“诗仙”。祖籍陇西成纪(待考)，出生于西域碎叶城，4岁再随父迁至剑南道绵州。李白存世诗文千余篇，有《李太白集》传世。762年病逝，享年61岁。其墓在今安徽当涂，四川江油、湖北安陆有纪念馆。</p>\\n</div>\\n<div class=\"tool\">\\n<div class=\"shoucang\"><iframe style=\"width:18px; height:30px; border:0px;\" src=\"/authors/like2017.aspx?idau=247&from=http://so.gushiwen.org/authors/authorvsw.aspx?idpage=b90660e3e492A10\"></iframe></div>\\n<div class=\"toolpinglun\"><a href=\"javascript:copyAuthor(247)\"><img src=\"/img/copy.png\" alt=\"复制\" width=\"18\" height=\"18\" /></a></div>\\n<div class=\"toolpinglun\" style=\"cursor:pointer;\" onmouseover=\"madeweixinAuthor(\\'247\\',\\'https://m.gushiwen.org/authorv_b90660e3e492.aspx\\')\" onmouseout=\"outweixinAuthor(247)\"><img id=\"weixinAuthorImg247\" src=\"/img/weixin.png\" / alt=\"\" width=\"18\" height=\"18\"/></div>\\n<div class=\"good\"><a id=\"agoodAuthor247\" href=\"javascript:goodAuthorNew(\\'247\\',\\'http://so.gushiwen.org/authors/authorvsw.aspx?idpage=b90660e3e492A10\\',6422)\"><img src=\"/img/good.png\" / alt=\"赞\" width=\"14\" height=\"14\"/><span>&nbsp;6422</span></a></div>\\n</div>\\n<div class=\"toolerweima\" id=\"weixinAuthor247\" style=\"background-color:aqua;\"></div>\\n</div>\\n<div class=\"abcd\">\\n<script type=\"text/javascript\" src=\"//aa.gushiwen.org/source/js/site/juyo.js?qlatnkin=r\"></script>\\n</div>\\n<div class=\"juzioncont\">\\n<img style=\" float:left; margin:10px; margin-right:0px;\" src=\"/app/weixin2.jpg\" width=\"100\" height=\"100\" /><p><center style=\"font-size:18px; margin-top:20px;\">诗词秀</center></p><p><center style=\"font-size:18px; margin-top:10px;\">关注教你赏诗词</center></p>\\n</div>\\n<div class=\"abcd\">\\n<script type=\"text/javascript\" src=\"//aa.gushiwen.org/site/8gae.js?cxpttd=ytm\"></script>\\n</div>\\n<div class=\"juzioncont\">\\n<a href=\"/mingju/juv_7c382ce02dc9.aspx\" target=\"_blank\">惟有今宵，皓彩皆同普。</a>\\n</div>\\n<div class=\"abcd\">\\n<script type=\"text/javascript\" src=\"//aa.gushiwen.org/common/web/ho6k.js?nixqkh=krr\"></script>\\n</div>\\n</div>\\n</div>\\n<div class=\"main4\">\\n© 2018 <a href=\"https://www.gushiwen.org/\">古诗文网</a> | <a href=\"https://www.gushiwen.org/shiwen/\">诗文</a> | <a href=\"/mingju/\">名句</a> | <a href=\"/authors/\">作者</a> | <a href=\"/guwen/\">古籍</a> | <a href=\"/jiucuo.aspx?u=\" target=\"_blank\" rel=\"nofollow\">纠错</a>\\n</div>\\n<script type=\"text/javascript\">\\r\\n    window.onload = function () {\\r\\n        setIframeHeight(document.getElementById(\\'external-frame\\'));\\r\\n    };\\r\\n        </script>\\n<script defer=\"defer\" src=\"/js/skinso20180608.js\" type=\"text/javascript\"></script>\\n<script defer=\"defer\" src=\"/js/jquery-3.2.1.min.js\" type=\"text/javascript\"></script>\\n<script defer=\"defer\" src=\"/js/jquery.qrcode.min.js\" type=\"text/javascript\"></script>\\n</body>\\n</html>\\n'"
      ]
     },
     "execution_count": 5,
     "metadata": {},
     "output_type": "execute_result"
    }
   ],
   "source": [
    "html"
   ]
  },
  {
   "cell_type": "code",
   "execution_count": 6,
   "metadata": {},
   "outputs": [],
   "source": [
    "s1= r'<div class=\\\"sons\\\">(.*?)<div class=\\\"tool\\\">'\n",
    "s2= r'<textarea(.*?)<\\/textarea>'\n",
    "s3= r'<head>(.*?)<\\/head>'\n",
    "\n",
    "content = re.findall(s2, html)"
   ]
  },
  {
   "cell_type": "code",
   "execution_count": 9,
   "metadata": {},
   "outputs": [
    {
     "name": "stdout",
     "output_type": "stream",
     "text": [
      "雨后烟景绿，晴天散馀霞。东风随春归，发我枝上花。 花落时欲暮，见此令人嗟。愿游名山去，学道飞丹砂。——唐代·李白《落日忆山中》https://so.gushiwen.org/shiwenv_60464f773846.aspx\n"
     ]
    }
   ],
   "source": [
    "item0=content[0].split('>')[1]\n",
    "print(content[0].split('>')[1])\n"
   ]
  },
  {
   "cell_type": "code",
   "execution_count": 20,
   "metadata": {},
   "outputs": [],
   "source": [
    "item1=item0.split('——')"
   ]
  },
  {
   "cell_type": "code",
   "execution_count": 21,
   "metadata": {},
   "outputs": [],
   "source": [
    "# 获取内容\n",
    "poem_content=item1[0]"
   ]
  },
  {
   "cell_type": "code",
   "execution_count": 24,
   "metadata": {},
   "outputs": [],
   "source": [
    "#获取题目\n",
    "poem_title=item1[1].split('《')[1].split('》')[0]"
   ]
  },
  {
   "cell_type": "code",
   "execution_count": 27,
   "metadata": {},
   "outputs": [],
   "source": [
    "# 获取作者\n",
    "poem_author = item1[1].split('《')[0].split('·')[1]"
   ]
  },
  {
   "cell_type": "code",
   "execution_count": 29,
   "metadata": {},
   "outputs": [],
   "source": [
    "# 获取作者朝代\n",
    "poem_author_dynasty = item1[1].split('《')[0].split('·')[0]"
   ]
  },
  {
   "cell_type": "code",
   "execution_count": 30,
   "metadata": {},
   "outputs": [
    {
     "data": {
      "text/plain": [
       "'唐代'"
      ]
     },
     "execution_count": 30,
     "metadata": {},
     "output_type": "execute_result"
    }
   ],
   "source": [
    "poem_author_Dynasty"
   ]
  },
  {
   "cell_type": "markdown",
   "metadata": {},
   "source": [
    "### 总结：获取李白全部诗词"
   ]
  },
  {
   "cell_type": "code",
   "execution_count": 4,
   "metadata": {},
   "outputs": [],
   "source": [
    "def get_total_poem_libai():  \n",
    "    poetry = pd.DataFrame(columns=['author','dynasty','title','content'])\n",
    "    poetry.to_csv('李白.csv',index=False,encoding=\"utf_8_sig\")   \n",
    "    for i in range(0,125):\n",
    "        time.sleep(0.2)\n",
    "        url='https://so.gushiwen.org/authors/authorvsw_b90660e3e492A'+str(i+1)+'.aspx'\n",
    "        print(str(i)+url)\n",
    "        html = requests.get(url=url,headers=header).content.decode('utf-8')\n",
    "        s= r'<textarea(.*?)<\\/textarea>'\n",
    "        content = re.findall(s, html)\n",
    "        for j in range(0,len(content)-1):\n",
    "            item0=content[j].split('>')[1]\n",
    "            item1=item0.split('——')\n",
    "            # 获取内容\n",
    "            poem_content=item1[0]\n",
    "            #获取题目\n",
    "            poem_title=item1[1].split('《')[1].split('》')[0]\n",
    "            # 获取作者\n",
    "            poem_author = item1[1].split('《')[0].split('·')[1]\n",
    "            # 获取作者朝代\n",
    "            poem_author_dynasty = item1[1].split('《')[0].split('·')[0]\n",
    "            \n",
    "            poetry = poetry.append({'author':poem_author,'dynasty':poem_author_dynasty,\n",
    "                                        'title':poem_title,'content':poem_content},\n",
    "                                        ignore_index=True)\n",
    "        poetry.to_csv('李白.csv',index=False,mode='a', header=False,encoding=\"utf_8_sig\")\n",
    "        poetry.drop(poetry.index,inplace=True)#清空c"
   ]
  },
  {
   "cell_type": "code",
   "execution_count": 5,
   "metadata": {},
   "outputs": [
    {
     "name": "stdout",
     "output_type": "stream",
     "text": [
      "0https://so.gushiwen.org/authors/authorvsw_b90660e3e492A1.aspx\n",
      "1https://so.gushiwen.org/authors/authorvsw_b90660e3e492A2.aspx\n",
      "2https://so.gushiwen.org/authors/authorvsw_b90660e3e492A3.aspx\n",
      "3https://so.gushiwen.org/authors/authorvsw_b90660e3e492A4.aspx\n",
      "4https://so.gushiwen.org/authors/authorvsw_b90660e3e492A5.aspx\n",
      "5https://so.gushiwen.org/authors/authorvsw_b90660e3e492A6.aspx\n",
      "6https://so.gushiwen.org/authors/authorvsw_b90660e3e492A7.aspx\n",
      "7https://so.gushiwen.org/authors/authorvsw_b90660e3e492A8.aspx\n",
      "8https://so.gushiwen.org/authors/authorvsw_b90660e3e492A9.aspx\n",
      "9https://so.gushiwen.org/authors/authorvsw_b90660e3e492A10.aspx\n",
      "10https://so.gushiwen.org/authors/authorvsw_b90660e3e492A11.aspx\n",
      "11https://so.gushiwen.org/authors/authorvsw_b90660e3e492A12.aspx\n",
      "12https://so.gushiwen.org/authors/authorvsw_b90660e3e492A13.aspx\n",
      "13https://so.gushiwen.org/authors/authorvsw_b90660e3e492A14.aspx\n",
      "14https://so.gushiwen.org/authors/authorvsw_b90660e3e492A15.aspx\n",
      "15https://so.gushiwen.org/authors/authorvsw_b90660e3e492A16.aspx\n",
      "16https://so.gushiwen.org/authors/authorvsw_b90660e3e492A17.aspx\n",
      "17https://so.gushiwen.org/authors/authorvsw_b90660e3e492A18.aspx\n",
      "18https://so.gushiwen.org/authors/authorvsw_b90660e3e492A19.aspx\n",
      "19https://so.gushiwen.org/authors/authorvsw_b90660e3e492A20.aspx\n",
      "20https://so.gushiwen.org/authors/authorvsw_b90660e3e492A21.aspx\n",
      "21https://so.gushiwen.org/authors/authorvsw_b90660e3e492A22.aspx\n",
      "22https://so.gushiwen.org/authors/authorvsw_b90660e3e492A23.aspx\n",
      "23https://so.gushiwen.org/authors/authorvsw_b90660e3e492A24.aspx\n",
      "24https://so.gushiwen.org/authors/authorvsw_b90660e3e492A25.aspx\n",
      "25https://so.gushiwen.org/authors/authorvsw_b90660e3e492A26.aspx\n",
      "26https://so.gushiwen.org/authors/authorvsw_b90660e3e492A27.aspx\n",
      "27https://so.gushiwen.org/authors/authorvsw_b90660e3e492A28.aspx\n",
      "28https://so.gushiwen.org/authors/authorvsw_b90660e3e492A29.aspx\n"
     ]
    },
    {
     "ename": "IndexError",
     "evalue": "list index out of range",
     "output_type": "error",
     "traceback": [
      "\u001b[1;31m---------------------------------------------------------------------------\u001b[0m",
      "\u001b[1;31mIndexError\u001b[0m                                Traceback (most recent call last)",
      "\u001b[1;32m<ipython-input-5-73f9cddd27bc>\u001b[0m in \u001b[0;36m<module>\u001b[1;34m()\u001b[0m\n\u001b[1;32m----> 1\u001b[1;33m \u001b[0mget_total_poem_libai\u001b[0m\u001b[1;33m(\u001b[0m\u001b[1;33m)\u001b[0m\u001b[1;33m\u001b[0m\u001b[0m\n\u001b[0m",
      "\u001b[1;32m<ipython-input-4-c671c6644ad0>\u001b[0m in \u001b[0;36mget_total_poem_libai\u001b[1;34m()\u001b[0m\n\u001b[0;32m     15\u001b[0m             \u001b[0mpoem_content\u001b[0m\u001b[1;33m=\u001b[0m\u001b[0mitem1\u001b[0m\u001b[1;33m[\u001b[0m\u001b[1;36m0\u001b[0m\u001b[1;33m]\u001b[0m\u001b[1;33m\u001b[0m\u001b[0m\n\u001b[0;32m     16\u001b[0m             \u001b[1;31m#获取题目\u001b[0m\u001b[1;33m\u001b[0m\u001b[1;33m\u001b[0m\u001b[0m\n\u001b[1;32m---> 17\u001b[1;33m             \u001b[0mpoem_title\u001b[0m\u001b[1;33m=\u001b[0m\u001b[0mitem1\u001b[0m\u001b[1;33m[\u001b[0m\u001b[1;36m1\u001b[0m\u001b[1;33m]\u001b[0m\u001b[1;33m.\u001b[0m\u001b[0msplit\u001b[0m\u001b[1;33m(\u001b[0m\u001b[1;34m'《'\u001b[0m\u001b[1;33m)\u001b[0m\u001b[1;33m[\u001b[0m\u001b[1;36m1\u001b[0m\u001b[1;33m]\u001b[0m\u001b[1;33m.\u001b[0m\u001b[0msplit\u001b[0m\u001b[1;33m(\u001b[0m\u001b[1;34m'》'\u001b[0m\u001b[1;33m)\u001b[0m\u001b[1;33m[\u001b[0m\u001b[1;36m0\u001b[0m\u001b[1;33m]\u001b[0m\u001b[1;33m\u001b[0m\u001b[0m\n\u001b[0m\u001b[0;32m     18\u001b[0m             \u001b[1;31m# 获取作者\u001b[0m\u001b[1;33m\u001b[0m\u001b[1;33m\u001b[0m\u001b[0m\n\u001b[0;32m     19\u001b[0m             \u001b[0mpoem_author\u001b[0m \u001b[1;33m=\u001b[0m \u001b[0mitem1\u001b[0m\u001b[1;33m[\u001b[0m\u001b[1;36m1\u001b[0m\u001b[1;33m]\u001b[0m\u001b[1;33m.\u001b[0m\u001b[0msplit\u001b[0m\u001b[1;33m(\u001b[0m\u001b[1;34m'《'\u001b[0m\u001b[1;33m)\u001b[0m\u001b[1;33m[\u001b[0m\u001b[1;36m0\u001b[0m\u001b[1;33m]\u001b[0m\u001b[1;33m.\u001b[0m\u001b[0msplit\u001b[0m\u001b[1;33m(\u001b[0m\u001b[1;34m'·'\u001b[0m\u001b[1;33m)\u001b[0m\u001b[1;33m[\u001b[0m\u001b[1;36m1\u001b[0m\u001b[1;33m]\u001b[0m\u001b[1;33m\u001b[0m\u001b[0m\n",
      "\u001b[1;31mIndexError\u001b[0m: list index out of range"
     ]
    }
   ],
   "source": [
    "get_total_poem_libai()"
   ]
  },
  {
   "cell_type": "code",
   "execution_count": null,
   "metadata": {},
   "outputs": [],
   "source": []
  }
 ],
 "metadata": {
  "kernelspec": {
   "display_name": "Python 3",
   "language": "python",
   "name": "python3"
  },
  "language_info": {
   "codemirror_mode": {
    "name": "ipython",
    "version": 3
   },
   "file_extension": ".py",
   "mimetype": "text/x-python",
   "name": "python",
   "nbconvert_exporter": "python",
   "pygments_lexer": "ipython3",
   "version": "3.6.4"
  }
 },
 "nbformat": 4,
 "nbformat_minor": 2
}
