{
 "cells": [
  {
   "cell_type": "markdown",
   "metadata": {},
   "source": [
    "#### 导入包依赖"
   ]
  },
  {
   "cell_type": "code",
   "execution_count": 1,
   "metadata": {},
   "outputs": [
    {
     "name": "stderr",
     "output_type": "stream",
     "text": [
      "D:\\Anaconda\\lib\\site-packages\\gensim\\utils.py:1197: UserWarning: detected Windows; aliasing chunkize to chunkize_serial\n",
      "  warnings.warn(\"detected Windows; aliasing chunkize to chunkize_serial\")\n",
      "ERROR:lml.utils:failed to import pyecharts_snapshot\n",
      "Traceback (most recent call last):\n",
      "  File \"D:\\Anaconda\\lib\\site-packages\\lml\\utils.py\", line 43, in do_import\n",
      "    plugin_module = __import__(plugin_module_name)\n",
      "ModuleNotFoundError: No module named 'pyecharts_snapshot'\n"
     ]
    }
   ],
   "source": [
    "import pandas as pd\n",
    "import numpy as np\n",
    "import collections #统计\n",
    "import nltk #自然语言处理包\n",
    "from nltk.collocations import * \n",
    "from gensim.models import word2vec #词向量\n",
    "import matplotlib.pyplot as plt #作图\n",
    "import pylab as pl\n",
    "from pyecharts import Pie"
   ]
  },
  {
   "cell_type": "markdown",
   "metadata": {},
   "source": [
    "#### 根据朝代名称加载诗词"
   ]
  },
  {
   "cell_type": "code",
   "execution_count": 2,
   "metadata": {},
   "outputs": [],
   "source": [
    "def getPoems(dynasty):\n",
    "    path = r'C:/Users/HP/新建文件夹/pa_chong/poem/朝代/'+dynasty+r'total.csv'\n",
    "    f=open(path,'rb')\n",
    "    content = pd.read_csv(f, header=None)[1:]\n",
    "    f.close()\n",
    "    poem=content[3]\n",
    "    return poem"
   ]
  },
  {
   "cell_type": "markdown",
   "metadata": {},
   "source": [
    "#### 加载全部诗词 作为训练样本"
   ]
  },
  {
   "cell_type": "code",
   "execution_count": 3,
   "metadata": {},
   "outputs": [],
   "source": [
    "def load():\n",
    "    path = r'C:/Users/HP/新建文件夹/pa_chong/poem/total.csv'\n",
    "    f=open(path,'rb')\n",
    "    content = pd.read_csv(f, header=None)[1:]\n",
    "    f.close()\n",
    "    poem=content[3]\n",
    "    return poem"
   ]
  },
  {
   "cell_type": "markdown",
   "metadata": {},
   "source": [
    "#### 根据情绪词获得与之最相关的50个词"
   ]
  },
  {
   "cell_type": "code",
   "execution_count": 4,
   "metadata": {},
   "outputs": [],
   "source": [
    "def get_emotion_list(emotion):\n",
    "    list_re=[]\n",
    "    for i in model.wv.most_similar(emotion,topn=50):\n",
    "        list_re.append(i[0])\n",
    "    return list_re"
   ]
  },
  {
   "cell_type": "markdown",
   "metadata": {},
   "source": [
    "#### 初始化 情绪关键词列表"
   ]
  },
  {
   "cell_type": "code",
   "execution_count": 5,
   "metadata": {},
   "outputs": [],
   "source": [
    "def ini_emotion_list():\n",
    "    list_re=[]\n",
    "    emotions=['喜','愤','愁','思','怨']\n",
    "    for i in emotions:\n",
    "        list_re.append(get_emotion_list(i))\n",
    "    return list_re"
   ]
  },
  {
   "cell_type": "markdown",
   "metadata": {},
   "source": [
    "#### 给定poem诗句，分析在emotion（情绪近义词列表）的相似得分"
   ]
  },
  {
   "cell_type": "code",
   "execution_count": 6,
   "metadata": {},
   "outputs": [],
   "source": [
    "def get_emotion_score(poem,emotion):\n",
    "    score=0\n",
    "    for i in poem: \n",
    "        for j in emotion:\n",
    "            try:\n",
    "                temp=model.wv.similarity(i, j)\n",
    "            except:\n",
    "                temp=0\n",
    "            score = score + temp\n",
    "    return score"
   ]
  },
  {
   "cell_type": "markdown",
   "metadata": {},
   "source": [
    "#### 根据诗句 返回最可能的情绪类别"
   ]
  },
  {
   "cell_type": "code",
   "execution_count": 7,
   "metadata": {},
   "outputs": [],
   "source": [
    "def getScore(poem,emotion_list):\n",
    "    emotions=['喜','愤','愁','思','怨']\n",
    "    list_score=[]\n",
    "    for emotion in emotion_list:\n",
    "        score=get_emotion_score(poem,emotion)\n",
    "        list_score.append(score)\n",
    "    min_score=min(list_score)\n",
    "    max_score=max(list_score)\n",
    "    difference=max_score-min_score\n",
    "    pos = list_score.index(max_score)\n",
    "    list_score=[(i-min_score)/difference for i in list_score]\n",
    "    return emotions[pos]"
   ]
  },
  {
   "cell_type": "code",
   "execution_count": 16,
   "metadata": {},
   "outputs": [
    {
     "ename": "TypeError",
     "evalue": "getScore() missing 1 required positional argument: 'emotion_list'",
     "output_type": "error",
     "traceback": [
      "\u001b[1;31m---------------------------------------------------------------------------\u001b[0m",
      "\u001b[1;31mTypeError\u001b[0m                                 Traceback (most recent call last)",
      "\u001b[1;32m<ipython-input-16-64bdd4da73d9>\u001b[0m in \u001b[0;36m<module>\u001b[1;34m()\u001b[0m\n\u001b[1;32m----> 1\u001b[1;33m \u001b[0mgetScore\u001b[0m\u001b[1;33m(\u001b[0m\u001b[1;34m\"白头搔更短，浑欲不胜簪\"\u001b[0m\u001b[1;33m)\u001b[0m\u001b[1;33m\u001b[0m\u001b[0m\n\u001b[0m",
      "\u001b[1;31mTypeError\u001b[0m: getScore() missing 1 required positional argument: 'emotion_list'"
     ]
    }
   ],
   "source": [
    "getScore(\"白头搔更短，浑欲不胜簪\")"
   ]
  },
  {
   "cell_type": "markdown",
   "metadata": {},
   "source": [
    "#### 给定诗词集合，给出最终感情分布（字典）"
   ]
  },
  {
   "cell_type": "code",
   "execution_count": 8,
   "metadata": {},
   "outputs": [],
   "source": [
    "def distribution(poems):\n",
    "    distribute_dict={}\n",
    "    i=0\n",
    "    length = len(poems)\n",
    "    emotion_list=ini_emotion_list()\n",
    "    for poem in poems:\n",
    "        i=i+1\n",
    "        t=getScore(poem,emotion_list)\n",
    "        distribute_dict[t]=distribute_dict.get(t,0)+1\n",
    "        if i%100==0:\n",
    "            print(str(i)+\"       -------------\"+str(i/length))  \n",
    "    return distribute_dict"
   ]
  },
  {
   "cell_type": "markdown",
   "metadata": {},
   "source": [
    "#### 调用函数进行分析"
   ]
  },
  {
   "cell_type": "code",
   "execution_count": 28,
   "metadata": {},
   "outputs": [],
   "source": [
    "# 结果如下：\n",
    "//dynasty_tang={'喜':9759,'思':13370,'怨':2357,'愁':20925,'愤':4096}\n",
    "//dynasty_nanbeichao={'喜': 1148, '思': 1297, '怨': 427, '愁': 1046, '愤': 806}\n",
    "//dynasty_jin={'喜': 176, '思': 295, '怨': 26, '愁': 620, '愤': 54}\n",
    "//dynasty_ming={'喜': 19007, '思':19986 , '怨':2849 , '愁':30279 , '愤': 7089}\n",
    "dynasty_wudai={'喜': 65, '思': 20, '怨': 7, '愁': 584, '愤': 12}\n",
    "//dynasty_weijin={'喜': 251, '思': 369, '怨': 59, '愁': 81, '愤': 428}\n",
    "//dynasty_suidai={'喜': 29, '思': 43, '怨': 11, '愁': 47, '愤': 11}\n",
    "dynasty_xianqin={'喜': 3, '怨': 2, '愤': 72}\n",
    "dynasty_lianghan={'喜': 142, '思': 133, '怨': 31, '愁': 57, '愤': 260}\n",
    "//dynasty_qing={'喜': 7317, '思': 8985, '怨': 1911, '愁': 25028, '愤': 3452}\n",
    "//dynasty_song={'喜':48809 , '思':36345 , '怨':6333 , '愁':67949 , '愤':14463 }\n",
    "//dynasty_yuan={'喜': 6841, '思': 5922, '怨': 1095, '愁': 12089, '愤': 1991}"
   ]
  },
  {
   "cell_type": "code",
   "execution_count": 26,
   "metadata": {},
   "outputs": [],
   "source": [
    "def getlist(dic):\n",
    "    labels = ['喜','思','怨','愁','愤']\n",
    "    l =[]\n",
    "    for i in labels:\n",
    "        l.append(dic.get(i))\n",
    "    print(l)"
   ]
  },
  {
   "cell_type": "code",
   "execution_count": 8,
   "metadata": {},
   "outputs": [],
   "source": [
    "def getmean(l):\n",
    "   \n",
    "    return  [ i/ np.sum(l) for i in l]"
   ]
  },
  {
   "cell_type": "code",
   "execution_count": 9,
   "metadata": {},
   "outputs": [],
   "source": [
    "# 训练样本\n",
    "total=load()\n",
    "model=word2vec.Word2Vec(list(total),min_count=3, size=100, window=5, workers=4)"
   ]
  },
  {
   "cell_type": "code",
   "execution_count": 12,
   "metadata": {},
   "outputs": [
    {
     "data": {
      "text/plain": [
       "'皇皇太上湛恩笃兮，庶见我王咸思觌兮。仁爱纷纭德优渥兮，滂霈群生泽淋漉兮。惠我无疆承天祉兮，流衍万昆长无已兮。'"
      ]
     },
     "execution_count": 12,
     "metadata": {},
     "output_type": "execute_result"
    }
   ],
   "source": [
    "total[100]"
   ]
  },
  {
   "cell_type": "code",
   "execution_count": 13,
   "metadata": {},
   "outputs": [],
   "source": [
    "#根据朝代加载诗句\n",
    "dynasty = '隋代'\n",
    "poems = getPoems(dynasty)"
   ]
  },
  {
   "cell_type": "code",
   "execution_count": 25,
   "metadata": {},
   "outputs": [
    {
     "data": {
      "text/plain": [
       "{'愁': 1}"
      ]
     },
     "execution_count": 25,
     "metadata": {},
     "output_type": "execute_result"
    }
   ],
   "source": [
    "fenbu = distribution(['白头搔更短，浑欲不胜簪'])\n",
    "fenbu"
   ]
  },
  {
   "cell_type": "code",
   "execution_count": 20,
   "metadata": {},
   "outputs": [
    {
     "data": {
      "text/plain": [
       "[0.1502988898377455,\n",
       " 0.2519214346712212,\n",
       " 0.02220324508966695,\n",
       " 0.5294619982920581,\n",
       " 0.04611443210930828]"
      ]
     },
     "execution_count": 20,
     "metadata": {},
     "output_type": "execute_result"
    }
   ],
   "source": [
    "getmean([176, 295, 26, 620, 54])"
   ]
  },
  {
   "cell_type": "code",
   "execution_count": null,
   "metadata": {},
   "outputs": [],
   "source": [
    "import pygal\n",
    "\n",
    "# half_pie参数是指是否为半圆\n",
    "pie_chart = pygal.Pie(half_pie=True)\n",
    "pie_chart.title = 'Browser usage in February 2012 (in %)'\n",
    "pie_chart.add('IE', 19.5)\n",
    "pie_chart.add('Firefox', 36.6)\n",
    "pie_chart.add('Chrome', 36.3)\n",
    "pie_chart.add('Safari', 4.5)\n",
    "pie_chart.add('Opera', 2.3)\n",
    "pie_chart.render_to_file(\"pie-half.svg\")"
   ]
  },
  {
   "cell_type": "code",
   "execution_count": 21,
   "metadata": {},
   "outputs": [],
   "source": [
    "import pygal\n",
    "bar_chart = pygal.Bar()\n",
    "\n",
    "bar_chart.title = '各朝代主要情感分布'\n",
    "# x轴坐标\n",
    "bar_chart.x_labels = ['喜','思','怨','愁','愤']\n",
    "# x、y轴的描述\n",
    "bar_chart.x_title = '情感类别'\n",
    "bar_chart.y_title = '所占比重'\n",
    "\n",
    "\n",
    "bar_chart.add('唐代', [0.19322074167937117,\n",
    " 0.2647157819708159,\n",
    " 0.04666679866157166,\n",
    " 0.41429900805828895,\n",
    " 0.08109766962995228])\n",
    "bar_chart.add('宋代', [0.28067441445896757,\n",
    " 0.20900062680061415,\n",
    " 0.036417690728526325,\n",
    " 0.390738302117896,\n",
    " 0.08316896589399594])\n",
    "bar_chart.add('元代', [0.24486362660176103,\n",
    " 0.21196936072732478,\n",
    " 0.03919392941513351,\n",
    " 0.43270813945164294,\n",
    " 0.07126494380413774])\n",
    "bar_chart.add('明代',[0.23995707612675168,\n",
    " 0.25231662668854943,\n",
    " 0.03596768084837773,\n",
    " 0.3822623406135589,\n",
    " 0.08949627572276228] )\n",
    "bar_chart.add('清代',[0.15670443107103849,\n",
    " 0.19242713040498577,\n",
    " 0.04092690553187844,\n",
    " 0.536011821900499,\n",
    " 0.07392971109159831] )\n",
    "bar_chart.add('魏晋',[0.2112794612794613,\n",
    " 0.3106060606060606,\n",
    " 0.049663299663299666,\n",
    " 0.06818181818181818,\n",
    " 0.3602693602693603] )\n",
    "bar_chart.add('南北朝',[0.24301439458086369,\n",
    " 0.2745554614733277,\n",
    " 0.09038950042337003,\n",
    " 0.2214225232853514,\n",
    " 0.17061812023708722] )\n",
    "bar_chart.add('五代',[0.09447674418604651,\n",
    " 0.029069767441860465,\n",
    " 0.010174418604651164,\n",
    " 0.8488372093023255,\n",
    " 0.01744186046511628] )\n",
    "bar_chart.add('金朝',[0.1502988898377455,\n",
    " 0.2519214346712212,\n",
    " 0.02220324508966695,\n",
    " 0.5294619982920581,\n",
    " 0.04611443210930828])\n",
    "\n",
    "\n",
    "\n",
    "bar_chart.render_to_file(\"mul-graph.svg\")"
   ]
  },
  {
   "cell_type": "code",
   "execution_count": 47,
   "metadata": {},
   "outputs": [
    {
     "ename": "ValueError",
     "evalue": "Integer subplot specification must be a three-digit number, not 4310",
     "output_type": "error",
     "traceback": [
      "\u001b[1;31m---------------------------------------------------------------------------\u001b[0m",
      "\u001b[1;31mValueError\u001b[0m                                Traceback (most recent call last)",
      "\u001b[1;32m<ipython-input-47-75a0cfd8c63f>\u001b[0m in \u001b[0;36m<module>\u001b[1;34m()\u001b[0m\n\u001b[0;32m     45\u001b[0m \u001b[1;33m\u001b[0m\u001b[0m\n\u001b[0;32m     46\u001b[0m \u001b[1;31m# 433 > 3行2列第3个\u001b[0m\u001b[1;33m\u001b[0m\u001b[1;33m\u001b[0m\u001b[0m\n\u001b[1;32m---> 47\u001b[1;33m \u001b[0mfig3\u001b[0m \u001b[1;33m=\u001b[0m \u001b[0mpl\u001b[0m\u001b[1;33m.\u001b[0m\u001b[0msubplot\u001b[0m\u001b[1;33m(\u001b[0m\u001b[1;36m4310\u001b[0m\u001b[1;33m)\u001b[0m\u001b[1;33m\u001b[0m\u001b[0m\n\u001b[0m\u001b[0;32m     48\u001b[0m \u001b[0mpl\u001b[0m\u001b[1;33m.\u001b[0m\u001b[0mpie\u001b[0m\u001b[1;33m(\u001b[0m\u001b[1;33m[\u001b[0m\u001b[1;36m29\u001b[0m\u001b[1;33m,\u001b[0m \u001b[1;36m43\u001b[0m\u001b[1;33m,\u001b[0m \u001b[1;36m11\u001b[0m\u001b[1;33m,\u001b[0m \u001b[1;36m47\u001b[0m\u001b[1;33m,\u001b[0m \u001b[1;36m11\u001b[0m\u001b[1;33m]\u001b[0m\u001b[1;33m,\u001b[0m\u001b[0mlabels\u001b[0m\u001b[1;33m=\u001b[0m\u001b[0mlabels\u001b[0m\u001b[1;33m,\u001b[0m\u001b[0mautopct\u001b[0m\u001b[1;33m=\u001b[0m\u001b[1;34m'%1.1f%%'\u001b[0m\u001b[1;33m,\u001b[0m\u001b[0mshadow\u001b[0m\u001b[1;33m=\u001b[0m\u001b[1;32mFalse\u001b[0m\u001b[1;33m,\u001b[0m\u001b[0mstartangle\u001b[0m\u001b[1;33m=\u001b[0m\u001b[1;36m90\u001b[0m\u001b[1;33m)\u001b[0m\u001b[1;33m\u001b[0m\u001b[0m\n\u001b[0;32m     49\u001b[0m \u001b[0mplt\u001b[0m\u001b[1;33m.\u001b[0m\u001b[0maxis\u001b[0m\u001b[1;33m(\u001b[0m\u001b[1;34m'equal'\u001b[0m\u001b[1;33m)\u001b[0m\u001b[1;33m\u001b[0m\u001b[0m\n",
      "\u001b[1;32mD:\\Anaconda\\lib\\site-packages\\matplotlib\\pyplot.py\u001b[0m in \u001b[0;36msubplot\u001b[1;34m(*args, **kwargs)\u001b[0m\n\u001b[0;32m   1048\u001b[0m \u001b[1;33m\u001b[0m\u001b[0m\n\u001b[0;32m   1049\u001b[0m     \u001b[0mfig\u001b[0m \u001b[1;33m=\u001b[0m \u001b[0mgcf\u001b[0m\u001b[1;33m(\u001b[0m\u001b[1;33m)\u001b[0m\u001b[1;33m\u001b[0m\u001b[0m\n\u001b[1;32m-> 1050\u001b[1;33m     \u001b[0ma\u001b[0m \u001b[1;33m=\u001b[0m \u001b[0mfig\u001b[0m\u001b[1;33m.\u001b[0m\u001b[0madd_subplot\u001b[0m\u001b[1;33m(\u001b[0m\u001b[1;33m*\u001b[0m\u001b[0margs\u001b[0m\u001b[1;33m,\u001b[0m \u001b[1;33m**\u001b[0m\u001b[0mkwargs\u001b[0m\u001b[1;33m)\u001b[0m\u001b[1;33m\u001b[0m\u001b[0m\n\u001b[0m\u001b[0;32m   1051\u001b[0m     \u001b[0mbbox\u001b[0m \u001b[1;33m=\u001b[0m \u001b[0ma\u001b[0m\u001b[1;33m.\u001b[0m\u001b[0mbbox\u001b[0m\u001b[1;33m\u001b[0m\u001b[0m\n\u001b[0;32m   1052\u001b[0m     \u001b[0mbyebye\u001b[0m \u001b[1;33m=\u001b[0m \u001b[1;33m[\u001b[0m\u001b[1;33m]\u001b[0m\u001b[1;33m\u001b[0m\u001b[0m\n",
      "\u001b[1;32mD:\\Anaconda\\lib\\site-packages\\matplotlib\\figure.py\u001b[0m in \u001b[0;36madd_subplot\u001b[1;34m(self, *args, **kwargs)\u001b[0m\n\u001b[0;32m   1039\u001b[0m             \u001b[1;32mif\u001b[0m \u001b[1;32mnot\u001b[0m \u001b[1;36m100\u001b[0m \u001b[1;33m<=\u001b[0m \u001b[0margs\u001b[0m\u001b[1;33m[\u001b[0m\u001b[1;36m0\u001b[0m\u001b[1;33m]\u001b[0m \u001b[1;33m<=\u001b[0m \u001b[1;36m999\u001b[0m\u001b[1;33m:\u001b[0m\u001b[1;33m\u001b[0m\u001b[0m\n\u001b[0;32m   1040\u001b[0m                 raise ValueError(\"Integer subplot specification must be a \"\n\u001b[1;32m-> 1041\u001b[1;33m                                  \"three-digit number, not {}\".format(args[0]))\n\u001b[0m\u001b[0;32m   1042\u001b[0m             \u001b[0margs\u001b[0m \u001b[1;33m=\u001b[0m \u001b[0mtuple\u001b[0m\u001b[1;33m(\u001b[0m\u001b[0mmap\u001b[0m\u001b[1;33m(\u001b[0m\u001b[0mint\u001b[0m\u001b[1;33m,\u001b[0m \u001b[0mstr\u001b[0m\u001b[1;33m(\u001b[0m\u001b[0margs\u001b[0m\u001b[1;33m[\u001b[0m\u001b[1;36m0\u001b[0m\u001b[1;33m]\u001b[0m\u001b[1;33m)\u001b[0m\u001b[1;33m)\u001b[0m\u001b[1;33m)\u001b[0m\u001b[1;33m\u001b[0m\u001b[0m\n\u001b[0;32m   1043\u001b[0m \u001b[1;33m\u001b[0m\u001b[0m\n",
      "\u001b[1;31mValueError\u001b[0m: Integer subplot specification must be a three-digit number, not 4310"
     ]
    },
    {
     "data": {
      "image/png": "[encoded data removed]",
      "text/plain": [
       "<matplotlib.figure.Figure at 0x14b833c6be0>"
      ]
     },
     "metadata": {},
     "output_type": "display_data"
    }
   ],
   "source": [
    "labels = ['喜','思','怨','愁','愤']\n",
    "\n",
    "# 432 \n",
    "fig4 = pl.subplot(432)\n",
    "pl.pie([9759, 13370, 2357, 20925, 4096],labels=labels,autopct='%1.1f%%',shadow=False,startangle=90)\n",
    "plt.axis('equal')\n",
    "plt.title(\"唐代\")\n",
    "\n",
    "# 434 > 3行2列第5个\n",
    "fig5 = pl.subplot(434)\n",
    "pl.pie([48809, 36345, 6333, 67949, 14463],labels=labels,autopct='%1.1f%%',shadow=False,startangle=90)#startangle表示饼图的起始角度\n",
    "plt.axis('equal') #这行代码加入饼图不会画成椭圆\n",
    "plt.title(\"宋代\")\n",
    "\n",
    "# 435 > 3行2列第6个\n",
    "fig6 = pl.subplot(435)\n",
    "pl.pie([6841, 5922, 1095, 12089, 1991],labels=labels,autopct='%1.1f%%',shadow=False,startangle=90)\n",
    "plt.axis('equal')\n",
    "plt.title(\"元代\")\n",
    "\n",
    "# 436 > 3行2列第6个\n",
    "fig6 = pl.subplot(436)\n",
    "pl.pie([19007, 19986, 2849, 30279, 7089],labels=labels,autopct='%1.1f%%',shadow=False,startangle=90)\n",
    "plt.axis('equal')\n",
    "plt.title(\"明代\")\n",
    "\n",
    "# 437 > 3行2列第6个\n",
    "fig6 = pl.subplot(437)\n",
    "pl.pie([7317, 8985, 1911, 25028, 3452],labels=labels,autopct='%1.1f%%',shadow=False,startangle=90)\n",
    "plt.axis('equal')\n",
    "plt.title(\"清代\")\n",
    "\n",
    "\n",
    "# 438 > 3行2列第1个\n",
    "fig1 = pl.subplot(438)\n",
    "pl.pie([251, 369, 59, 81, 428],labels=labels,autopct='%1.1f%%',shadow=False,startangle=90)\n",
    "plt.axis('equal')\n",
    "plt.title(\"魏晋\")\n",
    "\n",
    "# 439 > 3行2列第2个\n",
    "fig2 = pl.subplot(439)\n",
    "pl.pie([1148, 1297, 427, 1046, 806],labels=labels,autopct='%1.1f%%',shadow=False,startangle=90)\n",
    "plt.axis('equal')\n",
    "plt.title(\"南北朝\")\n",
    "\n",
    "# 433 > 3行2列第3个\n",
    "fig3 = pl.subplot(4310)\n",
    "pl.pie([29, 43, 11, 47, 11],labels=labels,autopct='%1.1f%%',shadow=False,startangle=90)\n",
    "plt.axis('equal')\n",
    "plt.title(\"隋代\")\n",
    "\n",
    "\n",
    "\n",
    "\n",
    "# 436 > 3行2列第6个\n",
    "fig6 = pl.subplot(4311)\n",
    "pl.pie([65, 20, 7, 584, 12],labels=labels,autopct='%1.1f%%',shadow=False,startangle=90)\n",
    "plt.axis('equal')\n",
    "plt.title(\"五代\")\n",
    "\n",
    "# 436 > 3行2列第6个\n",
    "fig6 = pl.subplot(4312)\n",
    "pl.pie([176, 295, 26, 620, 54],labels=labels,autopct='%1.1f%%',shadow=False,startangle=90)\n",
    "plt.axis('equal')\n",
    "plt.title(\"金朝\")\n",
    "\n",
    "\n",
    "pl.tight_layout() #布局方法\n",
    "pl.savefig('D:\\\\2018TianChiGame\\pyecharts_demo\\\\vc5.jpg',dpi = 500) #dpi实参改变图像的分辨率\n",
    "pl.show() #显示方法"
   ]
  },
  {
   "cell_type": "code",
   "execution_count": null,
   "metadata": {},
   "outputs": [],
   "source": []
  }
 ],
 "metadata": {
  "kernelspec": {
   "display_name": "Python 3",
   "language": "python",
   "name": "python3"
  },
  "language_info": {
   "codemirror_mode": {
    "name": "ipython",
    "version": 3
   },
   "file_extension": ".py",
   "mimetype": "text/x-python",
   "name": "python",
   "nbconvert_exporter": "python",
   "pygments_lexer": "ipython3",
   "version": "3.6.4"
  }
 },
 "nbformat": 4,
 "nbformat_minor": 2
}
