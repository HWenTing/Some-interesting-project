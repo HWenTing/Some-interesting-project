{
 "cells": [
  {
   "cell_type": "code",
   "execution_count": 1,
   "metadata": {},
   "outputs": [
    {
     "name": "stderr",
     "output_type": "stream",
     "text": [
      "D:\\Anaconda\\lib\\site-packages\\gensim\\utils.py:1197: UserWarning: detected Windows; aliasing chunkize to chunkize_serial\n",
      "  warnings.warn(\"detected Windows; aliasing chunkize to chunkize_serial\")\n"
     ]
    }
   ],
   "source": [
    "import pandas as pd\n",
    "import numpy as np\n",
    "import collections #统计\n",
    "import nltk #自然语言处理包\n",
    "from nltk.collocations import * \n",
    "from gensim.models import word2vec #词向量"
   ]
  },
  {
   "cell_type": "code",
   "execution_count": 2,
   "metadata": {},
   "outputs": [],
   "source": [
    "def getPoems(dynasty):\n",
    "    path = r'C:/Users/HP/新建文件夹/pa_chong/poem/朝代/'+dynasty+r'total.csv'\n",
    "    f=open(path,'rb')\n",
    "    content = pd.read_csv(f, header=None)[1:]\n",
    "    f.close()\n",
    "    poem=content[3]\n",
    "    return poem"
   ]
  },
  {
   "cell_type": "code",
   "execution_count": 3,
   "metadata": {},
   "outputs": [],
   "source": [
    "def getWords(dynasty):\n",
    "    path = r'C:/Users/HP/新建文件夹/pa_chong/poem/朝代/'+dynasty+r'.txt'\n",
    "    # 从文件读取分词\n",
    "    with open(path,encoding='utf-8') as f:\n",
    "        line = f.readline()\n",
    "    words = list(line)\n",
    "    return words"
   ]
  },
  {
   "cell_type": "code",
   "execution_count": 4,
   "metadata": {},
   "outputs": [],
   "source": [
    "def load():\n",
    "    path = r'C:/Users/HP/新建文件夹/pa_chong/poem/total.csv'\n",
    "    f=open(path,'rb')\n",
    "    content = pd.read_csv(f, header=None)[1:]\n",
    "    f.close()\n",
    "    poem=content[3]\n",
    "    return poem"
   ]
  },
  {
   "cell_type": "code",
   "execution_count": 5,
   "metadata": {},
   "outputs": [],
   "source": [
    "def test():\n",
    "    path = r'C:/Users/HP/新建文件夹/pa_chong/poem/杜甫.csv'\n",
    "    f=open(path,'rb')\n",
    "    content = pd.read_csv(f, header=None)[1:]\n",
    "    f.close()\n",
    "    poem=content[3]\n",
    "    return poem"
   ]
  },
  {
   "cell_type": "code",
   "execution_count": 23,
   "metadata": {},
   "outputs": [],
   "source": [
    "dynasty = '金朝'\n",
    "# poems = getPoems(dynasty)\n",
    "# words = getWords(dynasty)\n",
    "poems = test()"
   ]
  },
  {
   "cell_type": "code",
   "execution_count": 21,
   "metadata": {},
   "outputs": [],
   "source": [
    "total=load()"
   ]
  },
  {
   "cell_type": "code",
   "execution_count": 7,
   "metadata": {},
   "outputs": [],
   "source": [
    "model=word2vec.Word2Vec(list(total),min_count=3, size=100, window=5, workers=4)"
   ]
  },
  {
   "cell_type": "code",
   "execution_count": 18,
   "metadata": {},
   "outputs": [
    {
     "data": {
      "text/plain": [
       "[('怀', 0.594771683216095),\n",
       " ('忆', 0.48607704043388367),\n",
       " ('逢', 0.4842267334461212),\n",
       " ('念', 0.48203808069229126),\n",
       " ('期', 0.4721718728542328),\n",
       " ('情', 0.44191285967826843),\n",
       " ('魂', 0.44008615612983704),\n",
       " ('愁', 0.4336218535900116),\n",
       " ('恨', 0.4227339029312134),\n",
       " ('忡', 0.42057764530181885),\n",
       " ('慰', 0.41989946365356445),\n",
       " ('忘', 0.41428232192993164),\n",
       " ('感', 0.4072200059890747),\n",
       " ('望', 0.392672061920166),\n",
       " ('悰', 0.38949477672576904),\n",
       " ('肠', 0.3860398232936859),\n",
       " ('怊', 0.38501790165901184),\n",
       " ('悽', 0.3849114775657654),\n",
       " ('忖', 0.3848033547401428),\n",
       " ('怏', 0.38475728034973145)]"
      ]
     },
     "execution_count": 18,
     "metadata": {},
     "output_type": "execute_result"
    }
   ],
   "source": [
    " model.wv.most_similar('思',topn=20)"
   ]
  },
  {
   "cell_type": "code",
   "execution_count": 19,
   "metadata": {},
   "outputs": [],
   "source": [
    "def get_emotion(emotion,layer1,layer2,re):\n",
    "    dit = {}\n",
    "    try:\n",
    "        dict_emotion={emotion:1}\n",
    "        for i in model.wv.most_similar(emotion,topn=layer1): \n",
    "            dict_emotion[i[0]]=dict_emotion.get(i[0],0)+i[1]\n",
    "            for j in model.wv.most_similar(i[0],topn=layer2):\n",
    "                dict_emotion[j[0]]=dict_emotion.get(j[0],0)+i[1]*j[1]\n",
    "        sortlist=sorted(dict_emotion.items(),key = lambda x:x[1],reverse = True)[:re]\n",
    "        \n",
    "        for i in sortlist:\n",
    "            dit[i[0]] = i[1]\n",
    "        return dit,sortlist\n",
    "    except Exception as e:\n",
    "#         print(e)\n",
    "        return dit,0"
   ]
  },
  {
   "cell_type": "code",
   "execution_count": 20,
   "metadata": {},
   "outputs": [],
   "source": [
    "def getScore(poem,layer1,layer2,re):\n",
    "#     emotions=['喜','怒','忧','思','悲','恐','惊']\n",
    "    emotions=['悲','惧','乐','怒','思','喜','忧']\n",
    "    type_probability={}\n",
    "    for emotion in emotions:\n",
    "        dit,temp=get_emotion(emotion,layer1,layer2,re)\n",
    "        score=0\n",
    "        for i in poem:\n",
    "            score+=dit.get(i,0)\n",
    "        score=score/len(poem)\n",
    "        type_probability[emotion]=score\n",
    "    type_probability.values()\n",
    "    print(type_probability)\n",
    "    total_score=sum(list(type_probability.values()))\n",
    "    if total_score==0:\n",
    "        return '未知分类',1\n",
    "    most =sorted(type_probability.items(),key = lambda x:x[1],reverse = True)[0]\n",
    "\n",
    "    return most[0],most[1]/total_score"
   ]
  },
  {
   "cell_type": "code",
   "execution_count": 22,
   "metadata": {},
   "outputs": [],
   "source": [
    "def distribution(poems,layer1=50,layer2=10,re=200):\n",
    "    distribute_dict={}\n",
    "    i=0\n",
    "    length = len(poems)\n",
    "    for poem in poems:\n",
    "        i=i+1\n",
    "        t,s=getScore(poem,layer1,layer2,re)\n",
    "        distribute_dict[t]=distribute_dict.get(t,0)+1\n",
    "        if i%100==0:\n",
    "            print(str(i)+\"       -------------\"+str(i/length))\n",
    "            \n",
    "    return distribute_dict"
   ]
  },
  {
   "cell_type": "code",
   "execution_count": 24,
   "metadata": {},
   "outputs": [
    {
     "data": {
      "text/plain": [
       "1       国破山河在，城春草木深。感时花溅泪，恨别鸟惊心。烽火连三月，家书抵万金。白头搔更短，浑欲不胜簪。\n",
       "2      八月秋高风怒号，卷我屋上三重茅。茅飞渡江洒江郊，高者挂罥长林梢，下者飘转沉塘坳。南村群童欺我...\n",
       "3      辛苦遭逢起一经，干戈寥落四周星。山河破碎风飘絮，身世浮沉雨打萍。惶恐滩头说惶恐，零丁洋里叹零...\n",
       "4                       死去元知万事空，但悲不见九州同。王师北定中原日，家祭无忘告乃翁。\n",
       "5      帝高阳之苗裔兮，朕皇考曰伯庸。摄提贞于孟陬兮，惟庚寅吾以降。皇览揆余初度兮，肇锡余以嘉名：名...\n",
       "6                       秦时明月汉时关，万里长征人未还。但使龙城飞将在，不教胡马度阴山。\n",
       "7      风急天高猿啸哀，渚清沙白鸟飞回。无边落木萧萧下，不尽长江滚滚来。万里悲秋常作客，百年多病独登...\n",
       "8      丞相祠堂何处寻，锦官城外柏森森。映阶碧草自春色，隔叶黄鹂空好音。三顾频烦天下计，两朝开济老臣...\n",
       "9      迢迢天汉西南落，喔喔邻鸡一再鸣。壮志病来消欲尽，出门搔首怆平生。三万里河东入海，五千仞岳上摩...\n",
       "10     十五从军征，八十始得归。道逢乡里人：“家中有阿谁？”“遥看是君家，松柏冢累累。”(遥看 一作...\n",
       "11      国破山河在，城春草木深。感时花溅泪，恨别鸟惊心。烽火连三月，家书抵万金。白头搔更短，浑欲不胜簪。\n",
       "12     八月秋高风怒号，卷我屋上三重茅。茅飞渡江洒江郊，高者挂罥长林梢，下者飘转沉塘坳。南村群童欺我...\n",
       "13     辛苦遭逢起一经，干戈寥落四周星。山河破碎风飘絮，身世浮沉雨打萍。惶恐滩头说惶恐，零丁洋里叹零...\n",
       "14                      死去元知万事空，但悲不见九州同。王师北定中原日，家祭无忘告乃翁。\n",
       "15     帝高阳之苗裔兮，朕皇考曰伯庸。摄提贞于孟陬兮，惟庚寅吾以降。皇览揆余初度兮，肇锡余以嘉名：名...\n",
       "16                      秦时明月汉时关，万里长征人未还。但使龙城飞将在，不教胡马度阴山。\n",
       "17     风急天高猿啸哀，渚清沙白鸟飞回。无边落木萧萧下，不尽长江滚滚来。万里悲秋常作客，百年多病独登...\n",
       "18     丞相祠堂何处寻，锦官城外柏森森。映阶碧草自春色，隔叶黄鹂空好音。三顾频烦天下计，两朝开济老臣...\n",
       "19     迢迢天汉西南落，喔喔邻鸡一再鸣。壮志病来消欲尽，出门搔首怆平生。三万里河东入海，五千仞岳上摩...\n",
       "20     十五从军征，八十始得归。道逢乡里人：“家中有阿谁？”“遥看是君家，松柏冢累累。”(遥看 一作...\n",
       "21      国破山河在，城春草木深。感时花溅泪，恨别鸟惊心。烽火连三月，家书抵万金。白头搔更短，浑欲不胜簪。\n",
       "22     八月秋高风怒号，卷我屋上三重茅。茅飞渡江洒江郊，高者挂罥长林梢，下者飘转沉塘坳。南村群童欺我...\n",
       "23     辛苦遭逢起一经，干戈寥落四周星。山河破碎风飘絮，身世浮沉雨打萍。惶恐滩头说惶恐，零丁洋里叹零...\n",
       "24                      死去元知万事空，但悲不见九州同。王师北定中原日，家祭无忘告乃翁。\n",
       "25     帝高阳之苗裔兮，朕皇考曰伯庸。摄提贞于孟陬兮，惟庚寅吾以降。皇览揆余初度兮，肇锡余以嘉名：名...\n",
       "26                      秦时明月汉时关，万里长征人未还。但使龙城飞将在，不教胡马度阴山。\n",
       "27     风急天高猿啸哀，渚清沙白鸟飞回。无边落木萧萧下，不尽长江滚滚来。万里悲秋常作客，百年多病独登...\n",
       "28     丞相祠堂何处寻，锦官城外柏森森。映阶碧草自春色，隔叶黄鹂空好音。三顾频烦天下计，两朝开济老臣...\n",
       "29     迢迢天汉西南落，喔喔邻鸡一再鸣。壮志病来消欲尽，出门搔首怆平生。三万里河东入海，五千仞岳上摩...\n",
       "30     十五从军征，八十始得归。道逢乡里人：“家中有阿谁？”“遥看是君家，松柏冢累累。”(遥看 一作...\n",
       "                             ...                        \n",
       "111     国破山河在，城春草木深。感时花溅泪，恨别鸟惊心。烽火连三月，家书抵万金。白头搔更短，浑欲不胜簪。\n",
       "112    八月秋高风怒号，卷我屋上三重茅。茅飞渡江洒江郊，高者挂罥长林梢，下者飘转沉塘坳。南村群童欺我...\n",
       "113    辛苦遭逢起一经，干戈寥落四周星。山河破碎风飘絮，身世浮沉雨打萍。惶恐滩头说惶恐，零丁洋里叹零...\n",
       "114                     死去元知万事空，但悲不见九州同。王师北定中原日，家祭无忘告乃翁。\n",
       "115    帝高阳之苗裔兮，朕皇考曰伯庸。摄提贞于孟陬兮，惟庚寅吾以降。皇览揆余初度兮，肇锡余以嘉名：名...\n",
       "116                     秦时明月汉时关，万里长征人未还。但使龙城飞将在，不教胡马度阴山。\n",
       "117    风急天高猿啸哀，渚清沙白鸟飞回。无边落木萧萧下，不尽长江滚滚来。万里悲秋常作客，百年多病独登...\n",
       "118    丞相祠堂何处寻，锦官城外柏森森。映阶碧草自春色，隔叶黄鹂空好音。三顾频烦天下计，两朝开济老臣...\n",
       "119    迢迢天汉西南落，喔喔邻鸡一再鸣。壮志病来消欲尽，出门搔首怆平生。三万里河东入海，五千仞岳上摩...\n",
       "120    十五从军征，八十始得归。道逢乡里人：“家中有阿谁？”“遥看是君家，松柏冢累累。”(遥看 一作...\n",
       "121     国破山河在，城春草木深。感时花溅泪，恨别鸟惊心。烽火连三月，家书抵万金。白头搔更短，浑欲不胜簪。\n",
       "122    八月秋高风怒号，卷我屋上三重茅。茅飞渡江洒江郊，高者挂罥长林梢，下者飘转沉塘坳。南村群童欺我...\n",
       "123    辛苦遭逢起一经，干戈寥落四周星。山河破碎风飘絮，身世浮沉雨打萍。惶恐滩头说惶恐，零丁洋里叹零...\n",
       "124                     死去元知万事空，但悲不见九州同。王师北定中原日，家祭无忘告乃翁。\n",
       "125    帝高阳之苗裔兮，朕皇考曰伯庸。摄提贞于孟陬兮，惟庚寅吾以降。皇览揆余初度兮，肇锡余以嘉名：名...\n",
       "126                     秦时明月汉时关，万里长征人未还。但使龙城飞将在，不教胡马度阴山。\n",
       "127    风急天高猿啸哀，渚清沙白鸟飞回。无边落木萧萧下，不尽长江滚滚来。万里悲秋常作客，百年多病独登...\n",
       "128    丞相祠堂何处寻，锦官城外柏森森。映阶碧草自春色，隔叶黄鹂空好音。三顾频烦天下计，两朝开济老臣...\n",
       "129    迢迢天汉西南落，喔喔邻鸡一再鸣。壮志病来消欲尽，出门搔首怆平生。三万里河东入海，五千仞岳上摩...\n",
       "130    十五从军征，八十始得归。道逢乡里人：“家中有阿谁？”“遥看是君家，松柏冢累累。”(遥看 一作...\n",
       "131     国破山河在，城春草木深。感时花溅泪，恨别鸟惊心。烽火连三月，家书抵万金。白头搔更短，浑欲不胜簪。\n",
       "132    八月秋高风怒号，卷我屋上三重茅。茅飞渡江洒江郊，高者挂罥长林梢，下者飘转沉塘坳。南村群童欺我...\n",
       "133    辛苦遭逢起一经，干戈寥落四周星。山河破碎风飘絮，身世浮沉雨打萍。惶恐滩头说惶恐，零丁洋里叹零...\n",
       "134                     死去元知万事空，但悲不见九州同。王师北定中原日，家祭无忘告乃翁。\n",
       "135    帝高阳之苗裔兮，朕皇考曰伯庸。摄提贞于孟陬兮，惟庚寅吾以降。皇览揆余初度兮，肇锡余以嘉名：名...\n",
       "136                     秦时明月汉时关，万里长征人未还。但使龙城飞将在，不教胡马度阴山。\n",
       "137    风急天高猿啸哀，渚清沙白鸟飞回。无边落木萧萧下，不尽长江滚滚来。万里悲秋常作客，百年多病独登...\n",
       "138    丞相祠堂何处寻，锦官城外柏森森。映阶碧草自春色，隔叶黄鹂空好音。三顾频烦天下计，两朝开济老臣...\n",
       "139    迢迢天汉西南落，喔喔邻鸡一再鸣。壮志病来消欲尽，出门搔首怆平生。三万里河东入海，五千仞岳上摩...\n",
       "140    十五从军征，八十始得归。道逢乡里人：“家中有阿谁？”“遥看是君家，松柏冢累累。”(遥看 一作...\n",
       "Name: 3, Length: 140, dtype: object"
      ]
     },
     "execution_count": 24,
     "metadata": {},
     "output_type": "execute_result"
    }
   ],
   "source": [
    "poems"
   ]
  },
  {
   "cell_type": "code",
   "execution_count": null,
   "metadata": {},
   "outputs": [],
   "source": [
    "fenbu = distribution(poems)"
   ]
  }
 ],
 "metadata": {
  "kernelspec": {
   "display_name": "Python 3",
   "language": "python",
   "name": "python3"
  },
  "language_info": {
   "codemirror_mode": {
    "name": "ipython",
    "version": 3
   },
   "file_extension": ".py",
   "mimetype": "text/x-python",
   "name": "python",
   "nbconvert_exporter": "python",
   "pygments_lexer": "ipython3",
   "version": "3.6.4"
  }
 },
 "nbformat": 4,
 "nbformat_minor": 2
}
