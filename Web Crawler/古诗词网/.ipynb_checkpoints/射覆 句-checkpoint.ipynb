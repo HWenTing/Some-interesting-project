{
 "cells": [
  {
   "cell_type": "code",
   "execution_count": 1,
   "metadata": {},
   "outputs": [
    {
     "name": "stderr",
     "output_type": "stream",
     "text": [
      "D:\\Anaconda\\lib\\site-packages\\gensim\\utils.py:1197: UserWarning: detected Windows; aliasing chunkize to chunkize_serial\n",
      "  warnings.warn(\"detected Windows; aliasing chunkize to chunkize_serial\")\n"
     ]
    }
   ],
   "source": [
    "import pandas as pd\n",
    "import numpy as np\n",
    "import collections #统计\n",
    "import nltk #自然语言处理包\n",
    "from nltk.collocations import * \n",
    "from gensim.models import word2vec #词向量\n",
    "import re"
   ]
  },
  {
   "cell_type": "code",
   "execution_count": 2,
   "metadata": {},
   "outputs": [],
   "source": [
    "def load():\n",
    "    path = r'C:/Users/HP/新建文件夹/pa_chong/poem/total.csv'\n",
    "    f=open(path,'rb')\n",
    "    content = pd.read_csv(f, header=None)[1:]\n",
    "    f.close()\n",
    "    poem=content[3]\n",
    "    return poem"
   ]
  },
  {
   "cell_type": "code",
   "execution_count": 32,
   "metadata": {},
   "outputs": [],
   "source": [
    "def make_sentence1(poem):\n",
    "    sentence = [i for i in re.split('[。?!？；！，]', poem) if len(i)>1]\n",
    "    return sentence\n",
    "def make_sentence2(poem):\n",
    "    sentence = [i for i in re.split('[。?!？；！]', poem) if len(i)>1]\n",
    "    return sentence"
   ]
  },
  {
   "cell_type": "code",
   "execution_count": 4,
   "metadata": {},
   "outputs": [],
   "source": [
    "def getPoems(dynasty):\n",
    "    path = r'C:/Users/HP/新建文件夹/pa_chong/poem/朝代/'+dynasty+r'total.csv'\n",
    "    f=open(path,'rb')\n",
    "    content = pd.read_csv(f, header=None)[1:]\n",
    "    f.close()\n",
    "    poem=content[3]\n",
    "    return poem"
   ]
  },
  {
   "cell_type": "code",
   "execution_count": 34,
   "metadata": {},
   "outputs": [],
   "source": [
    "def get_sentences1(poems):\n",
    "    length= len(poems)\n",
    "    pos=1\n",
    "    sentence=[]\n",
    "    while pos<=length:\n",
    "        words=[]\n",
    "        try:\n",
    "            for i in range(pos,length+1):\n",
    "                words=words+make_sentence1(poems.get(pos))\n",
    "                pos=pos+1\n",
    "                if(pos%10000==0):\n",
    "                    print(pos)\n",
    "                    break\n",
    "        except Exception as e:\n",
    "            print(e)\n",
    "\n",
    "        sentence=sentence+words\n",
    "    return sentence"
   ]
  },
  {
   "cell_type": "code",
   "execution_count": 35,
   "metadata": {},
   "outputs": [],
   "source": [
    "def get_sentences2(poems):\n",
    "    length= len(poems)\n",
    "    pos=1\n",
    "    sentence=[]\n",
    "    while pos<=length:\n",
    "        words=[]\n",
    "        try:\n",
    "            for i in range(pos,length+1):\n",
    "                words=words+make_sentence2(poems.get(pos))\n",
    "                pos=pos+1\n",
    "                if(pos%10000==0):\n",
    "                    print(pos)\n",
    "                    break\n",
    "        except Exception as e:\n",
    "            print(e)\n",
    "\n",
    "        sentence=sentence+words\n",
    "    return sentence"
   ]
  },
  {
   "cell_type": "code",
   "execution_count": 8,
   "metadata": {},
   "outputs": [],
   "source": [
    "total_poems = load()\n",
    "total_sentences = get_sentences1(total_poems)"
   ]
  },
  {
   "cell_type": "code",
   "execution_count": 16,
   "metadata": {},
   "outputs": [],
   "source": [
    "model=word2vec.Word2Vec(total_sentences,min_count=1, size=100, window=5, workers=4)"
   ]
  },
  {
   "cell_type": "code",
   "execution_count": 36,
   "metadata": {},
   "outputs": [],
   "source": [
    "#获取查_询空间\n",
    "poems = getPoems('隋代')\n",
    "sentences = get_sentences2(poems)"
   ]
  },
  {
   "cell_type": "code",
   "execution_count": 20,
   "metadata": {},
   "outputs": [],
   "source": [
    "def similar(poem1,poem2):\n",
    "    total_score=0\n",
    "    for i in poem1:\n",
    "        score=0\n",
    "        for j in poem2:\n",
    "            try:\n",
    "                temp = model.wv.similarity(i, j)\n",
    "            except:\n",
    "                temp=0\n",
    "            if temp>score:\n",
    "                score=temp\n",
    "        total_score= total_score+score\n",
    "    return total_score/len(poem1)\n",
    "        "
   ]
  },
  {
   "cell_type": "code",
   "execution_count": 21,
   "metadata": {},
   "outputs": [],
   "source": [
    "def get_similar_sentences(sentence,sentences):\n",
    "    find_list={}\n",
    "    total = len(sentences)\n",
    "    per=total/100\n",
    "    pos =0;\n",
    "    for i in sentences:\n",
    "        pos=pos+1\n",
    "        find_list[i]=similar(sentence,i)\n",
    "        if pos%per==0:\n",
    "            print(str(pos/per)+'%')\n",
    "    sortlist=sorted(find_list.items(),key = lambda x:x[1],reverse = True)\n",
    "    return sortlist "
   ]
  },
  {
   "cell_type": "code",
   "execution_count": 38,
   "metadata": {},
   "outputs": [],
   "source": [
    "most_similar = get_similar_sentences('桃花坞里桃花庵',sentences)"
   ]
  },
  {
   "cell_type": "code",
   "execution_count": 39,
   "metadata": {},
   "outputs": [
    {
     "data": {
      "text/plain": [
       "[('含露桃花开未飞，临风杨柳自依依', 0.7131535398809172),\n",
       " ('杨叶行将暗，桃花落未稀', 0.6960224663872986),\n",
       " ('上林花树百枝然', 0.5841257015557123),\n",
       " ('水映临桥树，风吹夹路花', 0.5764397972844032),\n",
       " ('落花入户飞，细草当阶积', 0.5667043834135113),\n",
       " ('灼灼荷花瑞，亭亭出水中', 0.5634824691004867),\n",
       " ('俱临邓渠水，共采邺园花', 0.5598667704484398),\n",
       " ('鸟声争劝酒，梅花笑杀人', 0.5597001655969249),\n",
       " ('飒洒林花落，逶迤风柳散', 0.5557379685193411),\n",
       " ('灯树千光照，花焰七枝开', 0.5547424857391474)]"
      ]
     },
     "execution_count": 39,
     "metadata": {},
     "output_type": "execute_result"
    }
   ],
   "source": [
    "most_similar[:10]"
   ]
  },
  {
   "cell_type": "code",
   "execution_count": 41,
   "metadata": {},
   "outputs": [
    {
     "data": {
      "text/plain": [
       "0.08448800587431243"
      ]
     },
     "execution_count": 41,
     "metadata": {},
     "output_type": "execute_result"
    }
   ],
   "source": [
    "model.wv.similarity('桃', '含')"
   ]
  },
  {
   "cell_type": "code",
   "execution_count": null,
   "metadata": {},
   "outputs": [],
   "source": []
  }
 ],
 "metadata": {
  "kernelspec": {
   "display_name": "Python 3",
   "language": "python",
   "name": "python3"
  },
  "language_info": {
   "codemirror_mode": {
    "name": "ipython",
    "version": 3
   },
   "file_extension": ".py",
   "mimetype": "text/x-python",
   "name": "python",
   "nbconvert_exporter": "python",
   "pygments_lexer": "ipython3",
   "version": "3.6.4"
  }
 },
 "nbformat": 4,
 "nbformat_minor": 2
}
