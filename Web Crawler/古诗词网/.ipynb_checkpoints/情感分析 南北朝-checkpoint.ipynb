{
 "cells": [
  {
   "cell_type": "code",
   "execution_count": 1,
   "metadata": {},
   "outputs": [
    {
     "name": "stderr",
     "output_type": "stream",
     "text": [
      "D:\\Anaconda\\lib\\site-packages\\gensim\\utils.py:1197: UserWarning: detected Windows; aliasing chunkize to chunkize_serial\n",
      "  warnings.warn(\"detected Windows; aliasing chunkize to chunkize_serial\")\n"
     ]
    }
   ],
   "source": [
    "import pandas as pd\n",
    "import numpy as np\n",
    "import collections #统计\n",
    "import nltk #自然语言处理包\n",
    "from nltk.collocations import * \n",
    "from gensim.models import word2vec #词向量"
   ]
  },
  {
   "cell_type": "code",
   "execution_count": 2,
   "metadata": {},
   "outputs": [],
   "source": [
    "def getPoems(dynasty):\n",
    "    path = r'C:/Users/HP/新建文件夹/pa_chong/poem/朝代/'+dynasty+r'total.csv'\n",
    "    f=open(path,'rb')\n",
    "    content = pd.read_csv(f, header=None)[1:]\n",
    "    f.close()\n",
    "    poem=content[3]\n",
    "    return poem"
   ]
  },
  {
   "cell_type": "code",
   "execution_count": 3,
   "metadata": {},
   "outputs": [],
   "source": [
    "def load():\n",
    "    path = r'C:/Users/HP/新建文件夹/pa_chong/poem/total.csv'\n",
    "    f=open(path,'rb')\n",
    "    content = pd.read_csv(f, header=None)[1:]\n",
    "    f.close()\n",
    "    poem=content[3]\n",
    "    return poem"
   ]
  },
  {
   "cell_type": "code",
   "execution_count": 4,
   "metadata": {},
   "outputs": [],
   "source": [
    "dynasty = '两汉'\n",
    "poems = getPoems(dynasty)"
   ]
  },
  {
   "cell_type": "code",
   "execution_count": 5,
   "metadata": {},
   "outputs": [],
   "source": [
    "total=load()\n",
    "model=word2vec.Word2Vec(list(total),min_count=3, size=100, window=5, workers=4)"
   ]
  },
  {
   "cell_type": "code",
   "execution_count": 6,
   "metadata": {},
   "outputs": [],
   "source": [
    "def get_emotion_list(emotion):\n",
    "    list_re=[]\n",
    "    for i in model.wv.most_similar(emotion,topn=50):\n",
    "        list_re.append(i[0])\n",
    "    return list_re"
   ]
  },
  {
   "cell_type": "code",
   "execution_count": 7,
   "metadata": {},
   "outputs": [],
   "source": [
    "def ini_emotion_list():\n",
    "    list_re=[]\n",
    "    emotions=['喜','愤','愁','思','怨']\n",
    "\n",
    "    for i in emotions:\n",
    "        list_re.append(get_emotion_list(i))\n",
    "    return list_re"
   ]
  },
  {
   "cell_type": "code",
   "execution_count": 8,
   "metadata": {},
   "outputs": [],
   "source": [
    "def get_emotion_score(poem,emotion):\n",
    "    score=0\n",
    "    for i in poem: \n",
    "        for j in emotion:\n",
    "            try:\n",
    "                temp=model.wv.similarity(i, j)\n",
    "            except:\n",
    "                temp=0\n",
    "            score = score + temp\n",
    "    return score"
   ]
  },
  {
   "cell_type": "code",
   "execution_count": 9,
   "metadata": {},
   "outputs": [],
   "source": [
    "def getScore(poem,emotion_list):\n",
    "    emotions=['喜','愤','愁','思','怨']\n",
    "    list_score=[]\n",
    "    for emotion in emotion_list:\n",
    "        score=get_emotion_score(poem,emotion)\n",
    "        list_score.append(score)\n",
    "#     print(list_score)\n",
    "    min_score=min(list_score)\n",
    "    max_score=max(list_score)\n",
    "    difference=max_score-min_score\n",
    "    pos = list_score.index(max_score)\n",
    "    list_score=[(i-min_score)/difference for i in list_score]\n",
    "#     print(list_score)\n",
    "    return emotions[pos]"
   ]
  },
  {
   "cell_type": "code",
   "execution_count": 10,
   "metadata": {},
   "outputs": [],
   "source": [
    "def distribution(poems):\n",
    "    distribute_dict={}\n",
    "    i=0\n",
    "    length = len(poems)\n",
    "    emotion_list=ini_emotion_list()\n",
    "    for poem in poems:\n",
    "        i=i+1\n",
    "        t=getScore(poem,emotion_list)\n",
    "        distribute_dict[t]=distribute_dict.get(t,0)+1\n",
    "#         distribute_dict[s]=distribute_dict.get(s,0)+1\n",
    "        if i%100==0:\n",
    "            print(str(i)+\"       -------------\"+str(i/length))  \n",
    "    return distribute_dict"
   ]
  },
  {
   "cell_type": "code",
   "execution_count": null,
   "metadata": {},
   "outputs": [],
   "source": [
    "fenbu = distribution(poems)"
   ]
  },
  {
   "cell_type": "code",
   "execution_count": 14,
   "metadata": {},
   "outputs": [
    {
     "data": {
      "text/plain": [
       "{'喜': 1073, '思': 881, '怨': 835, '愁': 1094, '愤': 841}"
      ]
     },
     "execution_count": 14,
     "metadata": {},
     "output_type": "execute_result"
    }
   ],
   "source": [
    "fenbu 南北朝"
   ]
  },
  {
   "cell_type": "code",
   "execution_count": null,
   "metadata": {},
   "outputs": [],
   "source": []
  }
 ],
 "metadata": {
  "kernelspec": {
   "display_name": "Python 3",
   "language": "python",
   "name": "python3"
  },
  "language_info": {
   "codemirror_mode": {
    "name": "ipython",
    "version": 3
   },
   "file_extension": ".py",
   "mimetype": "text/x-python",
   "name": "python",
   "nbconvert_exporter": "python",
   "pygments_lexer": "ipython3",
   "version": "3.6.4"
  }
 },
 "nbformat": 4,
 "nbformat_minor": 2
}
