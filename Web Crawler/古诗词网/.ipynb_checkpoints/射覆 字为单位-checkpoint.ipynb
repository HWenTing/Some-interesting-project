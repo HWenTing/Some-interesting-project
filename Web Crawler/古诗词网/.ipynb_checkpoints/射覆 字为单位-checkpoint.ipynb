{
 "cells": [
  {
   "cell_type": "markdown",
   "metadata": {},
   "source": [
    "#### 导包"
   ]
  },
  {
   "cell_type": "code",
   "execution_count": null,
   "metadata": {},
   "outputs": [],
   "source": [
    "import pandas as pd\n",
    "import numpy as np\n",
    "import collections #统计\n",
    "import nltk #自然语言处理包\n",
    "from nltk.collocations import * \n",
    "from gensim.models import word2vec #词向量\n",
    "import re"
   ]
  },
  {
   "cell_type": "markdown",
   "metadata": {},
   "source": [
    "#### 加载训练样本"
   ]
  },
  {
   "cell_type": "code",
   "execution_count": 2,
   "metadata": {},
   "outputs": [],
   "source": [
    "def load():\n",
    "    path = r'C:/Users/HP/新建文件夹/pa_chong/poem/total.csv'\n",
    "    f=open(path,'rb')\n",
    "    content = pd.read_csv(f, header=None)[1:]\n",
    "    f.close()\n",
    "    poem=content[3]\n",
    "    return poem"
   ]
  },
  {
   "cell_type": "markdown",
   "metadata": {},
   "source": [
    "#### 加载查询空间"
   ]
  },
  {
   "cell_type": "code",
   "execution_count": 5,
   "metadata": {},
   "outputs": [],
   "source": [
    "def getPoems(dynasty):\n",
    "    path = r'C:/Users/HP/新建文件夹/pa_chong/poem/朝代/'+dynasty+r'total.csv'\n",
    "    f=open(path,'rb')\n",
    "    content = pd.read_csv(f, header=None)[1:]\n",
    "    f.close()\n",
    "    poem=content[3]\n",
    "    return poem\n",
    "\n",
    "def make_sentence(poem):\n",
    "    sentence = [i for i in re.split('[。?!？；！]', poem) if len(i)>1]\n",
    "    return sentence\n",
    "\n",
    "def get_sentences(poems):\n",
    "    length= len(poems)\n",
    "    pos=1\n",
    "    sentence=[]\n",
    "    while pos<=length:\n",
    "        words=[]\n",
    "        try:\n",
    "            for i in range(pos,length+1):\n",
    "                words=words+make_sentence(poems.get(pos))\n",
    "                pos=pos+1\n",
    "                if(pos%100==0):\n",
    "                    print(pos)\n",
    "                    break\n",
    "        except Exception as e:\n",
    "            print(e)\n",
    "\n",
    "        sentence=sentence+words\n",
    "    return sentence\n"
   ]
  },
  {
   "cell_type": "markdown",
   "metadata": {},
   "source": [
    "#### 获取两句诗相似性"
   ]
  },
  {
   "cell_type": "code",
   "execution_count": null,
   "metadata": {},
   "outputs": [],
   "source": [
    "def similar(poem1,poem2):\n",
    "    total_score=0\n",
    "    for i in poem1:\n",
    "        score=0\n",
    "        for j in poem2:\n",
    "            try:\n",
    "                temp = model.wv.similarity(i, j)\n",
    "            except:\n",
    "                temp=0\n",
    "            if temp>score:\n",
    "                score=temp\n",
    "        total_score= total_score+score\n",
    "    return total_score/len(poem1)\n",
    "        "
   ]
  },
  {
   "cell_type": "markdown",
   "metadata": {},
   "source": [
    "#### 获取与诗句相似度排序列表"
   ]
  },
  {
   "cell_type": "code",
   "execution_count": null,
   "metadata": {},
   "outputs": [],
   "source": [
    "def get_similar_sentences(sentence,sentences):\n",
    "    find_list={}\n",
    "    total = len(sentences)\n",
    "    pos =0;\n",
    "    for i in sentences:\n",
    "        pos=pos+1\n",
    "        if len(i.split(','))!=2:\n",
    "            continue\n",
    "        find_list[i]=similar(sentence,i)\n",
    "        if pos%100==0:\n",
    "            print(pos)\n",
    "    sortlist=sorted(find_list.items(),key = lambda x:x[1],reverse = True)\n",
    "    return sortlist "
   ]
  },
  {
   "cell_type": "markdown",
   "metadata": {},
   "source": [
    "#### 调用函数进行分析"
   ]
  },
  {
   "cell_type": "code",
   "execution_count": null,
   "metadata": {},
   "outputs": [],
   "source": [
    "# 训练样本\n",
    "total=load()\n",
    "model=word2vec.Word2Vec(list(total),min_count=3, size=100, window=5, workers=4)"
   ]
  },
  {
   "cell_type": "code",
   "execution_count": 22,
   "metadata": {},
   "outputs": [
    {
     "name": "stdout",
     "output_type": "stream",
     "text": [
      "100\n"
     ]
    }
   ],
   "source": [
    "#获取查询空间\n",
    "poems = getPoems('隋代')\n",
    "sentences = get_sentences(poems)"
   ]
  },
  {
   "cell_type": "code",
   "execution_count": 26,
   "metadata": {},
   "outputs": [
    {
     "name": "stdout",
     "output_type": "stream",
     "text": [
      "100\n",
      "200\n",
      "300\n",
      "400\n",
      "500\n",
      "600\n",
      "700\n",
      "800\n",
      "900\n"
     ]
    }
   ],
   "source": [
    "most_similar = get_similar_sentences('桃花坞里桃花庵',sentences)"
   ]
  },
  {
   "cell_type": "code",
   "execution_count": 27,
   "metadata": {},
   "outputs": [
    {
     "data": {
      "text/plain": [
       "[('含露桃花开未飞，临风杨柳自依依', 0.6883049238763235),\n",
       " ('杨叶行将暗，桃花落未稀', 0.6740881644150474),\n",
       " ('上林花树百枝然', 0.5571732704989585),\n",
       " ('水映临桥树，风吹夹路花', 0.5466872171153614),\n",
       " ('花飞北寺道，弦散南漳滨', 0.5450380642324687),\n",
       " ('风花意无极，芳树晓禽归', 0.5353739306354965),\n",
       " ('灯树千光照，花焰七枝开', 0.5351650358282937),\n",
       " ('鸟声争劝酒，梅花笑杀人', 0.5317891313069675),\n",
       " ('飒洒林花落，逶迤风柳散', 0.5299303535307187),\n",
       " ('灼灼荷花瑞，亭亭出水中', 0.5284474404046479)]"
      ]
     },
     "execution_count": 27,
     "metadata": {},
     "output_type": "execute_result"
    }
   ],
   "source": [
    "most_similar[:10]"
   ]
  },
  {
   "cell_type": "code",
   "execution_count": null,
   "metadata": {},
   "outputs": [],
   "source": []
  }
 ],
 "metadata": {
  "kernelspec": {
   "display_name": "Python 3",
   "language": "python",
   "name": "python3"
  },
  "language_info": {
   "codemirror_mode": {
    "name": "ipython",
    "version": 3
   },
   "file_extension": ".py",
   "mimetype": "text/x-python",
   "name": "python",
   "nbconvert_exporter": "python",
   "pygments_lexer": "ipython3",
   "version": "3.6.4"
  }
 },
 "nbformat": 4,
 "nbformat_minor": 2
}
