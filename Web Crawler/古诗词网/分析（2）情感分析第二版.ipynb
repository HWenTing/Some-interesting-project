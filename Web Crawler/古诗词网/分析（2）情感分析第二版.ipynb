{
 "cells": [
  {
   "cell_type": "code",
   "execution_count": 1,
   "metadata": {},
   "outputs": [
    {
     "name": "stderr",
     "output_type": "stream",
     "text": [
      "D:\\Anaconda\\lib\\site-packages\\gensim\\utils.py:1197: UserWarning: detected Windows; aliasing chunkize to chunkize_serial\n",
      "  warnings.warn(\"detected Windows; aliasing chunkize to chunkize_serial\")\n"
     ]
    }
   ],
   "source": [
    "import pandas as pd\n",
    "import numpy as np\n",
    "import collections #统计\n",
    "import nltk #自然语言处理包\n",
    "from nltk.collocations import * \n",
    "from gensim.models import word2vec #词向量"
   ]
  },
  {
   "cell_type": "code",
   "execution_count": 2,
   "metadata": {},
   "outputs": [],
   "source": [
    "def getPoems(dynasty):\n",
    "    path = r'C:/Users/HP/新建文件夹/pa_chong/poem/朝代/'+dynasty+r'total.csv'\n",
    "    f=open(path,'rb')\n",
    "    content = pd.read_csv(f, header=None)[1:]\n",
    "    f.close()\n",
    "    poem=content[3]\n",
    "    return poem"
   ]
  },
  {
   "cell_type": "code",
   "execution_count": 3,
   "metadata": {},
   "outputs": [],
   "source": [
    "def getWords(dynasty):\n",
    "    path = r'C:/Users/HP/新建文件夹/pa_chong/poem/朝代/'+dynasty+r'.txt'\n",
    "    # 从文件读取分词\n",
    "    with open(path,encoding='utf-8') as f:\n",
    "        line = f.readline()\n",
    "    words = list(line)\n",
    "    return words"
   ]
  },
  {
   "cell_type": "code",
   "execution_count": 4,
   "metadata": {},
   "outputs": [],
   "source": [
    "def load():\n",
    "    path = r'C:/Users/HP/新建文件夹/pa_chong/poem/total.csv'\n",
    "    f=open(path,'rb')\n",
    "    content = pd.read_csv(f, header=None)[1:]\n",
    "    f.close()\n",
    "    poem=content[3]\n",
    "    return poem"
   ]
  },
  {
   "cell_type": "code",
   "execution_count": 5,
   "metadata": {},
   "outputs": [],
   "source": [
    "def test():\n",
    "    path = r'C:/Users/HP/新建文件夹/pa_chong/poem/类型/忧国忧民.csv'\n",
    "    f=open(path,'rb')\n",
    "    content = pd.read_csv(f, header=None)[1:]\n",
    "    f.close()\n",
    "    poem=content[3]\n",
    "    return poem"
   ]
  },
  {
   "cell_type": "code",
   "execution_count": 6,
   "metadata": {},
   "outputs": [],
   "source": [
    "dynasty = '唐代'\n",
    "poems = getPoems(dynasty)\n",
    "# words = getWords(dynasty)\n",
    "# poems = test()"
   ]
  },
  {
   "cell_type": "code",
   "execution_count": 7,
   "metadata": {},
   "outputs": [],
   "source": [
    "total=load()"
   ]
  },
  {
   "cell_type": "code",
   "execution_count": 8,
   "metadata": {},
   "outputs": [],
   "source": [
    "model=word2vec.Word2Vec(list(total),min_count=3, size=100, window=5, workers=4)"
   ]
  },
  {
   "cell_type": "code",
   "execution_count": null,
   "metadata": {},
   "outputs": [],
   "source": []
  },
  {
   "cell_type": "code",
   "execution_count": null,
   "metadata": {},
   "outputs": [],
   "source": []
  },
  {
   "cell_type": "code",
   "execution_count": 13,
   "metadata": {},
   "outputs": [],
   "source": [
    "def get_emotion(emotion,layer1,layer2,re):\n",
    "    dit = {}\n",
    "    try:\n",
    "        dict_emotion={emotion:1}\n",
    "        for i in model.wv.most_similar(emotion,topn=layer1): \n",
    "            dict_emotion[i[0]]=dict_emotion.get(i[0],0)+i[1]\n",
    "            for j in model.wv.most_similar(i[0],topn=layer2):\n",
    "                dict_emotion[j[0]]=dict_emotion.get(j[0],0)+i[1]*j[1]\n",
    "        sortlist=sorted(dict_emotion.items(),key = lambda x:x[1],reverse = True)[:re]\n",
    "        \n",
    "        for i in sortlist:\n",
    "            dit[i[0]] = i[1]\n",
    "        return dit,sortlist\n",
    "    except Exception as e:\n",
    "#         print(e)\n",
    "        return dit,0\n"
   ]
  },
  {
   "cell_type": "code",
   "execution_count": 11,
   "metadata": {},
   "outputs": [],
   "source": [
    "def getScore(poem,layer1,layer2,re):\n",
    "#     emotions=['喜','怒','忧','思','悲','恐','惊']\n",
    "#     emotions=['悲','惧','乐','怒','思','喜','忧']\n",
    "\n",
    "    emotions=['悲','惧','乐','怒','思','喜','忧']\n",
    "    type_probability={}\n",
    "    for emotion in emotions:\n",
    "        dit,temp=get_emotion(emotion,layer1,layer2,re)\n",
    "        score=0\n",
    "        for i in poem:\n",
    "            score+=dit.get(i,0)\n",
    "        score=score/len(poem)\n",
    "        type_probability[emotion]=score\n",
    "    type_probability.values()\n",
    "#     print(type_probability)\n",
    "    total_score=sum(list(type_probability.values()))\n",
    "    if total_score==0:\n",
    "        return '未知分类','未知分类'\n",
    "    most =sorted(type_probability.items(),key = lambda x:x[1],reverse = True)[0:2]\n",
    "\n",
    "    return most[0][0]"
   ]
  },
  {
   "cell_type": "code",
   "execution_count": 14,
   "metadata": {},
   "outputs": [
    {
     "data": {
      "text/plain": [
       "'思'"
      ]
     },
     "execution_count": 14,
     "metadata": {},
     "output_type": "execute_result"
    }
   ],
   "source": [
    "getScore(\"马踏红尘古塞平，出门谁不为功名。到头争似栖禅客，林下无言过一生。\",100,5,500)"
   ]
  },
  {
   "cell_type": "code",
   "execution_count": 15,
   "metadata": {},
   "outputs": [],
   "source": [
    "def distribution(poems,layer1=100,layer2=5,re=500):\n",
    "    distribute_dict={}\n",
    "    i=25000\n",
    "    length = len(poems)\n",
    "    for poem in poems[25000:35000]:\n",
    "        i=i+1\n",
    "        t=getScore(poem,layer1,layer2,re)\n",
    "        \n",
    "        distribute_dict[t]=distribute_dict.get(t,0)+1\n",
    "#         distribute_dict[s]=distribute_dict.get(s,0)+1\n",
    "        if i%100==0:\n",
    "            print(str(i)+\"       -------------\"+str(i/length))\n",
    "            \n",
    "    return distribute_dict"
   ]
  },
  {
   "cell_type": "code",
   "execution_count": 16,
   "metadata": {
    "scrolled": false
   },
   "outputs": [
    {
     "name": "stdout",
     "output_type": "stream",
     "text": [
      "25100       -------------0.49696081731245173\n",
      "25200       -------------0.49894074088740176\n",
      "25300       -------------0.5009206644623517\n",
      "25400       -------------0.5029005880373018\n",
      "25500       -------------0.5048805116122518\n",
      "25600       -------------0.5068604351872018\n",
      "25700       -------------0.5088403587621518\n",
      "25800       -------------0.5108202823371017\n",
      "25900       -------------0.5128002059120518\n",
      "26000       -------------0.5147801294870018\n",
      "26100       -------------0.5167600530619518\n",
      "26200       -------------0.5187399766369019\n",
      "26300       -------------0.5207199002118518\n",
      "26400       -------------0.5226998237868018\n",
      "26500       -------------0.5246797473617518\n",
      "26600       -------------0.5266596709367019\n",
      "26700       -------------0.5286395945116519\n",
      "26800       -------------0.5306195180866019\n",
      "26900       -------------0.5325994416615518\n",
      "27000       -------------0.5345793652365018\n",
      "27100       -------------0.5365592888114519\n",
      "27200       -------------0.5385392123864019\n",
      "27300       -------------0.5405191359613519\n",
      "27400       -------------0.542499059536302\n",
      "27500       -------------0.5444789831112519\n",
      "27600       -------------0.5464589066862019\n",
      "27700       -------------0.5484388302611519\n",
      "27800       -------------0.550418753836102\n",
      "27900       -------------0.552398677411052\n",
      "28000       -------------0.5543786009860019\n",
      "28100       -------------0.5563585245609519\n",
      "28200       -------------0.5583384481359019\n",
      "28300       -------------0.560318371710852\n",
      "28400       -------------0.562298295285802\n",
      "28500       -------------0.564278218860752\n",
      "28600       -------------0.5662581424357019\n",
      "28700       -------------0.568238066010652\n",
      "28800       -------------0.570217989585602\n",
      "28900       -------------0.572197913160552\n",
      "29000       -------------0.574177836735502\n",
      "29100       -------------0.5761577603104521\n",
      "29200       -------------0.578137683885402\n",
      "29300       -------------0.580117607460352\n",
      "29400       -------------0.582097531035302\n",
      "29500       -------------0.5840774546102521\n",
      "29600       -------------0.5860573781852021\n",
      "29700       -------------0.588037301760152\n",
      "29800       -------------0.590017225335102\n",
      "29900       -------------0.5919971489100521\n",
      "30000       -------------0.5939770724850021\n",
      "30100       -------------0.5959569960599521\n",
      "30200       -------------0.5979369196349021\n",
      "30300       -------------0.5999168432098521\n",
      "30400       -------------0.6018967667848021\n",
      "30500       -------------0.6038766903597521\n",
      "30600       -------------0.6058566139347021\n",
      "30700       -------------0.6078365375096522\n",
      "30800       -------------0.6098164610846021\n",
      "30900       -------------0.6117963846595521\n",
      "31000       -------------0.6137763082345021\n",
      "31100       -------------0.6157562318094522\n",
      "31200       -------------0.6177361553844022\n",
      "31300       -------------0.6197160789593522\n",
      "31400       -------------0.6216960025343021\n",
      "31500       -------------0.6236759261092522\n",
      "31600       -------------0.6256558496842022\n",
      "31700       -------------0.6276357732591522\n",
      "31800       -------------0.6296156968341022\n",
      "31900       -------------0.6315956204090523\n",
      "32000       -------------0.6335755439840022\n",
      "32100       -------------0.6355554675589522\n",
      "32200       -------------0.6375353911339022\n",
      "32300       -------------0.6395153147088523\n",
      "32400       -------------0.6414952382838023\n",
      "32500       -------------0.6434751618587522\n",
      "32600       -------------0.6454550854337022\n",
      "32700       -------------0.6474350090086523\n",
      "32800       -------------0.6494149325836023\n",
      "32900       -------------0.6513948561585523\n",
      "33000       -------------0.6533747797335023\n",
      "33100       -------------0.6553547033084522\n",
      "33200       -------------0.6573346268834023\n",
      "33300       -------------0.6593145504583523\n",
      "33400       -------------0.6612944740333023\n",
      "33500       -------------0.6632743976082524\n",
      "33600       -------------0.6652543211832024\n",
      "33700       -------------0.6672342447581523\n",
      "33800       -------------0.6692141683331023\n",
      "33900       -------------0.6711940919080523\n",
      "34000       -------------0.6731740154830024\n",
      "34100       -------------0.6751539390579524\n",
      "34200       -------------0.6771338626329023\n",
      "34300       -------------0.6791137862078523\n",
      "34400       -------------0.6810937097828024\n",
      "34500       -------------0.6830736333577524\n",
      "34600       -------------0.6850535569327024\n",
      "34700       -------------0.6870334805076524\n",
      "34800       -------------0.6890134040826024\n",
      "34900       -------------0.6909933276575524\n",
      "35000       -------------0.6929732512325024\n"
     ]
    }
   ],
   "source": [
    "fenbu = distribution(poems)"
   ]
  },
  {
   "cell_type": "code",
   "execution_count": 17,
   "metadata": {},
   "outputs": [
    {
     "data": {
      "text/plain": [
       "{('未知分类', '未知分类'): 17,\n",
       " '乐': 3794,\n",
       " '喜': 1763,\n",
       " '忧': 112,\n",
       " '怒': 203,\n",
       " '思': 3262,\n",
       " '悲': 552,\n",
       " '惧': 297}"
      ]
     },
     "execution_count": 17,
     "metadata": {},
     "output_type": "execute_result"
    }
   ],
   "source": [
    "fenbu 2w5-3w5"
   ]
  },
  {
   "cell_type": "code",
   "execution_count": 279,
   "metadata": {},
   "outputs": [
    {
     "data": {
      "text/plain": [
       "{('未知分类', '未知分类'): 10,\n",
       " '乐': 1522,\n",
       " '喜': 734,\n",
       " '忧': 51,\n",
       " '怒': 119,\n",
       " '思': 1874,\n",
       " '悲': 542,\n",
       " '惧': 148}"
      ]
     },
     "execution_count": 279,
     "metadata": {},
     "output_type": "execute_result"
    }
   ],
   "source": [
    "fenbu 2w-25000"
   ]
  },
  {
   "cell_type": "code",
   "execution_count": 276,
   "metadata": {},
   "outputs": [
    {
     "data": {
      "text/plain": [
       "{('未知分类', '未知分类'): 13,\n",
       " '乐': 3314,\n",
       " '喜': 1470,\n",
       " '忧': 128,\n",
       " '怒': 187,\n",
       " '思': 3912,\n",
       " '悲': 670,\n",
       " '惧': 306}"
      ]
     },
     "execution_count": 276,
     "metadata": {},
     "output_type": "execute_result"
    }
   ],
   "source": [
    "fenbu 1w-2w"
   ]
  },
  {
   "cell_type": "code",
   "execution_count": 209,
   "metadata": {},
   "outputs": [
    {
     "data": {
      "text/plain": [
       "{'乐': 1401,\n",
       " '喜': 504,\n",
       " '忧': 75,\n",
       " '怒': 103,\n",
       " '思': 2234,\n",
       " '悲': 416,\n",
       " '惧': 252,\n",
       " '未知分类': 15}"
      ]
     },
     "execution_count": 209,
     "metadata": {},
     "output_type": "execute_result"
    }
   ],
   "source": [
    "fenbu #唐5000-1w"
   ]
  },
  {
   "cell_type": "code",
   "execution_count": 215,
   "metadata": {},
   "outputs": [
    {
     "data": {
      "text/plain": [
       "{'乐': 1505,\n",
       " '喜': 503,\n",
       " '忧': 106,\n",
       " '怒': 143,\n",
       " '思': 2116,\n",
       " '悲': 359,\n",
       " '惧': 255,\n",
       " '未知分类': 13}"
      ]
     },
     "execution_count": 215,
     "metadata": {},
     "output_type": "execute_result"
    }
   ],
   "source": [
    "fenbu #唐0-5k"
   ]
  },
  {
   "cell_type": "markdown",
   "metadata": {},
   "source": [
    "###  金朝 {'乐': 463, '喜': 216, '忧': 29, '怒': 43, '思': 653, '悲': 107, '惧': 30, '未知分类': 6}"
   ]
  },
  {
   "cell_type": "markdown",
   "metadata": {},
   "source": [
    "### 两汉 {'乐': 170, '喜': 24, '忧': 23, '怒': 11, '思': 143, '悲': 59, '惧': 179, '未知分类': 14}"
   ]
  },
  {
   "cell_type": "code",
   "execution_count": 268,
   "metadata": {},
   "outputs": [
    {
     "data": {
      "text/plain": [
       "'马踏红尘古塞平，出门谁不为功名。到头争似栖禅客，林下无言过一生。'"
      ]
     },
     "execution_count": 268,
     "metadata": {},
     "output_type": "execute_result"
    }
   ],
   "source": [
    "poems[1001]"
   ]
  },
  {
   "cell_type": "code",
   "execution_count": 9,
   "metadata": {},
   "outputs": [
    {
     "data": {
      "text/plain": [
       "[('情', 0.585136353969574),\n",
       " ('闷', 0.5710055828094482),\n",
       " ('恹', 0.504031777381897),\n",
       " ('恨', 0.4907124638557434),\n",
       " ('伤', 0.48602280020713806),\n",
       " ('离', 0.47681325674057007),\n",
       " ('悰', 0.47155141830444336),\n",
       " ('憀', 0.4441626965999603),\n",
       " ('啼', 0.44334080815315247),\n",
       " ('撩', 0.44086021184921265),\n",
       " ('肠', 0.43779894709587097),\n",
       " ('恼', 0.4362007975578308),\n",
       " ('悲', 0.4326202869415283),\n",
       " ('魂', 0.4318295121192932),\n",
       " ('忧', 0.4232657253742218),\n",
       " ('思', 0.42267319560050964),\n",
       " ('悒', 0.4208638668060303),\n",
       " ('僽', 0.418687105178833),\n",
       " ('秋', 0.4178124666213989),\n",
       " ('悽', 0.41282856464385986)]"
      ]
     },
     "execution_count": 9,
     "metadata": {},
     "output_type": "execute_result"
    }
   ],
   "source": [
    "model.wv.most_similar('愁',topn=20)"
   ]
  },
  {
   "cell_type": "code",
   "execution_count": null,
   "metadata": {},
   "outputs": [],
   "source": []
  }
 ],
 "metadata": {
  "kernelspec": {
   "display_name": "Python 3",
   "language": "python",
   "name": "python3"
  },
  "language_info": {
   "codemirror_mode": {
    "name": "ipython",
    "version": 3
   },
   "file_extension": ".py",
   "mimetype": "text/x-python",
   "name": "python",
   "nbconvert_exporter": "python",
   "pygments_lexer": "ipython3",
   "version": "3.6.4"
  }
 },
 "nbformat": 4,
 "nbformat_minor": 2
}
