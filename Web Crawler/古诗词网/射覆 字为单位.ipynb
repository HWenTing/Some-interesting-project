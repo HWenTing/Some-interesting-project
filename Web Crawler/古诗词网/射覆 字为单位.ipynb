{
 "cells": [
  {
   "cell_type": "markdown",
   "metadata": {},
   "source": [
    "#### 导包"
   ]
  },
  {
   "cell_type": "code",
   "execution_count": 1,
   "metadata": {},
   "outputs": [
    {
     "name": "stderr",
     "output_type": "stream",
     "text": [
      "D:\\Anaconda\\lib\\site-packages\\gensim\\utils.py:1197: UserWarning: detected Windows; aliasing chunkize to chunkize_serial\n",
      "  warnings.warn(\"detected Windows; aliasing chunkize to chunkize_serial\")\n"
     ]
    }
   ],
   "source": [
    "import pandas as pd\n",
    "import numpy as np\n",
    "import collections #统计\n",
    "import nltk #自然语言处理包\n",
    "from nltk.collocations import * \n",
    "from gensim.models import word2vec #词向量\n",
    "import re"
   ]
  },
  {
   "cell_type": "markdown",
   "metadata": {},
   "source": [
    "#### 加载训练样本"
   ]
  },
  {
   "cell_type": "code",
   "execution_count": 2,
   "metadata": {},
   "outputs": [],
   "source": [
    "def load():\n",
    "    path = r'C:/Users/HP/新建文件夹/pa_chong/poem/total.csv'\n",
    "    f=open(path,'rb')\n",
    "    content = pd.read_csv(f, header=None)[1:]\n",
    "    f.close()\n",
    "    poem=content[3]\n",
    "    return poem"
   ]
  },
  {
   "cell_type": "markdown",
   "metadata": {},
   "source": [
    "#### 加载查询空间"
   ]
  },
  {
   "cell_type": "code",
   "execution_count": 3,
   "metadata": {},
   "outputs": [],
   "source": [
    "def getPoems(dynasty):\n",
    "    path = r'C:/Users/HP/新建文件夹/pa_chong/poem/朝代/'+dynasty+r'total.csv'\n",
    "    f=open(path,'rb')\n",
    "    content = pd.read_csv(f, header=None)[1:]\n",
    "    f.close()\n",
    "    poem=content[3]\n",
    "    return poem\n",
    "\n",
    "def make_sentence(poem):\n",
    "    sentence = [i for i in re.split('[。?!？；！]', poem) if len(i)>1]\n",
    "    return sentence\n",
    "\n",
    "def get_sentences(poems):\n",
    "    length= len(poems)\n",
    "    pos=1\n",
    "    sentence=[]\n",
    "    while pos<=length:\n",
    "        words=[]\n",
    "        try:\n",
    "            for i in range(pos,length+1):\n",
    "                words=words+make_sentence(poems.get(pos))\n",
    "                pos=pos+1\n",
    "                if(pos%100==0):\n",
    "                    print(pos)\n",
    "                    break\n",
    "        except Exception as e:\n",
    "            print(e)\n",
    "\n",
    "        sentence=sentence+words\n",
    "    return sentence\n"
   ]
  },
  {
   "cell_type": "markdown",
   "metadata": {},
   "source": [
    "#### 获取两句诗相似性"
   ]
  },
  {
   "cell_type": "code",
   "execution_count": 4,
   "metadata": {},
   "outputs": [],
   "source": [
    "def similar(poem1,poem2):\n",
    "    total_score=0\n",
    "    for i in poem1:\n",
    "        score=0\n",
    "        for j in poem2:\n",
    "            try:\n",
    "                temp = model.wv.similarity(i, j)\n",
    "            except:\n",
    "                temp=0\n",
    "            if temp>score:\n",
    "                score=temp\n",
    "        total_score= total_score+score\n",
    "    return total_score/len(poem1)\n",
    "        "
   ]
  },
  {
   "cell_type": "markdown",
   "metadata": {},
   "source": [
    "#### 获取与诗句相似度排序列表"
   ]
  },
  {
   "cell_type": "code",
   "execution_count": 30,
   "metadata": {},
   "outputs": [],
   "source": [
    "def get_similar_sentences(sentence,sentences):\n",
    "\n",
    "    find_list={}\n",
    "    total = len(sentences)\n",
    "    pos =0;\n",
    "    for i in sentences:\n",
    "        pos=pos+1\n",
    "\n",
    "        if len(i.split('，'))!=2:\n",
    "            continue\n",
    "\n",
    "        find_list[i]=similar(sentence,i)\n",
    "        if pos%100==0:\n",
    "            print(pos)\n",
    "    sortlist=sorted(find_list.items(),key = lambda x:x[1],reverse = True)\n",
    "    return sortlist "
   ]
  },
  {
   "cell_type": "markdown",
   "metadata": {},
   "source": [
    "#### 调用函数进行分析"
   ]
  },
  {
   "cell_type": "code",
   "execution_count": 6,
   "metadata": {},
   "outputs": [],
   "source": [
    "# 训练样本\n",
    "total=load()\n",
    "model=word2vec.Word2Vec(list(total),min_count=3, size=100, window=5, workers=4)"
   ]
  },
  {
   "cell_type": "code",
   "execution_count": 7,
   "metadata": {},
   "outputs": [
    {
     "name": "stdout",
     "output_type": "stream",
     "text": [
      "100\n"
     ]
    }
   ],
   "source": [
    "#获取查询空间\n",
    "poems = getPoems('隋代')\n",
    "sentences = get_sentences(poems)"
   ]
  },
  {
   "cell_type": "code",
   "execution_count": 35,
   "metadata": {},
   "outputs": [
    {
     "name": "stdout",
     "output_type": "stream",
     "text": [
      "100\n",
      "300\n",
      "400\n",
      "500\n",
      "600\n",
      "700\n",
      "800\n",
      "900\n"
     ]
    }
   ],
   "source": [
    "most_similar = get_similar_sentences('桃花杨柳',sentences)"
   ]
  },
  {
   "cell_type": "code",
   "execution_count": 36,
   "metadata": {},
   "outputs": [
    {
     "data": {
      "text/plain": [
       "[('含露桃花开未飞，临风杨柳自依依', 1.0),\n",
       " ('杨叶行将暗，桃花落未稀', 0.8786614593233902),\n",
       " ('是月春之季，花柳相依依', 0.7334905952595734),\n",
       " ('垂丝被柳陌，落锦覆桃蹊', 0.7278193415491951),\n",
       " ('飒洒林花落，逶迤风柳散', 0.7278193415491951),\n",
       " ('柳黄知节变，草绿识春归', 0.6213346795962917),\n",
       " ('鸟声争劝酒，梅花笑杀人', 0.5902721834902205),\n",
       " ('小苑花红洛水绿，清歌宛转繁弦促', 0.5828797281015357),\n",
       " ('御柳长条翠，宫槐细叶开', 0.5738974088492172),\n",
       " ('水映临桥树，风吹夹路花', 0.5649917101944724)]"
      ]
     },
     "execution_count": 36,
     "metadata": {},
     "output_type": "execute_result"
    }
   ],
   "source": [
    "most_similar[:10]"
   ]
  },
  {
   "cell_type": "code",
   "execution_count": null,
   "metadata": {},
   "outputs": [],
   "source": []
  }
 ],
 "metadata": {
  "kernelspec": {
   "display_name": "Python 3",
   "language": "python",
   "name": "python3"
  },
  "language_info": {
   "codemirror_mode": {
    "name": "ipython",
    "version": 3
   },
   "file_extension": ".py",
   "mimetype": "text/x-python",
   "name": "python",
   "nbconvert_exporter": "python",
   "pygments_lexer": "ipython3",
   "version": "3.6.4"
  }
 },
 "nbformat": 4,
 "nbformat_minor": 2
}
