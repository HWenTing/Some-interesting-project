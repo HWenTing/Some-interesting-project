{
 "cells": [
  {
   "cell_type": "code",
   "execution_count": 1,
   "metadata": {},
   "outputs": [
    {
     "name": "stderr",
     "output_type": "stream",
     "text": [
      "D:\\Anaconda\\lib\\site-packages\\gensim\\utils.py:1197: UserWarning: detected Windows; aliasing chunkize to chunkize_serial\n",
      "  warnings.warn(\"detected Windows; aliasing chunkize to chunkize_serial\")\n"
     ]
    }
   ],
   "source": [
    "import pandas as pd\n",
    "import numpy as np\n",
    "import collections #统计\n",
    "import nltk #自然语言处理包\n",
    "from nltk.collocations import * \n",
    "from gensim.models import word2vec #词向量"
   ]
  },
  {
   "cell_type": "code",
   "execution_count": 2,
   "metadata": {},
   "outputs": [],
   "source": [
    "def getPoems(dynasty):\n",
    "    path = r'C:/Users/HP/新建文件夹/pa_chong/poem/朝代/'+dynasty+r'total.csv'\n",
    "    f=open(path,'rb')\n",
    "    content = pd.read_csv(f, header=None)[1:]\n",
    "    f.close()\n",
    "    poem=content[3]\n",
    "    return poem"
   ]
  },
  {
   "cell_type": "code",
   "execution_count": 3,
   "metadata": {},
   "outputs": [],
   "source": [
    "def getWords(dynasty):\n",
    "    path = r'C:/Users/HP/新建文件夹/pa_chong/poem/朝代/'+dynasty+r'.txt'\n",
    "    # 从文件读取分词\n",
    "    with open(path,encoding='utf-8') as f:\n",
    "        line = f.readline()\n",
    "    words = list(line)\n",
    "    return words"
   ]
  },
  {
   "cell_type": "code",
   "execution_count": 43,
   "metadata": {},
   "outputs": [],
   "source": [
    "def load():\n",
    "    path = r'C:/Users/HP/新建文件夹/pa_chong/poem/total.csv'\n",
    "    f=open(path,'rb')\n",
    "    content = pd.read_csv(f, header=None)[1:]\n",
    "    f.close()\n",
    "    poem=content[3]\n",
    "    return poem"
   ]
  },
  {
   "cell_type": "code",
   "execution_count": 46,
   "metadata": {},
   "outputs": [],
   "source": [
    "def test():\n",
    "    path = r'C:/Users/HP/新建文件夹/pa_chong/poem/杜甫.csv'\n",
    "    f=open(path,'rb')\n",
    "\n",
    "    content = pd.read_csv(f, header=None,encoding='gb18030')[1:]\n",
    "    f.close()\n",
    "    poem=content[3]\n",
    "    return poem"
   ]
  },
  {
   "cell_type": "code",
   "execution_count": 49,
   "metadata": {},
   "outputs": [],
   "source": [
    "dynasty = '金朝'\n",
    "# poems = getPoems(dynasty)\n",
    "# words = getWords(dynasty)\n",
    "poems = test()"
   ]
  },
  {
   "cell_type": "code",
   "execution_count": 21,
   "metadata": {},
   "outputs": [],
   "source": [
    "total=load()"
   ]
  },
  {
   "cell_type": "code",
   "execution_count": 7,
   "metadata": {},
   "outputs": [],
   "source": [
    "model=word2vec.Word2Vec(list(total),min_count=3, size=100, window=5, workers=4)"
   ]
  },
  {
   "cell_type": "code",
   "execution_count": 18,
   "metadata": {},
   "outputs": [
    {
     "data": {
      "text/plain": [
       "[('怀', 0.594771683216095),\n",
       " ('忆', 0.48607704043388367),\n",
       " ('逢', 0.4842267334461212),\n",
       " ('念', 0.48203808069229126),\n",
       " ('期', 0.4721718728542328),\n",
       " ('情', 0.44191285967826843),\n",
       " ('魂', 0.44008615612983704),\n",
       " ('愁', 0.4336218535900116),\n",
       " ('恨', 0.4227339029312134),\n",
       " ('忡', 0.42057764530181885),\n",
       " ('慰', 0.41989946365356445),\n",
       " ('忘', 0.41428232192993164),\n",
       " ('感', 0.4072200059890747),\n",
       " ('望', 0.392672061920166),\n",
       " ('悰', 0.38949477672576904),\n",
       " ('肠', 0.3860398232936859),\n",
       " ('怊', 0.38501790165901184),\n",
       " ('悽', 0.3849114775657654),\n",
       " ('忖', 0.3848033547401428),\n",
       " ('怏', 0.38475728034973145)]"
      ]
     },
     "execution_count": 18,
     "metadata": {},
     "output_type": "execute_result"
    }
   ],
   "source": [
    " model.wv.most_similar('思',topn=20)"
   ]
  },
  {
   "cell_type": "code",
   "execution_count": 80,
   "metadata": {},
   "outputs": [],
   "source": [
    "def get_emotion(emotion,layer1,layer2,re):\n",
    "    dit = {}\n",
    "    try:\n",
    "        dict_emotion={emotion:1}\n",
    "        for i in model.wv.most_similar(emotion,topn=layer1): \n",
    "            dict_emotion[i[0]]=dict_emotion.get(i[0],0)+i[1]\n",
    "            for j in model.wv.most_similar(i[0],topn=layer2):\n",
    "#                 print(i,j)\n",
    "                dict_emotion[j[0]]=dict_emotion.get(j[0],0)+i[1]*j[1]\n",
    "        sortlist=sorted(dict_emotion.items(),key = lambda x:x[1],reverse = True)[:re]\n",
    "        \n",
    "        for i in sortlist:\n",
    "            dit[i[0]] = i[1]\n",
    "        return dit,sortlist\n",
    "    except Exception as e:\n",
    "#         print(e)\n",
    "        return dit,0"
   ]
  },
  {
   "cell_type": "code",
   "execution_count": 81,
   "metadata": {},
   "outputs": [],
   "source": [
    "def getScore(poem,layer1,layer2,re):\n",
    "#     emotions=['喜','怒','忧','思','悲','恐','惊']\n",
    "    emotions=['悲','惧','乐','怒','思','喜','忧']\n",
    "    type_probability={}\n",
    "    for emotion in emotions:\n",
    "        dit,temp=get_emotion(emotion,layer1,layer2,re)\n",
    "        score=0\n",
    "        for i in poem:\n",
    "#             print(i)\n",
    "            score+=dit.get(i,0)\n",
    "        score=score/len(poem)\n",
    "        type_probability[emotion]=score\n",
    "    type_probability.values()\n",
    "#     print(type_probability)\n",
    "    total_score=sum(list(type_probability.values()))\n",
    "    if total_score==0:\n",
    "        return '未知分类',1\n",
    "    most =sorted(type_probability.items(),key = lambda x:x[1],reverse = True)[0]\n",
    "\n",
    "    return most[0],most[1]/total_score"
   ]
  },
  {
   "cell_type": "code",
   "execution_count": 82,
   "metadata": {},
   "outputs": [],
   "source": [
    "def distribution(poems,layer1=20,layer2=5,re=100):\n",
    "    distribute_dict={}\n",
    "    i=0\n",
    "    length = len(poems)\n",
    "    for poem in poems:\n",
    "        i=i+1\n",
    "        t,s=getScore(poem,layer1,layer2,re)\n",
    "        distribute_dict[t]=distribute_dict.get(t,0)+1\n",
    "        if i%100==0:\n",
    "            print(str(i)+\"       -------------\"+str(i/length))\n",
    "            \n",
    "    return distribute_dict"
   ]
  },
  {
   "cell_type": "code",
   "execution_count": 75,
   "metadata": {},
   "outputs": [
    {
     "data": {
      "text/plain": [
       "1      八月秋高风怒号，卷我屋上三重茅。茅飞渡江洒江郊，高者挂罥长林梢，下者飘转沉塘坳。南村群童欺我...\n",
       "2       好雨知时节，当春乃发生。随风潜入夜，润物细无声。野径云俱黑，江船火独明。晓看红湿处，花重锦官城。\n",
       "3      岱宗夫如何？齐鲁青未了。造化钟神秀，阴阳割昏晓。荡胸生曾云，决眦入归鸟。( 曾 通：层)会当...\n",
       "4                       两个黄鹂鸣翠柳，一行白鹭上青天。窗含西岭千秋雪，门泊东吴万里船。\n",
       "5      剑外忽传收蓟北，初闻涕泪满衣裳。却看妻子愁何在，漫卷诗书喜欲狂。白日放歌须纵酒，青春作伴好还...\n",
       "6      暮投石壕村，有吏夜捉人。老翁逾墙走，老妇出门看。吏呼一何怒，妇啼一何苦。听妇前致词，三男邺城...\n",
       "7      风急天高猿啸哀，渚清沙白鸟飞回。无边落木萧萧下，不尽长江滚滚来。万里悲秋常作客，百年多病独登...\n",
       "8                       黄四娘家花满蹊，千朵万朵压枝低。留连戏蝶时时舞，自在娇莺恰恰啼。\n",
       "9      戍鼓断人行，边秋一雁声。(边秋 一作:秋边)露从今夜白，月是故乡明。有弟皆分散，无家问死生。...\n",
       "10     丞相祠堂何处寻，锦官城外柏森森。映阶碧草自春色，隔叶黄鹂空好音。三顾频烦天下计，两朝开济老臣...\n",
       "11                     岐王宅里寻常见，崔九堂前几度闻。 正是江南好风景，落花时节又逢君。\n",
       "12      昔闻洞庭水，今上岳阳楼。吴楚东南坼，乾坤日夜浮。亲朋无一字，老病有孤舟。戎马关山北，凭轩涕泗流。\n",
       "13                      黄师塔前江水东，春光懒困倚微风。桃花一簇开无主，可爱深红爱浅红？\n",
       "14     迟日江山丽，春风花草香。泥融飞燕子，沙暖睡鸳鸯。 江碧鸟逾白，山青花欲燃。今春看又过，何日是归年。\n",
       "15                    功盖三分国，名成八阵图。（名成 一作：名高）江流石不转，遗恨失吞吴。\n",
       "16                     锦城丝管日纷纷，半入江风半入云。 此曲只应天上有，人间能得几回闻。\n",
       "17      细草微风岸，危樯独夜舟。星垂平野阔，月涌大江流。名岂文章著，官应老病休。飘飘何所似，天地一沙鸥。\n",
       "18                              江碧鸟逾白，山青花欲燃。今春看又过，何日是归年？\n",
       "19     江上被花恼不彻，无处告诉只颠狂。走觅南邻爱酒伴，经旬出饮独空床。稠花乱蕊畏江滨，行步欹危实怕...\n",
       "20     今夜鄜州月，闺中只独看。遥怜小儿女，未解忆长安。 香雾云鬟湿，清辉玉臂寒。何时倚虚幌，双照泪痕干。\n",
       "21     花近高楼伤客心，万方多难此登临。锦江春色来天地，玉垒浮云变古今。北极朝廷终不改，西山寇盗莫相...\n",
       "22     人生不相见，动如参与商。今夕复何夕，共此灯烛光。少壮能几时，鬓发各已苍。访旧半为鬼，惊呼热中...\n",
       "23     车辚辚，马萧萧，行人弓箭各在腰。耶娘妻子走相送，尘埃不见咸阳桥。(耶娘 一作：“爷”)牵衣顿...\n",
       "24     浮云终日行，游子久不至。三夜频梦君，情亲见君意。告归常局促，苦道来不易。江湖多风波，舟楫恐失...\n",
       "25      挽弓当挽强，用箭当用长。射人先射马，擒贼先擒王。杀人亦有限，列国自有疆。苟能制侵陵，岂在多杀伤。\n",
       "26     舍南舍北皆春水，但见群鸥日日来。花径不曾缘客扫，蓬门今始为君开。盘飧市远无兼味，樽酒家贫只旧...\n",
       "27      胡马大宛名，锋棱瘦骨成。竹批双耳峻，风入四蹄轻。所向无空阔，真堪托死生。骁腾有如此，万里可横行。\n",
       "28     万里桥西一草堂，百花潭水即沧浪。风含翠篠娟娟净，雨裛红蕖冉冉香。(篠 通：筱)厚禄故人书断绝...\n",
       "29     群鸡正乱叫，客至鸡斗争。驱鸡上树木，始闻叩柴荆。父老四五人，问我久远行。手中各有携，倾榼浊复...\n",
       "30     知章骑马似乘船，眼花落井水底眠。汝阳三斗始朝天，道逢麴车口流涎，恨不移封向酒泉。左相日兴费万...\n",
       "                             ...                        \n",
       "970                             胡虏何曾盛，干戈不肯休。闾阎听小子，谈话觅封侯。\n",
       "971    禁脔去东床，趋庭赴北堂。风波空远涉，琴瑟几虚张。渥水出骐骥，昆山生凤凰。两家诚款款，中道许苍...\n",
       "972    东渚雨今足，伫闻粳稻香。上天无偏颇，蒲稗各自长。人情见非类，田家戒其荒。功夫竞搰搰，除草置岸...\n",
       "973    鼎湖瞻望远，象阙宪章新。四海犹多难，中原忆旧臣。与时安反侧，自昔有经纶。感激张天步，从容静塞...\n",
       "974    阳翟空知处，荆南近得书。积年仍远别，多难不安居。江汉春风起，冰霜昨夜除。云天犹错莫，花萼尚萧...\n",
       "975                     崆峒西极过昆崙，驼马由来拥国门。逆气数年吹路断，蕃人闻道渐星奔。\n",
       "976     用拙存吾道，幽居近物情。桑麻深雨露，燕雀半生成。村鼓时时急，渔舟个个轻。杖藜从白首，心迹喜双清。\n",
       "977     众壑生寒早，长林卷雾齐。青虫悬就日，朱果落封泥。薄俗防人面，全身学马蹄。吟诗坐回首，随意葛巾低。\n",
       "978    童稚情亲四十年，中间消息两茫然。更为后会知何地？忽漫相逢是别筵！不分桃花红似锦，生憎柳絮白于...\n",
       "979     故使笼宽织，须知动损毛。看云莫怅望，失水任呼号。六翮曾经剪，孤飞卒未高。且无鹰隼虑，留滞莫辞劳。\n",
       "980    峡人鸟兽居，其室附层颠。下临不测江，中有万里船。多病纷倚薄，少留改岁年。绝域谁慰怀，开颜喜名...\n",
       "981    昭代将垂白，途穷乃叫阍。气冲星象表，词感帝王尊。天老书题目，春官验讨论。倚风遗鶂路，随水到龙...\n",
       "982     惠子白驹瘦，归溪唯病身。皇天无老眼，空谷滞斯人。崖蜜松花熟，山杯竹叶新。柴门了无事，黄绮未称臣。\n",
       "983                     谢安舟楫风还起，梁苑池台雪欲飞。杳杳东山携汉妓，泠泠修竹待王归。\n",
       "984     隐者柴门内，畦蔬绕舍秋。盈筐承露薤，不待致书求。束比青刍色，圆齐玉箸头。衰年关鬲冷，味暖并无忧。\n",
       "985     清商欲尽奏，奏苦血沾衣。他日伤心极，征人白骨归。相逢恐恨过，故作发声微。不见秋云动，悲风稍稍飞。\n",
       "986                     侧生野岸及江蒲，不熟丹宫满玉壶。云壑布衣骀背死，劳生重马翠眉须。\n",
       "987    漾舟千山内，日入泊枉渚。我生本飘飘，今复在何许。石根青枫林，猿鸟聚俦侣。月明游子静，畏虎不得...\n",
       "988     群盗无归路，衰颜会远方。尚怜诗警策，犹记酒颠狂。鲁卫弥尊重，徐陈略丧亡。空馀枚叟在，应念早升堂。\n",
       "989     追饯同舟日，伤春一水间。飘零为客久，衰老羡君还。花远重重树，云轻处处山。天涯故人少，更益鬓毛斑。\n",
       "990    岷岭南蛮北，徐关东海西。此行何日到，送汝万行啼。绝域惟高枕，清风独杖藜。危时暂相见，衰白意都...\n",
       "991    我衰太平时，身病戎马后。蹭蹬多拙为，安得不皓首。驱驰四海内，童稚日糊口。但遇新少年，少逢旧亲...\n",
       "992     乱后居难定，春归客未还。水生鱼复浦，云暖麝香山。半顶梳头白，过眉拄杖斑。相看多使者，一一问函关。\n",
       "993                     郑子将行罢使臣，囊无一物献尊亲。江山路远羁离日，裘马谁为感激人。\n",
       "994    天寒霜雪繁，游子有所之。岂但岁月暮，重来未有期。晨发赤谷亭，险艰方自兹。乱石无改辙，我车已载...\n",
       "995     骥子春犹隔，莺歌暖正繁。别离惊节换，聪慧与谁论。涧水空山道，柴门老树村。忆渠愁只睡，炙背俯晴轩。\n",
       "996    野寺隐乔木，山僧高下居。石门日色异，绛气横扶疏。窈窕入风磴，长芦纷卷舒。庭前猛虎卧，遂得文公...\n",
       "997     莽莽天涯雨，江边独立时。不愁巴道路，恐湿汉旌旗。雪岭防秋急，绳桥战胜迟。西戎甥舅礼，未敢背恩私。\n",
       "998    诏许辞中禁，慈颜赴北堂。圣朝新孝理，祖席倍辉光。内帛擎偏重，宫衣著更香。淮阴清夜驿，京口渡江...\n",
       "999    此堂存古制，城上俯江郊。落构垂云雨，荒阶蔓草茅。柱穿蜂溜蜜，栈缺燕添巢。坐接春杯气，心伤艳蕊...\n",
       "Name: 3, Length: 999, dtype: object"
      ]
     },
     "execution_count": 75,
     "metadata": {},
     "output_type": "execute_result"
    }
   ],
   "source": [
    "poems"
   ]
  },
  {
   "cell_type": "code",
   "execution_count": 83,
   "metadata": {
    "scrolled": false
   },
   "outputs": [
    {
     "name": "stdout",
     "output_type": "stream",
     "text": [
      "100       -------------0.1001001001001001\n",
      "200       -------------0.2002002002002002\n",
      "300       -------------0.3003003003003003\n",
      "400       -------------0.4004004004004004\n",
      "500       -------------0.5005005005005005\n",
      "600       -------------0.6006006006006006\n",
      "700       -------------0.7007007007007007\n",
      "800       -------------0.8008008008008008\n",
      "900       -------------0.9009009009009009\n"
     ]
    }
   ],
   "source": [
    "fenbu = distribution(poems)"
   ]
  },
  {
   "cell_type": "code",
   "execution_count": 52,
   "metadata": {},
   "outputs": [
    {
     "data": {
      "text/plain": [
       "{'乐': 252, '喜': 104, '忧': 13, '怒': 44, '思': 375, '悲': 167, '惧': 36, '未知分类': 8}"
      ]
     },
     "execution_count": 52,
     "metadata": {},
     "output_type": "execute_result"
    }
   ],
   "source": [
    "fenbu"
   ]
  },
  {
   "cell_type": "code",
   "execution_count": 60,
   "metadata": {},
   "outputs": [
    {
     "data": {
      "text/plain": [
       "{'乐': 268, '喜': 149, '忧': 14, '怒': 39, '思': 334, '悲': 156, '惧': 32, '未知分类': 7}"
      ]
     },
     "execution_count": 60,
     "metadata": {},
     "output_type": "execute_result"
    }
   ],
   "source": [
    "fenbu 50 5 100"
   ]
  },
  {
   "cell_type": "code",
   "execution_count": 64,
   "metadata": {},
   "outputs": [
    {
     "data": {
      "text/plain": [
       "{'乐': 270, '喜': 197, '忧': 70, '怒': 33, '思': 210, '悲': 154, '惧': 36, '未知分类': 29}"
      ]
     },
     "execution_count": 64,
     "metadata": {},
     "output_type": "execute_result"
    }
   ],
   "source": [
    "fenbu 100 1 100"
   ]
  },
  {
   "cell_type": "code",
   "execution_count": 84,
   "metadata": {},
   "outputs": [
    {
     "data": {
      "text/plain": [
       "{'乐': 152, '喜': 161, '忧': 44, '怒': 42, '思': 368, '悲': 171, '惧': 20, '未知分类': 41}"
      ]
     },
     "execution_count": 84,
     "metadata": {},
     "output_type": "execute_result"
    }
   ],
   "source": [
    "fenbu "
   ]
  },
  {
   "cell_type": "code",
   "execution_count": null,
   "metadata": {},
   "outputs": [],
   "source": []
  }
 ],
 "metadata": {
  "kernelspec": {
   "display_name": "Python 3",
   "language": "python",
   "name": "python3"
  },
  "language_info": {
   "codemirror_mode": {
    "name": "ipython",
    "version": 3
   },
   "file_extension": ".py",
   "mimetype": "text/x-python",
   "name": "python",
   "nbconvert_exporter": "python",
   "pygments_lexer": "ipython3",
   "version": "3.6.4"
  }
 },
 "nbformat": 4,
 "nbformat_minor": 2
}
