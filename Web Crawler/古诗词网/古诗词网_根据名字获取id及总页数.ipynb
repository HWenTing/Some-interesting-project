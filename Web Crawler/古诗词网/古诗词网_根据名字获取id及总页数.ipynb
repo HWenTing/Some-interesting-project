{
 "cells": [
  {
   "cell_type": "code",
   "execution_count": 1,
   "metadata": {},
   "outputs": [],
   "source": [
    "# coding: utf-8\n",
    "import re \n",
    "import pandas as pd\n",
    "import requests\n",
    "import random\n",
    "import json\n",
    "from urllib import parse\n",
    "from urllib import request\n",
    "import time\n",
    "from datetime import datetime\n",
    "from datetime import timedelta\n",
    "header={\n",
    "    'User-Agent':'Mozilla/5.0 (Windows NT 10.0; Win64; x64) AppleWebKit/537.36 (KHTML, like Gecko) Chrome/69.0.3497.100 Safari/537.36',\n",
    "    'Connection':'keep-alive'\n",
    "}"
   ]
  },
  {
   "cell_type": "code",
   "execution_count": 2,
   "metadata": {},
   "outputs": [],
   "source": [
    "def get_id_by_name(name):\n",
    "    url = 'https://so.gushiwen.org/search.aspx?'\n",
    "    dict1 ={'value': name}\n",
    "    url_data = parse.urlencode(dict1) #unlencode()将字典{k1:v1,k2:v2}转化为k1=v1&k2=v2\n",
    "    html = requests.get(url=url+url_data, headers=header).content.decode('utf-8')\n",
    "    s = r'so.gushiwen.org\\/authorv_(.*?)\\.aspx'\n",
    "    id = re.findall(s, html)\n",
    "    return id[0]"
   ]
  },
  {
   "cell_type": "code",
   "execution_count": 3,
   "metadata": {},
   "outputs": [
    {
     "data": {
      "text/plain": [
       "'515ea88d1858'"
      ]
     },
     "execution_count": 3,
     "metadata": {},
     "output_type": "execute_result"
    }
   ],
   "source": [
    " get_id_by_name(\"杜甫\")"
   ]
  },
  {
   "cell_type": "code",
   "execution_count": 4,
   "metadata": {},
   "outputs": [],
   "source": [
    "def get_pages_by_name(name):\n",
    "    url = 'https://so.gushiwen.org/authors/authorvsw_'+get_id_by_name(name)+'A1.aspx'\n",
    "    html = requests.get(url=url, headers=header).content.decode('utf-8')\n",
    "    s = r'sumPage\\\" style=\\\"display:none;\\\">(.*?)<\\/label>'\n",
    "    pages = re.findall(s, html)\n",
    "    return pages[0]"
   ]
  },
  {
   "cell_type": "code",
   "execution_count": 5,
   "metadata": {},
   "outputs": [
    {
     "data": {
      "text/plain": [
       "'138'"
      ]
     },
     "execution_count": 5,
     "metadata": {},
     "output_type": "execute_result"
    }
   ],
   "source": [
    "get_pages_by_name(\"杜甫\")"
   ]
  },
  {
   "cell_type": "code",
   "execution_count": null,
   "metadata": {},
   "outputs": [],
   "source": []
  }
 ],
 "metadata": {
  "kernelspec": {
   "display_name": "Python 3",
   "language": "python",
   "name": "python3"
  },
  "language_info": {
   "codemirror_mode": {
    "name": "ipython",
    "version": 3
   },
   "file_extension": ".py",
   "mimetype": "text/x-python",
   "name": "python",
   "nbconvert_exporter": "python",
   "pygments_lexer": "ipython3",
   "version": "3.6.4"
  }
 },
 "nbformat": 4,
 "nbformat_minor": 2
}
