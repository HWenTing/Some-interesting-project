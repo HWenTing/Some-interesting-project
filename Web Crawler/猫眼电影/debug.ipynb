{
 "cells": [
  {
   "cell_type": "code",
   "execution_count": null,
   "metadata": {},
   "outputs": [],
   "source": []
  },
  {
   "cell_type": "code",
   "execution_count": 1,
   "metadata": {},
   "outputs": [],
   "source": [
    "# coding: utf-8\n",
    "import re \n",
    "import pandas as pd\n",
    "import requests\n",
    "import random\n",
    "import json\n",
    "from urllib import parse\n",
    "from urllib import request\n",
    "import time\n",
    "from datetime import datetime\n",
    "from datetime import timedelta\n",
    "header={\n",
    "    'User-Agent':'Mozilla/5.0 (Windows NT 10.0; Win64; x64) AppleWebKit/537.36 (KHTML, like Gecko) Chrome/69.0.3497.100 Safari/537.36',\n",
    "    'Connection':'keep-alive'\n",
    "}\n",
    "cookies = '__mta=147569288.1539613293789.1539613310187.1539616722700.3; v=3; \\\n",
    "        _lxsdk_cuid=166781a789ec8-0139751cb2ee6e-8383268-144000-166781a789fc8; \\\n",
    "        __mta=147569288.1539613293789.1539613293789.1539613310187.2; uuid_n_v=v1; \\\n",
    "        iuuid=9AF20AC0D08D11E89D508D0D63C93F71D10FE6A2B71B406D800371E2CD9160FE; webp=true; ci=96%2C%E6%B5%8E%E5%8D%97; \\\n",
    "        _lxsdk=9AF20AC0D08D11E89D508D0D63C93F71D10FE6A2B71B406D800371E2CD9160FE; _lxsdk_s=166784ecee0-b1a-f0b-22%7C%7C2'\n",
    "cookie = {}\n",
    "for line in cookies.split(';'):\n",
    "    name, value = cookies.strip().split('=', 1)\n",
    "    cookie[name] = value"
   ]
  },
  {
   "cell_type": "code",
   "execution_count": 2,
   "metadata": {},
   "outputs": [],
   "source": [
    "def get_id_by_name(name):\n",
    "    url = 'http://maoyan.com/query?'\n",
    "    dict1 ={'kw': name}\n",
    "    url_data = parse.urlencode(dict1) #unlencode()将字典{k1:v1,k2:v2}转化为k1=v1&k2=v2\n",
    "    html = requests.get(url=url+url_data, cookies=cookie,headers=header).content.decode('utf-8')\n",
    "    movie_item = re.findall(r'data-val=\\\"{movieid:(.*?)}\">', html)\n",
    "    if len(movie_item)==0:\n",
    "        return -1\n",
    "    else:\n",
    "        return movie_item[0]"
   ]
  },
  {
   "cell_type": "code",
   "execution_count": 42,
   "metadata": {},
   "outputs": [],
   "source": [
    "def get_release_time_by_name(name):\n",
    "    id = get_id_by_name(name)\n",
    "    if id == -1:\n",
    "        return None\n",
    "    else:\n",
    "        url = 'http://maoyan.com/films/'+get_id_by_name(name)\n",
    "#         print(url)\n",
    "        html = requests.get(url=url, cookies=cookie,headers=header).content.decode('utf-8')\n",
    "        s = r'<li class=\\\"ellipsis\\\">(.*?)映<\\/li>'\n",
    "        release_time = re.findall(s, html)\n",
    "        return release_time[0][0:10]#只截取时间 如 2018-09-30 "
   ]
  },
  {
   "cell_type": "code",
   "execution_count": 66,
   "metadata": {},
   "outputs": [],
   "source": [
    "def get_comments_all_test(name):\n",
    "    comments = pd.DataFrame(columns=['data','score','city','comment','nick','gender'])\n",
    "    start_time = datetime.now().strftime('%Y-%m-%d %H:%M:%S')  # 获取当前时间，从当前时间向前获取\n",
    "    release_time = str(get_release_time_by_name(name))\n",
    "    end_time =  release_time+' 00:00:00'\n",
    "    comments.to_csv('all_'+name+'.csv',index=False,encoding=\"utf_8_sig\")\n",
    "    count=0\n",
    "    pages =15\n",
    "#     for i in range(0,20):\n",
    "    while pages ==15:  \n",
    "        try:\n",
    "            time.sleep(1)\n",
    "            \n",
    "            url = 'http://m.maoyan.com/mmdb/comments/movie/'+get_id_by_name(name)+'.json?_v_=yes&offset=0&startTime=' + start_time.replace(' ', '%20')\n",
    "            print(str(count)+\"  \"+url)\n",
    "            count = count+1\n",
    "            html = requests.get(url=url, cookies=cookie,headers=header).content.decode('utf-8')\n",
    "            data = json.loads(html)['cmts']\n",
    "            pages=len(data)\n",
    "\n",
    "            for item in data:\n",
    "                if item.get('cityName')==None or item.get('time')==None or item.get('score')==None or item.get('content')==None or item.get('nick')==None:\n",
    "                    print(\"jump\")\n",
    "                else:  \n",
    "                    try:\n",
    "                        comments = comments.append({'data':item['time'].split(' ')[0],'city':item['cityName'],\n",
    "                                                        'score':str(item['score']),'comment':item['content'],\n",
    "                                                    'nick':item['nick'],'gender':item['gender']},\n",
    "                                                       ignore_index=True)\n",
    "                    except:\n",
    "                        comments = comments.append({'data':item['time'].split(' ')[0],'city':item['cityName'],\n",
    "                                                        'score':str(item['score']),'comment':item['content'],\n",
    "                                                    'nick':item['nick'],'gender':0},\n",
    "                                                       ignore_index=True)\n",
    "            comments.to_csv('all_'+name+'.csv',index=False,mode='a', header=False,encoding=\"utf_8_sig\")\n",
    "            \n",
    "            start_time = data[14]['startTime']  # 获得末尾评论的时间\n",
    "            start_time = datetime.strptime(start_time, '%Y-%m-%d %H:%M:%S') + timedelta(seconds=-1)  # 转换为datetime类型，减1秒，避免获取到重复数据\n",
    "            start_time = datetime.strftime(start_time, '%Y-%m-%d %H:%M:%S')  # 转换为str\n",
    "            \n",
    "            comments.drop(comments.index,inplace=True)#清空comments   \n",
    "\n",
    "        except Exception as e:\n",
    "            time.sleep(0.5)\n",
    "            print(e)\n",
    "            continue\n",
    "    print(end_time)"
   ]
  },
  {
   "cell_type": "code",
   "execution_count": 67,
   "metadata": {},
   "outputs": [
    {
     "name": "stdout",
     "output_type": "stream",
     "text": [
      "0  http://m.maoyan.com/mmdb/comments/movie/672137.json?_v_=yes&offset=0&startTime=2018-10-18%2019:32:28\n",
      "1  http://m.maoyan.com/mmdb/comments/movie/672137.json?_v_=yes&offset=0&startTime=2018-10-16%2017:26:33\n",
      "2  http://m.maoyan.com/mmdb/comments/movie/672137.json?_v_=yes&offset=0&startTime=2018-10-14%2012:54:28\n",
      "3  http://m.maoyan.com/mmdb/comments/movie/672137.json?_v_=yes&offset=0&startTime=2018-10-13%2000:30:11\n",
      "4  http://m.maoyan.com/mmdb/comments/movie/672137.json?_v_=yes&offset=0&startTime=2018-10-10%2011:24:38\n",
      "5  http://m.maoyan.com/mmdb/comments/movie/672137.json?_v_=yes&offset=0&startTime=2018-10-08%2012:48:33\n",
      "6  http://m.maoyan.com/mmdb/comments/movie/672137.json?_v_=yes&offset=0&startTime=2018-10-07%2018:07:08\n",
      "7  http://m.maoyan.com/mmdb/comments/movie/672137.json?_v_=yes&offset=0&startTime=2018-10-07%2014:40:02\n",
      "8  http://m.maoyan.com/mmdb/comments/movie/672137.json?_v_=yes&offset=0&startTime=2018-10-07%2011:14:50\n",
      "9  http://m.maoyan.com/mmdb/comments/movie/672137.json?_v_=yes&offset=0&startTime=2018-10-06%2020:53:49\n",
      "10  http://m.maoyan.com/mmdb/comments/movie/672137.json?_v_=yes&offset=0&startTime=2018-10-06%2016:48:18\n",
      "11  http://m.maoyan.com/mmdb/comments/movie/672137.json?_v_=yes&offset=0&startTime=2018-10-06%2013:34:57\n",
      "12  http://m.maoyan.com/mmdb/comments/movie/672137.json?_v_=yes&offset=0&startTime=2018-10-06%2007:54:30\n",
      "13  http://m.maoyan.com/mmdb/comments/movie/672137.json?_v_=yes&offset=0&startTime=2018-10-05%2019:47:10\n",
      "jump\n",
      "14  http://m.maoyan.com/mmdb/comments/movie/672137.json?_v_=yes&offset=0&startTime=2018-10-05%2013:38:43\n",
      "15  http://m.maoyan.com/mmdb/comments/movie/672137.json?_v_=yes&offset=0&startTime=2018-10-05%2000:10:55\n",
      "16  http://m.maoyan.com/mmdb/comments/movie/672137.json?_v_=yes&offset=0&startTime=2018-10-04%2020:01:23\n",
      "17  http://m.maoyan.com/mmdb/comments/movie/672137.json?_v_=yes&offset=0&startTime=2018-10-04%2018:05:51\n",
      "18  http://m.maoyan.com/mmdb/comments/movie/672137.json?_v_=yes&offset=0&startTime=2018-10-04%2017:07:07\n",
      "19  http://m.maoyan.com/mmdb/comments/movie/672137.json?_v_=yes&offset=0&startTime=2018-10-04%2016:05:41\n",
      "20  http://m.maoyan.com/mmdb/comments/movie/672137.json?_v_=yes&offset=0&startTime=2018-10-04%2014:03:47\n",
      "21  http://m.maoyan.com/mmdb/comments/movie/672137.json?_v_=yes&offset=0&startTime=2018-10-04%2012:31:33\n",
      "22  http://m.maoyan.com/mmdb/comments/movie/672137.json?_v_=yes&offset=0&startTime=2018-10-04%2007:37:37\n",
      "23  http://m.maoyan.com/mmdb/comments/movie/672137.json?_v_=yes&offset=0&startTime=2018-09-20%2021:32:11\n",
      "24  http://m.maoyan.com/mmdb/comments/movie/672137.json?_v_=yes&offset=0&startTime=2018-09-02%2023:22:28\n",
      "25  http://m.maoyan.com/mmdb/comments/movie/672137.json?_v_=yes&offset=0&startTime=2018-08-08%2020:11:29\n",
      "26  http://m.maoyan.com/mmdb/comments/movie/672137.json?_v_=yes&offset=0&startTime=2018-08-08%2019:57:41\n",
      "27  http://m.maoyan.com/mmdb/comments/movie/672137.json?_v_=yes&offset=0&startTime=2018-08-08%2019:25:48\n",
      "28  http://m.maoyan.com/mmdb/comments/movie/672137.json?_v_=yes&offset=0&startTime=2018-08-08%2019:13:06\n",
      "29  http://m.maoyan.com/mmdb/comments/movie/672137.json?_v_=yes&offset=0&startTime=2018-08-08%2019:02:06\n",
      "30  http://m.maoyan.com/mmdb/comments/movie/672137.json?_v_=yes&offset=0&startTime=2018-07-31%2016:06:52\n",
      "31  http://m.maoyan.com/mmdb/comments/movie/672137.json?_v_=yes&offset=0&startTime=2018-07-31%2015:55:17\n",
      "32  http://m.maoyan.com/mmdb/comments/movie/672137.json?_v_=yes&offset=0&startTime=2018-07-31%2015:41:49\n",
      "33  http://m.maoyan.com/mmdb/comments/movie/672137.json?_v_=yes&offset=0&startTime=2018-07-31%2015:31:12\n",
      "34  http://m.maoyan.com/mmdb/comments/movie/672137.json?_v_=yes&offset=0&startTime=2018-07-31%2015:10:51\n",
      "35  http://m.maoyan.com/mmdb/comments/movie/672137.json?_v_=yes&offset=0&startTime=2018-07-26%2016:50:55\n",
      "36  http://m.maoyan.com/mmdb/comments/movie/672137.json?_v_=yes&offset=0&startTime=2018-07-25%2013:49:16\n",
      "37  http://m.maoyan.com/mmdb/comments/movie/672137.json?_v_=yes&offset=0&startTime=2017-06-01%2007:25:14\n",
      "list index out of range\n",
      "2018-10-04 00:00:00\n"
     ]
    }
   ],
   "source": [
    "get_comments_all_test(\"嘻哈英熊\")"
   ]
  },
  {
   "cell_type": "code",
   "execution_count": null,
   "metadata": {},
   "outputs": [],
   "source": []
  },
  {
   "cell_type": "code",
   "execution_count": 46,
   "metadata": {},
   "outputs": [
    {
     "data": {
      "text/plain": [
       "'2018-10-04'"
      ]
     },
     "execution_count": 46,
     "metadata": {},
     "output_type": "execute_result"
    }
   ],
   "source": [
    "get_release_time_by_name(\"嘻哈英熊\")"
   ]
  },
  {
   "cell_type": "code",
   "execution_count": 12,
   "metadata": {},
   "outputs": [],
   "source": [
    " url = 'http://m.maoyan.com/mmdb/comments/movie/672137.json?_v_=yes&offset=0&startTime=2018-10-05%2018:44:06'\n",
    "\n",
    "html = requests.get(url=url, cookies=cookie,headers=header).content.decode('utf-8')\n",
    "data = json.loads(html)['cmts']"
   ]
  },
  {
   "cell_type": "code",
   "execution_count": 14,
   "metadata": {},
   "outputs": [],
   "source": [
    " comments = pd.DataFrame(columns=['data','score','city','comment','nick','gender'])"
   ]
  },
  {
   "cell_type": "code",
   "execution_count": 25,
   "metadata": {},
   "outputs": [
    {
     "name": "stdout",
     "output_type": "stream",
     "text": [
      "True\n",
      "True\n",
      "True\n",
      "True\n",
      "True\n",
      "True\n",
      "True\n",
      "True\n",
      "True\n",
      "True\n",
      "True\n",
      "True\n",
      "True\n",
      "True\n",
      "True\n"
     ]
    }
   ],
   "source": [
    "i=0\n",
    "# try:\n",
    "for item in data:\n",
    "    i=i+1\n",
    "    print(item.get('cityName')==None or True)\n",
    "#         try:\n",
    "#             comments = comments.append({'data':item['time'].split(' ')[0],'city':item['cityName'],\n",
    "#                                             'score':str(item['score']),'comment':item['content'],\n",
    "#                                         'nick':item['nick'],'gender':item['gender']},\n",
    "#                                            ignore_index=True)\n",
    "#         except:\n",
    "#             comments = comments.append({'data':item['time'].split(' ')[0],'city':item['cityName'],\n",
    "#                                             'score':str(item['score']),'comment':item['content'],\n",
    "#                                         'nick':item['nick'],'gender':0},\n",
    "#                                            ignore_index=True)\n",
    "# except Exception as e:\n",
    "#     print(e)\n",
    "#     print(i)"
   ]
  },
  {
   "cell_type": "code",
   "execution_count": null,
   "metadata": {},
   "outputs": [],
   "source": []
  }
 ],
 "metadata": {
  "kernelspec": {
   "display_name": "Python 3",
   "language": "python",
   "name": "python3"
  },
  "language_info": {
   "codemirror_mode": {
    "name": "ipython",
    "version": 3
   },
   "file_extension": ".py",
   "mimetype": "text/x-python",
   "name": "python",
   "nbconvert_exporter": "python",
   "pygments_lexer": "ipython3",
   "version": "3.6.4"
  }
 },
 "nbformat": 4,
 "nbformat_minor": 2
}
