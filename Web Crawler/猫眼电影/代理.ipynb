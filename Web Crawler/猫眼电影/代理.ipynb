{
 "cells": [
  {
   "cell_type": "markdown",
   "metadata": {},
   "source": [
    "### 代理"
   ]
  },
  {
   "cell_type": "code",
   "execution_count": null,
   "metadata": {},
   "outputs": [],
   "source": []
  },
  {
   "cell_type": "code",
   "execution_count": 9,
   "metadata": {},
   "outputs": [],
   "source": [
    "\n",
    "# coding: utf-8\n",
    "import re \n",
    "import pandas as pd\n",
    "import requests\n",
    "import random\n",
    "import json\n",
    "from urllib import parse\n",
    "from urllib import request\n",
    "import time\n",
    "from datetime import datetime\n",
    "from datetime import timedelta\n",
    "header={\n",
    "    'User-Agent':'Mozilla/5.0 (Windows NT 10.0; Win64; x64) AppleWebKit/537.36 (KHTML, like Gecko) Chrome/69.0.3497.100 Safari/537.36',\n",
    "    'Connection':'keep-alive'\n",
    "}\n",
    "cookies = '__mta=147569288.1539613293789.1539613310187.1539616722700.3; v=3; \\\n",
    "        _lxsdk_cuid=166781a789ec8-0139751cb2ee6e-8383268-144000-166781a789fc8; \\\n",
    "        __mta=147569288.1539613293789.1539613293789.1539613310187.2; uuid_n_v=v1; \\\n",
    "        iuuid=9AF20AC0D08D11E89D508D0D63C93F71D10FE6A2B71B406D800371E2CD9160FE; webp=true; ci=96%2C%E6%B5%8E%E5%8D%97; \\\n",
    "        _lxsdk=9AF20AC0D08D11E89D508D0D63C93F71D10FE6A2B71B406D800371E2CD9160FE; _lxsdk_s=166784ecee0-b1a-f0b-22%7C%7C2'\n",
    "cookie = {}\n",
    "for line in cookies.split(';'):\n",
    "    name, value = cookies.strip().split('=', 1)\n",
    "    cookie[name] = value\n",
    "    "
   ]
  },
  {
   "cell_type": "code",
   "execution_count": 10,
   "metadata": {},
   "outputs": [],
   "source": [
    "def get_id_by_name(name):\n",
    "    url = 'http://maoyan.com/query?'\n",
    "    dict1 ={'kw': name}\n",
    "    url_data = parse.urlencode(dict1) #unlencode()将字典{k1:v1,k2:v2}转化为k1=v1&k2=v2\n",
    "    html = requests.get(url=url+url_data, cookies=cookie,headers=header).content.decode('utf-8')\n",
    "    movie_item = re.findall(r'data-val=\\\"{movieid:(.*?)}\">', html)\n",
    "    if len(movie_item)==0:\n",
    "        return -1\n",
    "    else:\n",
    "        return movie_item[0]\n",
    "def get_release_time_by_name(name):\n",
    "    id = get_id_by_name(name)\n",
    "    if id == -1:\n",
    "        return None\n",
    "    else:\n",
    "        url = 'http://maoyan.com/films/'+get_id_by_name(name)\n",
    "#         print(url)\n",
    "        html = requests.get(url=url, cookies=cookie,headers=header).content.decode('utf-8')\n",
    "        s = r'<li class=\\\"ellipsis\\\">(.*?)映<\\/li>'\n",
    "        release_time = re.findall(s, html)\n",
    "        return release_time[0][0:10]#只截取时间 如 2018-09-30 "
   ]
  },
  {
   "cell_type": "code",
   "execution_count": 11,
   "metadata": {},
   "outputs": [],
   "source": [
    "def use_proxy(proxy_addr,url):\n",
    "    proxy=urllib.request.ProxyHandler({'http':proxy_addr})\n",
    "    opener=urllib.request.build_opener(proxy,urllib.request.HTTPHandler)\n",
    "    urllib.request.install_opener(opener)\n",
    "    request = urllib.request.Request(url, headers=header)\n",
    "    data=urllib.request.urlopen(request).read().decode('utf8')\n",
    "    return data"
   ]
  },
  {
   "cell_type": "code",
   "execution_count": 16,
   "metadata": {},
   "outputs": [],
   "source": [
    "proxy_addr='61.163.39.70:9999'\n"
   ]
  },
  {
   "cell_type": "code",
   "execution_count": 19,
   "metadata": {},
   "outputs": [],
   "source": [
    "def get_comments_all(name):\n",
    "    comments = pd.DataFrame(columns=['data','score','city','comment','nick','gender'])\n",
    "    start_time = datetime.now().strftime('%Y-%m-%d %H:%M:%S')  # 获取当前时间，从当前时间向前获取\n",
    "    release_time = str(get_release_time_by_name(name))\n",
    "    end_time =  release_time+' 00:00:00'\n",
    "    comments.to_csv('all_'+name+'.csv',index=False,encoding=\"utf_8_sig\")\n",
    "    count=0\n",
    "    pages =15\n",
    "    \n",
    "    while pages ==15:  \n",
    "        try:\n",
    "            time.sleep(0.2)\n",
    "            \n",
    "            url = 'http://m.maoyan.com/mmdb/comments/movie/'+get_id_by_name(name)+'.json?_v_=yes&offset=0&startTime=' + start_time.replace(' ', '%20')\n",
    "            print(str(count)+\"  \"+url)\n",
    "            count = count+1\n",
    "            html =use_proxy('118.190.95.35:9001',url)\n",
    "            data = json.loads(html)['cmts']\n",
    "            pages=len(data)\n",
    "\n",
    "            for item in data:\n",
    "                if item.get('cityName')==None or item.get('time')==None or item.get('score')==None or item.get('content')==None or item.get('nick')==None:\n",
    "                    print(\"jump\")\n",
    "                else:  \n",
    "                    try:\n",
    "                        comments = comments.append({'data':item['time'].split(' ')[0],'city':item['cityName'],\n",
    "                                                        'score':str(item['score']),'comment':item['content'],\n",
    "                                                    'nick':item['nick'],'gender':item['gender']},\n",
    "                                                       ignore_index=True)\n",
    "                    except:\n",
    "                        comments = comments.append({'data':item['time'].split(' ')[0],'city':item['cityName'],\n",
    "                                                        'score':str(item['score']),'comment':item['content'],\n",
    "                                                    'nick':item['nick'],'gender':0},\n",
    "                                                       ignore_index=True)\n",
    "            comments.to_csv('all_'+name+'.csv',index=False,mode='a', header=False,encoding=\"utf_8_sig\")\n",
    "            \n",
    "            start_time = data[14]['startTime']  # 获得末尾评论的时间\n",
    "            start_time = datetime.strptime(start_time, '%Y-%m-%d %H:%M:%S') + timedelta(seconds=-1)  # 转换为datetime类型，减1秒，避免获取到重复数据\n",
    "            start_time = datetime.strftime(start_time, '%Y-%m-%d %H:%M:%S')  # 转换为str\n",
    "            \n",
    "            comments.drop(comments.index,inplace=True)#清空comments   \n",
    "\n",
    "        except Exception as e:\n",
    "            time.sleep(0.5)\n",
    "            print(e)\n",
    "            continue"
   ]
  },
  {
   "cell_type": "code",
   "execution_count": null,
   "metadata": {},
   "outputs": [],
   "source": [
    "get_comments_all(\"驴得水\")"
   ]
  }
 ],
 "metadata": {
  "kernelspec": {
   "display_name": "Python 3",
   "language": "python",
   "name": "python3"
  },
  "language_info": {
   "codemirror_mode": {
    "name": "ipython",
    "version": 3
   },
   "file_extension": ".py",
   "mimetype": "text/x-python",
   "name": "python",
   "nbconvert_exporter": "python",
   "pygments_lexer": "ipython3",
   "version": "3.6.4"
  }
 },
 "nbformat": 4,
 "nbformat_minor": 2
}
