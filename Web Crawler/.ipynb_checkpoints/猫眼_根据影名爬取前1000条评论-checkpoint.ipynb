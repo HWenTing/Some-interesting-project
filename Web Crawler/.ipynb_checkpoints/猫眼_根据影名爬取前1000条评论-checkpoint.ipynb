{
 "cells": [
  {
   "cell_type": "code",
   "execution_count": 1,
   "metadata": {},
   "outputs": [],
   "source": [
    "# coding: utf-8\n",
    "import pandas as pd\n",
    "import requests\n",
    "import random\n",
    "import json\n",
    "import time\n",
    "header={\n",
    "    'User-Agent':'Mozilla/5.0 (Windows NT 10.0; Win64; x64) AppleWebKit/537.36 (KHTML, like Gecko) Chrome/69.0.3497.100 Safari/537.36',\n",
    "    'Connection':'keep-alive'\n",
    "}\n",
    "cookies = '__mta=147569288.1539613293789.1539613310187.1539616722700.3; v=3; \\\n",
    "        _lxsdk_cuid=166781a789ec8-0139751cb2ee6e-8383268-144000-166781a789fc8; \\\n",
    "        __mta=147569288.1539613293789.1539613293789.1539613310187.2; uuid_n_v=v1; \\\n",
    "        iuuid=9AF20AC0D08D11E89D508D0D63C93F71D10FE6A2B71B406D800371E2CD9160FE; webp=true; ci=96%2C%E6%B5%8E%E5%8D%97; \\\n",
    "        _lxsdk=9AF20AC0D08D11E89D508D0D63C93F71D10FE6A2B71B406D800371E2CD9160FE; _lxsdk_s=166784ecee0-b1a-f0b-22%7C%7C2'\n",
    "cookie = {}\n",
    "for line in cookies.split(';'):\n",
    "    name, value = cookies.strip().split('=', 1)\n",
    "    cookie[name] = value"
   ]
  },
  {
   "cell_type": "code",
   "execution_count": 4,
   "metadata": {},
   "outputs": [
    {
     "name": "stdout",
     "output_type": "stream",
     "text": [
      "http://maoyan.com/query?kw=%E6%97%A0%E5%8F%8C\n"
     ]
    }
   ],
   "source": [
    "from urllib import parse\n",
    "from urllib import request\n",
    "\n",
    "url = 'http://maoyan.com/query?'\n",
    "dict1 ={'kw': '无双'}\n",
    "url_data = parse.urlencode(dict1) #unlencode()将字典{k1:v1,k2:v2}转化为k1=v1&k2=v2\n",
    "print(url+url_data) \n",
    "html = requests.get(url=url+url_data, cookies=cookie,headers=header).content.decode('utf-8')"
   ]
  },
  {
   "cell_type": "code",
   "execution_count": 17,
   "metadata": {},
   "outputs": [],
   "source": [
    "import re "
   ]
  },
  {
   "cell_type": "code",
   "execution_count": 35,
   "metadata": {},
   "outputs": [],
   "source": [
    "movie_item = re.findall(r'data-val=\\\"{movieid:(.*?)}\">', html)"
   ]
  },
  {
   "cell_type": "code",
   "execution_count": 36,
   "metadata": {},
   "outputs": [
    {
     "data": {
      "text/plain": [
       "['342166',\n",
       " '632158',\n",
       " '397240',\n",
       " '407625',\n",
       " '1189944',\n",
       " '1208213',\n",
       " '1197648',\n",
       " '398015',\n",
       " '381142',\n",
       " '397232',\n",
       " '360900',\n",
       " '70571',\n",
       " '61614',\n",
       " '49818',\n",
       " '317137',\n",
       " '369602',\n",
       " '936',\n",
       " '22252',\n",
       " '374542',\n",
       " '380522']"
      ]
     },
     "execution_count": 36,
     "metadata": {},
     "output_type": "execute_result"
    }
   ],
   "source": [
    "movie_item"
   ]
  },
  {
   "cell_type": "markdown",
   "metadata": {},
   "source": [
    "### 总结一下，由电影名称获取编号"
   ]
  },
  {
   "cell_type": "code",
   "execution_count": 27,
   "metadata": {},
   "outputs": [],
   "source": [
    "\n",
    "# coding: utf-8\n",
    "import re \n",
    "import pandas as pd\n",
    "import requests\n",
    "import random\n",
    "import json\n",
    "import time\n",
    "from urllib import parse\n",
    "from urllib import request\n",
    "header={\n",
    "    'User-Agent':'Mozilla/5.0 (Windows NT 10.0; Win64; x64) AppleWebKit/537.36 (KHTML, like Gecko) Chrome/69.0.3497.100 Safari/537.36',\n",
    "    'Connection':'keep-alive'\n",
    "}\n",
    "cookies = '__mta=147569288.1539613293789.1539613310187.1539616722700.3; v=3; \\\n",
    "        _lxsdk_cuid=166781a789ec8-0139751cb2ee6e-8383268-144000-166781a789fc8; \\\n",
    "        __mta=147569288.1539613293789.1539613293789.1539613310187.2; uuid_n_v=v1; \\\n",
    "        iuuid=9AF20AC0D08D11E89D508D0D63C93F71D10FE6A2B71B406D800371E2CD9160FE; webp=true; ci=96%2C%E6%B5%8E%E5%8D%97; \\\n",
    "        _lxsdk=9AF20AC0D08D11E89D508D0D63C93F71D10FE6A2B71B406D800371E2CD9160FE; _lxsdk_s=166784ecee0-b1a-f0b-22%7C%7C2'\n",
    "cookie = {}\n",
    "for line in cookies.split(';'):\n",
    "    name, value = cookies.strip().split('=', 1)\n",
    "    cookie[name] = value\n",
    "    \n",
    "    \n",
    "def get_id_by_name(name):\n",
    "    url = 'http://maoyan.com/query?'\n",
    "    dict1 ={'kw': name}\n",
    "    url_data = parse.urlencode(dict1) #unlencode()将字典{k1:v1,k2:v2}转化为k1=v1&k2=v2\n",
    "    html = requests.get(url=url+url_data, cookies=cookie,headers=header).content.decode('utf-8')\n",
    "    movie_item = re.findall(r'data-val=\\\"{movieid:(.*?)}\">', html)\n",
    "    if len(movie_item)==0:\n",
    "        return -1\n",
    "    else:\n",
    "        return movie_item[0]"
   ]
  },
  {
   "cell_type": "markdown",
   "metadata": {},
   "source": [
    "### 根据电影名称爬取部分评论数据"
   ]
  },
  {
   "cell_type": "code",
   "execution_count": 46,
   "metadata": {},
   "outputs": [],
   "source": [
    "def get_comments(name):\n",
    "    comments = pd.DataFrame(columns=['data','score','city','comment','nick','gender'])\n",
    "    for i in range(0,66):  \n",
    "        try:\n",
    "            time.sleep(2)\n",
    "            url = 'http://m.maoyan.com/mmdb/comments/movie/'+get_id_by_name(name)+'.json?_v_=yes&offset='+str(i*15)\n",
    "            html = requests.get(url=url, cookies=cookie,headers=header).content.decode('utf-8')\n",
    "            data = json.loads(html)['cmts']\n",
    "\n",
    "            for item in data:\n",
    "                try:\n",
    "                    comments = comments.append({'data':item['time'].split(' ')[0],'city':item['cityName'],\n",
    "                                                    'score':str(item['score']),'comment':item['content'],'nick':item['nick'],'gender':item['gender']},\n",
    "                                                   ignore_index=True)\n",
    "                except:\n",
    "                    comments = comments.append({'data':item['time'].split(' ')[0],'city':item['cityName'],\n",
    "                                                    'score':str(item['score']),'comment':item['content'],'nick':item['nick'],'gender':0},\n",
    "                                                   ignore_index=True)\n",
    "        except:\n",
    "            print(\"error\")\n",
    "            continue\n",
    "    comments.to_csv(name+'.csv',index=False,encoding=\"utf_8_sig\")\n",
    "\n"
   ]
  },
  {
   "cell_type": "code",
   "execution_count": 12,
   "metadata": {},
   "outputs": [],
   "source": []
  }
 ],
 "metadata": {
  "kernelspec": {
   "display_name": "Python 3",
   "language": "python",
   "name": "python3"
  },
  "language_info": {
   "codemirror_mode": {
    "name": "ipython",
    "version": 3
   },
   "file_extension": ".py",
   "mimetype": "text/x-python",
   "name": "python",
   "nbconvert_exporter": "python",
   "pygments_lexer": "ipython3",
   "version": "3.6.4"
  }
 },
 "nbformat": 4,
 "nbformat_minor": 2
}
