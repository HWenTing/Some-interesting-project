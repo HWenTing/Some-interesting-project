{
 "cells": [
  {
   "cell_type": "code",
   "execution_count": null,
   "metadata": {},
   "outputs": [],
   "source": []
  },
  {
   "cell_type": "code",
   "execution_count": 1,
   "metadata": {},
   "outputs": [],
   "source": [
    "# coding: utf-8\n",
    "import re \n",
    "import pandas as pd\n",
    "import requests\n",
    "import random\n",
    "import json\n",
    "import time\n",
    "from urllib import parse\n",
    "from urllib import request\n",
    "header={\n",
    "    'User-Agent':'Mozilla/5.0 (Windows NT 10.0; Win64; x64) AppleWebKit/537.36 (KHTML, like Gecko) Chrome/69.0.3497.100 Safari/537.36',\n",
    "    'Connection':'keep-alive'\n",
    "}\n",
    "cookies = '__mta=147569288.1539613293789.1539613310187.1539616722700.3; v=3; \\\n",
    "        _lxsdk_cuid=166781a789ec8-0139751cb2ee6e-8383268-144000-166781a789fc8; \\\n",
    "        __mta=147569288.1539613293789.1539613293789.1539613310187.2; uuid_n_v=v1; \\\n",
    "        iuuid=9AF20AC0D08D11E89D508D0D63C93F71D10FE6A2B71B406D800371E2CD9160FE; webp=true; ci=96%2C%E6%B5%8E%E5%8D%97; \\\n",
    "        _lxsdk=9AF20AC0D08D11E89D508D0D63C93F71D10FE6A2B71B406D800371E2CD9160FE; _lxsdk_s=166784ecee0-b1a-f0b-22%7C%7C2'\n",
    "cookie = {}\n",
    "for line in cookies.split(';'):\n",
    "    name, value = cookies.strip().split('=', 1)\n",
    "    cookie[name] = value"
   ]
  },
  {
   "cell_type": "code",
   "execution_count": 2,
   "metadata": {},
   "outputs": [],
   "source": [
    "def get_id_by_name(name):\n",
    "    url = 'http://maoyan.com/query?'\n",
    "    dict1 ={'kw': name}\n",
    "    url_data = parse.urlencode(dict1) #unlencode()将字典{k1:v1,k2:v2}转化为k1=v1&k2=v2\n",
    "    html = requests.get(url=url+url_data, cookies=cookie,headers=header).content.decode('utf-8')\n",
    "    movie_item = re.findall(r'data-val=\\\"{movieid:(.*?)}\">', html)\n",
    "    if len(movie_item)==0:\n",
    "        return -1\n",
    "    else:\n",
    "        return movie_item[0]"
   ]
  },
  {
   "cell_type": "code",
   "execution_count": 22,
   "metadata": {},
   "outputs": [],
   "source": [
    "def get_release_time_by_name(name):\n",
    "    id = get_id_by_name(name)\n",
    "    if id == -1:\n",
    "        return None\n",
    "    else:\n",
    "        url = 'http://maoyan.com/films/'+get_id_by_name(name)\n",
    "#         print(url)\n",
    "        html = requests.get(url=url, cookies=cookie,headers=header).content.decode('utf-8')\n",
    "        s = r'<li class=\\\"ellipsis\\\">(.*?)映<\\/li>'\n",
    "        release_time = re.findall(s, html)\n",
    "        print(release_time[0][0:11])#只截取时间 如 2018-09-30 "
   ]
  },
  {
   "cell_type": "code",
   "execution_count": 23,
   "metadata": {},
   "outputs": [
    {
     "name": "stdout",
     "output_type": "stream",
     "text": [
      "http://maoyan.com/films/1217402\n",
      "2018-09-30 \n"
     ]
    }
   ],
   "source": [
    "get_release_time_by_name(\"李茶的姑妈\")"
   ]
  },
  {
   "cell_type": "code",
   "execution_count": null,
   "metadata": {},
   "outputs": [],
   "source": []
  }
 ],
 "metadata": {
  "kernelspec": {
   "display_name": "Python 3",
   "language": "python",
   "name": "python3"
  },
  "language_info": {
   "codemirror_mode": {
    "name": "ipython",
    "version": 3
   },
   "file_extension": ".py",
   "mimetype": "text/x-python",
   "name": "python",
   "nbconvert_exporter": "python",
   "pygments_lexer": "ipython3",
   "version": "3.6.4"
  }
 },
 "nbformat": 4,
 "nbformat_minor": 2
}
