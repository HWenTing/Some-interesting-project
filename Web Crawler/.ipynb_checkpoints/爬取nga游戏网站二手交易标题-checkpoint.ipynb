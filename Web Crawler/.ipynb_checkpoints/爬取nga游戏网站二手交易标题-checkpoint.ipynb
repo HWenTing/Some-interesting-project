{
 "cells": [
  {
   "cell_type": "code",
   "execution_count": 81,
   "metadata": {},
   "outputs": [],
   "source": [
    "# coding: utf-8\n",
    "import re \n",
    "import pandas as pd\n",
    "import requests\n",
    "from urllib import parse\n",
    "from urllib import request\n",
    "import time\n",
    "header={\n",
    "    'User-Agent':'Mozilla/5.0 (Windows NT 10.0; Win64; x64) AppleWebKit/537.36 (KHTML, like Gecko) Chrome/69.0.3497.100 Safari/537.36',\n",
    "    'Connection':'keep-alive'\n",
    "}\n",
    "cookies ='ngaPassportUid=guest05bdd60a27b1a9; bbsmisccookies=%7B%7D; UM_distinctid=166d8c1817db81-0f366be48b7cff-b79183d-144000-166d8c1817e6f4; taihe=e5154d2a3e8152d58baa5220b66289ea; Hm_lvt_5adc78329e14807f050ce131992ae69b=1541234852; UM_distinctid=166d8c26f0d8f-02b0e2c8d92266-b79183d-144000-166d8c26f0e34f; CNZZDATA1256638869=389635729-1541229919-%7C1541229919; CNZZDATA1256638858=181641597-1541230398-%7C1541230398; PHPSESSID=0rj94tu7999om72vr6gs4hfl01; CNZZDATA30043604=cnzz_eid%3D472505020-1541233428-http%253A%252F%252Fbbs.nga.cn%252F%26ntime%3D1541238828; Hm_lpvt_5adc78329e14807f050ce131992ae69b=1541239488; lastvisit=1541240180; guestJs=1541240180; CNZZDATA30039253=cnzz_eid%3D270204850-1541234428-http%253A%252F%252Fbbs.nga.cn%252F%26ntime%3D1541239828'\n",
    "cookie = {}\n",
    "for line in cookies.split(';'):\n",
    "    name, value = cookies.strip().split('=', 1)\n",
    "    cookie[name] = value\n",
    "def getTopic(number):\n",
    "    topics = []\n",
    "    for i in range(1,number+1):\n",
    "        url='http://bbs.nga.cn/thread.php?fid=498&page='+str(i)\n",
    "        print(url)\n",
    "        html = requests.get(url=url, cookies=cookie,headers=header).content.decode('gb18030')\n",
    "        movie_item = re.findall(r'class=\\'topic\\'>(.*?)<\\/a>', html,re.S) \n",
    "        print(len(movie_item))\n",
    "        topics=topics+movie_item\n",
    "        time.sleep(1)\n",
    "    return topics"
   ]
  },
  {
   "cell_type": "code",
   "execution_count": 82,
   "metadata": {},
   "outputs": [
    {
     "name": "stdout",
     "output_type": "stream",
     "text": [
      "http://bbs.nga.cn/thread.php?fid=498&page=1\n",
      "0\n",
      "http://bbs.nga.cn/thread.php?fid=498&page=2\n",
      "0\n"
     ]
    },
    {
     "data": {
      "text/plain": [
       "[]"
      ]
     },
     "execution_count": 82,
     "metadata": {},
     "output_type": "execute_result"
    }
   ],
   "source": [
    "getTopic(2)"
   ]
  },
  {
   "cell_type": "code",
   "execution_count": null,
   "metadata": {},
   "outputs": [],
   "source": []
  }
 ],
 "metadata": {
  "kernelspec": {
   "display_name": "Python 3",
   "language": "python",
   "name": "python3"
  },
  "language_info": {
   "codemirror_mode": {
    "name": "ipython",
    "version": 3
   },
   "file_extension": ".py",
   "mimetype": "text/x-python",
   "name": "python",
   "nbconvert_exporter": "python",
   "pygments_lexer": "ipython3",
   "version": "3.6.4"
  }
 },
 "nbformat": 4,
 "nbformat_minor": 2
}
