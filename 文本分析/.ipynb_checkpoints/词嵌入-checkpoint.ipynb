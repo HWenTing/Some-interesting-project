{
 "cells": [
  {
   "cell_type": "markdown",
   "metadata": {},
   "source": [
    "####  处理文本"
   ]
  },
  {
   "cell_type": "code",
   "execution_count": null,
   "metadata": {},
   "outputs": [],
   "source": [
    "import jieba\n",
    "with open('xiaoaojianghu.txt', errors='ignore', encoding='utf-16') as f: \n",
    "    lines = f.readlines() \n",
    "    for line in lines:\n",
    "        seg_list = jieba.cut(line)\n",
    "        with open('xiaoaojianghu_new.txt', 'a', encoding='utf-8') as n:\n",
    "            n.write(' '.join(seg_list))\n",
    "print(\"jieba finish\")"
   ]
  },
  {
   "cell_type": "markdown",
   "metadata": {},
   "source": [
    "#### 训练样本"
   ]
  },
  {
   "cell_type": "code",
   "execution_count": 13,
   "metadata": {},
   "outputs": [],
   "source": [
    "from gensim.models import word2vec\n",
    "sentences = word2vec.Text8Corpus('xiaoaojianghu_new.txt')\n",
    "model = word2vec.Word2Vec(sentences,window=5,min_count=5,size=400)"
   ]
  },
  {
   "cell_type": "code",
   "execution_count": 27,
   "metadata": {
    "scrolled": true
   },
   "outputs": [
    {
     "data": {
      "text/plain": [
       "array([-5.45317590e-01,  6.20360553e-01, -1.88910831e-02, -1.84401067e-03,\n",
       "        5.43823540e-01,  4.60410118e-01, -6.17820770e-02,  1.09572992e-01,\n",
       "        4.32689823e-02,  7.87658691e-02, -1.64414406e-01, -2.90303916e-01,\n",
       "        2.09971279e-01,  2.16367573e-01,  6.71356842e-02, -1.74729466e-01,\n",
       "       -2.41474826e-02, -3.29064906e-01,  5.93738258e-01, -5.66367805e-01,\n",
       "        6.12175822e-01,  2.84849823e-01,  1.05939493e-01, -3.82869244e-01,\n",
       "        2.45551169e-01, -6.85608149e-01, -1.82188898e-01,  2.22265810e-01,\n",
       "        1.54044166e-01,  2.17556953e-01, -1.85059652e-01,  5.31479895e-01,\n",
       "        2.05287457e-01, -2.29112841e-02,  9.57021415e-02, -6.67656064e-02,\n",
       "       -6.14664137e-01,  1.08803160e-01,  3.38048190e-01, -4.47805300e-02,\n",
       "       -5.02216518e-02, -2.50976235e-01, -5.86922765e-01,  2.91590661e-01,\n",
       "       -1.85828134e-01, -6.13555834e-02,  1.73583165e-01,  6.58709854e-02,\n",
       "       -2.74600506e-01,  4.79349881e-01,  1.87957641e-02, -2.92188108e-01,\n",
       "        8.56985450e-02, -2.99718734e-02, -3.17768365e-01, -2.77437270e-01,\n",
       "       -1.38919488e-01, -1.21392705e-01, -5.33297323e-02,  1.50042459e-01,\n",
       "       -1.10604741e-01,  2.16234699e-01,  9.98462662e-02, -6.79650754e-02,\n",
       "        4.16834146e-01,  4.19054776e-01, -4.14133132e-01,  7.82099739e-03,\n",
       "       -7.47584924e-02, -6.05695903e-01,  2.86229670e-01, -1.28104672e-01,\n",
       "       -2.57098883e-01,  8.92946050e-02,  2.20390171e-01, -2.59879977e-01,\n",
       "        1.79931000e-02,  2.95378238e-01, -3.86556312e-02,  6.28403366e-01,\n",
       "       -7.96965584e-02, -1.18786603e-01,  4.75408942e-01, -2.22870454e-01,\n",
       "       -3.31578493e-01, -1.67992979e-01, -8.40017051e-02,  2.21752524e-01,\n",
       "       -3.43260616e-01,  1.09324791e-01,  5.09571850e-01, -4.87376988e-01,\n",
       "       -2.00795829e-01, -2.07550511e-01, -6.86378628e-02, -3.45522761e-01,\n",
       "        6.43408448e-02,  1.36829793e-01, -5.80585264e-02, -1.50775775e-01,\n",
       "        1.36791736e-01, -2.38300502e-01,  3.02624851e-01, -2.76639819e-01,\n",
       "       -2.26480335e-01,  2.24569008e-01,  5.23830727e-02,  2.57973410e-02,\n",
       "       -1.67163804e-01,  2.85700500e-01,  2.36722529e-01,  4.81643379e-01,\n",
       "        5.63501455e-02,  3.19288000e-02, -1.56427264e-01,  2.62009114e-01,\n",
       "        3.04064721e-01,  2.11731002e-01, -1.69535354e-01, -5.13689637e-01,\n",
       "        5.36886863e-02,  1.85485810e-01, -1.16408959e-01,  3.52695107e-01,\n",
       "       -6.99681267e-02, -1.54067978e-01, -7.00973570e-02,  1.44521460e-01,\n",
       "       -1.64383963e-01, -4.25396651e-01, -1.21753067e-01, -4.12259281e-01,\n",
       "        3.51113111e-01, -4.27109301e-01, -8.51305425e-02, -1.88070014e-02,\n",
       "       -2.80433178e-01,  1.00975610e-01, -2.89711446e-01,  3.74134749e-01,\n",
       "        2.52142519e-01, -4.87858027e-01,  2.48557284e-01,  5.49913824e-01,\n",
       "       -1.95060372e-02,  3.78570594e-02, -9.09385607e-02,  6.53728783e-01,\n",
       "        2.03847095e-01, -3.54640275e-01,  4.94098395e-01, -2.55470425e-01,\n",
       "       -4.76501793e-01, -3.83273631e-01, -2.82494724e-01, -2.28486881e-01,\n",
       "        3.21436644e-01, -2.64179409e-01,  2.66627252e-01, -1.83362793e-02,\n",
       "        2.99236238e-01,  4.29836571e-01, -1.32643944e-02, -3.49442154e-01,\n",
       "        7.72159323e-02,  3.76226604e-01, -2.52565295e-01, -7.59580499e-03,\n",
       "        6.68461621e-01,  1.42837996e-02,  3.21263045e-01, -2.49910593e-01,\n",
       "        7.03549832e-02, -2.25011185e-01, -1.23893023e-01,  8.44767541e-02,\n",
       "       -1.81366391e-02, -1.79273169e-02, -4.06662285e-01, -4.24657673e-01,\n",
       "        3.47633690e-01, -1.81900889e-01,  4.73291397e-01, -3.98163535e-02,\n",
       "        9.88068804e-02, -3.36691514e-02, -4.99453008e-01,  2.11566776e-01,\n",
       "        3.24922740e-01,  8.17862600e-02,  1.85247704e-01,  2.54959792e-01,\n",
       "        1.09376505e-01, -7.10154235e-01,  2.35515505e-01,  2.23183796e-01,\n",
       "       -2.53003210e-01,  7.04425097e-01, -2.34808102e-01,  1.21019155e-01,\n",
       "        7.47542679e-02, -7.87585750e-02, -3.16342324e-01,  7.98614472e-02,\n",
       "        2.56650984e-01, -6.10244386e-02, -2.93448791e-02,  2.78766274e-01,\n",
       "        2.87884086e-01,  2.57765204e-01,  4.42412168e-01,  2.40652189e-01,\n",
       "       -4.97853965e-01, -1.25906505e-02,  1.53584585e-01, -3.64896506e-01,\n",
       "       -5.58421686e-02,  3.14718366e-01, -3.36355746e-01, -9.89987031e-02,\n",
       "       -3.61088216e-01,  1.03318654e-01, -2.93523341e-01, -7.13234842e-02,\n",
       "       -1.13456070e-01,  2.09818095e-01, -2.55413413e-01,  1.12217637e-02,\n",
       "       -4.39046711e-01,  1.19239464e-02,  3.39708894e-01, -5.00197291e-01,\n",
       "        5.41627586e-01,  2.83824801e-02, -1.30915612e-01,  5.94365969e-02,\n",
       "        2.29006596e-02, -7.33010890e-03,  5.06372213e-01,  3.85568962e-02,\n",
       "       -7.53640056e-01, -1.26796871e-01,  3.17953259e-01, -2.58045018e-01,\n",
       "        1.13801591e-01,  3.79934579e-01,  5.57644889e-02,  4.99008209e-01,\n",
       "       -1.52026057e-01,  1.43465936e-01, -5.58213890e-01,  8.28405917e-02,\n",
       "        3.48143369e-01, -4.53845203e-01, -6.42785668e-01,  1.37938008e-01,\n",
       "        1.38512522e-01, -3.10912967e-01, -2.85156339e-01,  2.52921909e-01,\n",
       "       -2.69878060e-01,  2.29694992e-01, -4.46470767e-01,  1.03576131e-01,\n",
       "        4.90018427e-01, -1.77045852e-01,  8.00107326e-03,  7.52391815e-01,\n",
       "        1.71629906e-01,  1.59034394e-02, -1.14282608e-01,  3.76426131e-01,\n",
       "       -3.19803953e-02, -1.01639271e-01,  1.79184809e-01,  5.08850038e-01,\n",
       "        3.38329822e-01,  3.73496622e-01,  2.73854464e-01, -2.82939076e-01,\n",
       "       -5.72143734e-01,  3.44069988e-01,  7.33729601e-02,  1.31794319e-01,\n",
       "        3.21110338e-01, -4.30921614e-02,  1.31807461e-01,  3.61818552e-01,\n",
       "       -4.83609299e-04, -1.66446462e-01,  5.16735129e-02,  1.89076915e-01,\n",
       "       -6.16577901e-02, -2.89958298e-01,  3.92868578e-01, -6.93783388e-02,\n",
       "       -6.12331450e-01, -5.03871776e-02, -1.09671310e-01, -3.83805603e-01,\n",
       "        2.91729063e-01, -1.40641276e-02,  1.53857157e-01,  1.42752880e-03,\n",
       "       -2.36272603e-01, -3.82903330e-02, -3.46565932e-01,  1.98058262e-01,\n",
       "        3.10211107e-02,  5.33195212e-02, -7.30888546e-01, -4.80483286e-02,\n",
       "       -1.62391290e-01, -4.63833034e-01,  2.43229672e-01, -1.92628369e-01,\n",
       "       -4.07350719e-01, -8.32880586e-02, -3.94197136e-01, -9.87112597e-02,\n",
       "       -4.46103901e-01,  5.32028794e-01,  5.40740229e-03, -8.38607028e-02,\n",
       "       -3.64100724e-01, -1.40598759e-01,  2.82401323e-01,  3.85560513e-01,\n",
       "       -4.83255297e-01,  4.79533188e-02, -1.80280566e-01, -1.68584660e-01,\n",
       "       -2.30888650e-01, -4.69452560e-01,  2.77631879e-01, -5.41535079e-01,\n",
       "        4.99540456e-02, -5.46861351e-01, -3.50868046e-01,  7.51617923e-02,\n",
       "        1.25380546e-01,  1.35986239e-01,  1.52364552e-01,  6.38047934e-01,\n",
       "       -2.10651495e-02, -3.84678006e-01,  1.15404064e-02, -1.71399295e-01,\n",
       "        1.00284263e-01,  1.63780395e-02,  2.25764200e-01,  2.51108736e-01,\n",
       "       -1.55379772e-01, -1.87538028e-01, -2.66947985e-01,  1.39601082e-01,\n",
       "       -1.34035796e-01,  1.74894243e-01, -1.55901924e-01,  2.66438127e-01,\n",
       "       -3.28373432e-01, -6.02354050e-01,  9.93692353e-02,  3.05061668e-01,\n",
       "       -2.68033464e-02,  1.72588706e-01,  2.88101912e-01, -1.72008261e-01,\n",
       "       -6.16467178e-01, -2.41125301e-02,  6.20106459e-01, -2.26787150e-01,\n",
       "        5.89881986e-02,  1.80051953e-01, -1.81742266e-01, -9.85847414e-02,\n",
       "       -1.27441049e-01, -7.53670573e-01, -3.47152464e-02,  2.71813069e-02,\n",
       "        4.18193281e-01,  3.07798460e-02,  8.05248976e-01, -5.20304125e-03,\n",
       "       -2.18868405e-01, -7.23228380e-02,  4.30079937e-01, -1.03986308e-01,\n",
       "       -5.95738411e-01, -3.55820239e-01,  1.19196482e-01, -2.92716883e-02,\n",
       "        1.02481276e-01,  8.30580965e-02,  1.11735903e-01,  3.43288392e-01,\n",
       "       -3.73922318e-01,  4.08957839e-01,  2.51736164e-01,  1.85539410e-01],\n",
       "      dtype=float32)"
      ]
     },
     "execution_count": 27,
     "metadata": {},
     "output_type": "execute_result"
    }
   ],
   "source": [
    "# 得到词向量\n",
    "model.wv.__getitem__('令狐冲')"
   ]
  },
  {
   "cell_type": "code",
   "execution_count": 28,
   "metadata": {},
   "outputs": [
    {
     "name": "stdout",
     "output_type": "stream",
     "text": [
      "('林平之', 0.9494855403900146)\n",
      "('盈盈', 0.9431526064872742)\n",
      "('岳灵珊', 0.9362791776657104)\n",
      "('岳不群', 0.918189287185669)\n",
      "('岳夫人', 0.8940795063972473)\n",
      "('林震南', 0.8676084876060486)\n",
      "('黑白子', 0.8664482831954956)\n",
      "('任我行', 0.864702582359314)\n",
      "('向问天', 0.8636385798454285)\n",
      "('余沧海', 0.8619134426116943)\n"
     ]
    }
   ],
   "source": [
    "# 最相近的词\n",
    "for e in model.wv.most_similar(positive=['令狐冲'], topn=10):\n",
    "    print(e)"
   ]
  },
  {
   "cell_type": "code",
   "execution_count": 21,
   "metadata": {},
   "outputs": [],
   "source": [
    "import matplotlib.pyplot as plt\n",
    "from sklearn.decomposition import PCA\n",
    "import numpy as np"
   ]
  },
  {
   "cell_type": "code",
   "execution_count": 23,
   "metadata": {},
   "outputs": [],
   "source": [
    "word=[e[0] for e in model.wv.most_similar(positive=['令狐冲'], topn=10)]\n",
    "word.append('令狐冲')\n",
    "y=np.array(word)"
   ]
  },
  {
   "cell_type": "code",
   "execution_count": 31,
   "metadata": {},
   "outputs": [],
   "source": [
    "vec_array=np.zeros((len(word),400))\n",
    "for i in range(len(word)):\n",
    "    dim_vec=model.wv.__getitem__(word[i])\n",
    "    vec_array[i]=dim_vec"
   ]
  },
  {
   "cell_type": "code",
   "execution_count": 41,
   "metadata": {},
   "outputs": [],
   "source": [
    "#这一行是让matplotlib显示中文\n",
    "plt.rcParams['font.sans-serif']=['SimHei'] #用来正常显示中文标签\n",
    "plt.rcParams['axes.unicode_minus']=False #用来正常显示负号"
   ]
  },
  {
   "cell_type": "code",
   "execution_count": 42,
   "metadata": {},
   "outputs": [],
   "source": [
    "pca=PCA(2)\n",
    "X=pca.fit_transform(vec_array)"
   ]
  },
  {
   "cell_type": "code",
   "execution_count": 43,
   "metadata": {},
   "outputs": [
    {
     "name": "stderr",
     "output_type": "stream",
     "text": [
      "No handles with labels found to put in legend.\n",
      "D:\\Anaconda\\lib\\site-packages\\matplotlib\\font_manager.py:1320: UserWarning: findfont: Font family ['Arial Unicode MS'] not found. Falling back to DejaVu Sans\n",
      "  (prop.get_family(), self.defaultFamily[fontext]))\n"
     ]
    },
    {
     "data": {
      "image/png": "[encoded data removed]",
      "text/plain": [
       "<matplotlib.figure.Figure at 0x1e4d27310f0>"
      ]
     },
     "metadata": {},
     "output_type": "display_data"
    }
   ],
   "source": [
    "plt.figure(figsize=(10,10))\n",
    "for j in y:\n",
    "    plt.scatter(X[y==j,0],X[y==j,1],s=200)\n",
    "    plt.text(X[y==j,0]+0.05,X[y==j,1]+0.05,j)\n",
    "plt.legend()\n",
    "plt.show()"
   ]
  },
  {
   "cell_type": "code",
   "execution_count": null,
   "metadata": {},
   "outputs": [],
   "source": []
  }
 ],
 "metadata": {
  "kernelspec": {
   "display_name": "Python 3",
   "language": "python",
   "name": "python3"
  },
  "language_info": {
   "codemirror_mode": {
    "name": "ipython",
    "version": 3
   },
   "file_extension": ".py",
   "mimetype": "text/x-python",
   "name": "python",
   "nbconvert_exporter": "python",
   "pygments_lexer": "ipython3",
   "version": "3.6.4"
  }
 },
 "nbformat": 4,
 "nbformat_minor": 2
}
