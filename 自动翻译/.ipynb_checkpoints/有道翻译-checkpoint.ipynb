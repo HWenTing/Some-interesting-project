{
 "cells": [
  {
   "cell_type": "code",
   "execution_count": 2,
   "metadata": {},
   "outputs": [
    {
     "name": "stdout",
     "output_type": "stream",
     "text": [
      "{'i': '我喜欢你', 'from': 'AUTO', 'to': 'AUTO', 'smartresult': 'dict', 'client': 'fanyideskweb', 'ts': '154642554979', 'salt': '1546425549792', 'sign': 'cb4bf89fd8a90b2936219ba58c8b1128', 'bv': 'b34b626f1c1da1753c455d5223882b69', 'doctype': 'json', 'version': '2.1', 'keyfrom': 'fanyi.web', 'action': 'FY_BY_REALTIME', 'typoResult': 'false'}\n",
      "{'tgt': 'I like you', 'src': '我喜欢你'}\n"
     ]
    }
   ],
   "source": [
    "import random\n",
    "import requests\n",
    "import time\n",
    "import hashlib\n",
    "\n",
    "def MD5(key):\n",
    "    hash=hashlib.md5()\n",
    "    hash.update(bytes(key,encoding='utf-8'))\n",
    "    return hash.hexdigest()\n",
    "\n",
    "def sign(key,salt):\n",
    "    sign = \"fanyideskweb\" +key + str(salt) + \"p09@Bn{h02_BIEe]$P^nG\"\n",
    "    return MD5(sign)\n",
    "def translate(key):\n",
    "    # url从http://fanyi.youdao.com输入词汇右键检查得到\n",
    "    url = \"http://fanyi.youdao.com/translate_o?smartresult=dict&smartresult=true\"\n",
    "\n",
    "    salt = str(int(time.time()*1000)+random.randint(0,10))\n",
    "    # data从右键检查FormData得到\n",
    "    data = {\n",
    "        \"i\": key,\n",
    "        \"from\": \"AUTO\",\n",
    "        \"to\": \"AUTO\",\n",
    "        \"smartresult\": \"dict\",\n",
    "        \"client\": \"fanyideskweb\",\n",
    "        \"ts\":salt[:-1],\n",
    "        \"salt\": salt,\n",
    "        \"sign\": sign(key, salt),\n",
    "        \"bv\":MD5(\"5.0 (Windows NT 10.0; Win64; x64) AppleWebKit/537.36 (KHTML, like Gecko) Chrome/67.0.3396.99 Safari/537.36\"),\n",
    "        \"doctype\": \"json\",\n",
    "        \"version\": \"2.1\",\n",
    "        'keyfrom': 'fanyi.web',\n",
    "        'action': 'FY_BY_REALTIME',\n",
    "        'typoResult': 'false'}\n",
    "    print(data)\n",
    "\n",
    "    headers = {\n",
    "        'Accept': 'application/json, text/javascript, */*; q=0.01',\n",
    "        'Accept-Encoding': 'gzip, deflate',\n",
    "        'Accept-Language': 'zh-CN,zh;q=0.9',\n",
    "        'Connection': 'keep-alive',\n",
    "        'Content-Type': 'application/x-www-form-urlencoded; charset=UTF-8',\n",
    "        'Cookie': 'OUTFOX_SEARCH_USER_ID=-885057027@10.168.8.76; OUTFOX_SEARCH_USER_ID_NCOO=732654672.7229686; JSESSIONID=aaaxqlJYLuXkMcyMejeFw; ___rl__test__cookies=1545184070216',\n",
    "        'Host': 'fanyi.youdao.com',\n",
    "        'Origin': 'http://fanyi.youdao.com',\n",
    "        'Referer': 'http://fanyi.youdao.com/',\n",
    "        'User-Agent': 'Mozilla/5.0 (Windows NT 10.0; Win64; x64) AppleWebKit/537.36 (KHTML, like Gecko) Chrome/67.0.3396.99 Safari/537.36',\n",
    "        'X-Requested-With': 'XMLHttpRequest'}\n",
    "    html=requests.post(url,data=data,headers=headers).json()\n",
    "    print(html['translateResult'][0][0])\n",
    "\n",
    "if __name__ == '__main__':\n",
    "    translate(\"我喜欢你\")"
   ]
  },
  {
   "cell_type": "code",
   "execution_count": null,
   "metadata": {},
   "outputs": [],
   "source": []
  }
 ],
 "metadata": {
  "kernelspec": {
   "display_name": "Python 3",
   "language": "python",
   "name": "python3"
  },
  "language_info": {
   "codemirror_mode": {
    "name": "ipython",
    "version": 3
   },
   "file_extension": ".py",
   "mimetype": "text/x-python",
   "name": "python",
   "nbconvert_exporter": "python",
   "pygments_lexer": "ipython3",
   "version": "3.6.4"
  }
 },
 "nbformat": 4,
 "nbformat_minor": 2
}
